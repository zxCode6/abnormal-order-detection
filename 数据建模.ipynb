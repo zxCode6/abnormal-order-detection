{
 "cells": [
  {
   "cell_type": "code",
   "execution_count": 35,
   "id": "42005f3f",
   "metadata": {},
   "outputs": [],
   "source": [
    "import pandas as pd\n",
    "import numpy as np\n",
    "import matplotlib.pyplot as plt\n",
    "import seaborn as sns\n",
    "import sklearn\n",
    "from sklearn.ensemble import VotingClassifier # 投票法的融合（sklearn专用）\n",
    "from sklearn.ensemble import GradientBoostingClassifier as GBC # 梯度提升数\n",
    "from sklearn.ensemble import RandomForestClassifier as RFC     # 随机森林\n",
    "import xgboost as xgb\n",
    "from sklearn.model_selection import KFold     # K折交叉验证\n",
    "from sklearn.model_selection import cross_val_score # 计算交叉验证分数\n",
    "%matplotlib inline\n",
    "plt.rcParams['font.sans-serif'] = ['Simhei']\n",
    "plt.rcParams['axes.unicode_minus'] = False"
   ]
  },
  {
   "cell_type": "code",
   "execution_count": 36,
   "id": "60ef8375",
   "metadata": {},
   "outputs": [],
   "source": [
    "train = pd.read_csv('train_bf6.csv',index_col=0)\n",
    "test = pd.read_csv('test_bf6.csv',index_col=0)"
   ]
  },
  {
   "cell_type": "code",
   "execution_count": 37,
   "id": "8b44e22c",
   "metadata": {},
   "outputs": [
    {
     "data": {
      "text/html": [
       "<div>\n",
       "<style scoped>\n",
       "    .dataframe tbody tr th:only-of-type {\n",
       "        vertical-align: middle;\n",
       "    }\n",
       "\n",
       "    .dataframe tbody tr th {\n",
       "        vertical-align: top;\n",
       "    }\n",
       "\n",
       "    .dataframe thead th {\n",
       "        text-align: right;\n",
       "    }\n",
       "</style>\n",
       "<table border=\"1\" class=\"dataframe\">\n",
       "  <thead>\n",
       "    <tr style=\"text-align: right;\">\n",
       "      <th></th>\n",
       "      <th>异常</th>\n",
       "      <th>订单ID</th>\n",
       "      <th>商品一级类别</th>\n",
       "      <th>商品所属渠道</th>\n",
       "      <th>商品ID</th>\n",
       "      <th>品牌</th>\n",
       "      <th>订单金额</th>\n",
       "      <th>商品销售数量</th>\n",
       "      <th>订单渠道</th>\n",
       "      <th>支付方式</th>\n",
       "      <th>...</th>\n",
       "      <th>商品一级类别异常率</th>\n",
       "      <th>订单渠道异常率</th>\n",
       "      <th>商品所属渠道异常率</th>\n",
       "      <th>用户异常率</th>\n",
       "      <th>商品异常率</th>\n",
       "      <th>品牌异常率</th>\n",
       "      <th>金额分箱</th>\n",
       "      <th>分箱均值</th>\n",
       "      <th>分箱异常率</th>\n",
       "      <th>销量分箱</th>\n",
       "    </tr>\n",
       "  </thead>\n",
       "  <tbody>\n",
       "    <tr>\n",
       "      <th>0</th>\n",
       "      <td>1</td>\n",
       "      <td>4283851335</td>\n",
       "      <td>5</td>\n",
       "      <td>1</td>\n",
       "      <td>13080</td>\n",
       "      <td>199</td>\n",
       "      <td>766000.0</td>\n",
       "      <td>200</td>\n",
       "      <td>1</td>\n",
       "      <td>0</td>\n",
       "      <td>...</td>\n",
       "      <td>0.261565</td>\n",
       "      <td>0.167849</td>\n",
       "      <td>0.294727</td>\n",
       "      <td>0.133333</td>\n",
       "      <td>1.000000</td>\n",
       "      <td>0.340804</td>\n",
       "      <td>9.0</td>\n",
       "      <td>766000.000000</td>\n",
       "      <td>1.000000</td>\n",
       "      <td>1</td>\n",
       "    </tr>\n",
       "    <tr>\n",
       "      <th>1</th>\n",
       "      <td>1</td>\n",
       "      <td>4281111595</td>\n",
       "      <td>2</td>\n",
       "      <td>1</td>\n",
       "      <td>15075</td>\n",
       "      <td>1856</td>\n",
       "      <td>100.0</td>\n",
       "      <td>100</td>\n",
       "      <td>1</td>\n",
       "      <td>0</td>\n",
       "      <td>...</td>\n",
       "      <td>0.262840</td>\n",
       "      <td>0.167849</td>\n",
       "      <td>0.294727</td>\n",
       "      <td>0.333333</td>\n",
       "      <td>0.333333</td>\n",
       "      <td>0.250000</td>\n",
       "      <td>0.0</td>\n",
       "      <td>136.243951</td>\n",
       "      <td>0.203899</td>\n",
       "      <td>1</td>\n",
       "    </tr>\n",
       "    <tr>\n",
       "      <th>2</th>\n",
       "      <td>0</td>\n",
       "      <td>4106833871</td>\n",
       "      <td>3</td>\n",
       "      <td>1</td>\n",
       "      <td>15212</td>\n",
       "      <td>676</td>\n",
       "      <td>8800.0</td>\n",
       "      <td>100</td>\n",
       "      <td>1</td>\n",
       "      <td>0</td>\n",
       "      <td>...</td>\n",
       "      <td>0.235079</td>\n",
       "      <td>0.167849</td>\n",
       "      <td>0.294727</td>\n",
       "      <td>0.000000</td>\n",
       "      <td>0.238462</td>\n",
       "      <td>0.286842</td>\n",
       "      <td>3.0</td>\n",
       "      <td>9128.895833</td>\n",
       "      <td>0.264881</td>\n",
       "      <td>1</td>\n",
       "    </tr>\n",
       "    <tr>\n",
       "      <th>3</th>\n",
       "      <td>0</td>\n",
       "      <td>4253622967</td>\n",
       "      <td>10</td>\n",
       "      <td>1</td>\n",
       "      <td>11454</td>\n",
       "      <td>1568</td>\n",
       "      <td>880.0</td>\n",
       "      <td>100</td>\n",
       "      <td>1</td>\n",
       "      <td>0</td>\n",
       "      <td>...</td>\n",
       "      <td>0.215029</td>\n",
       "      <td>0.167849</td>\n",
       "      <td>0.294727</td>\n",
       "      <td>-1.000000</td>\n",
       "      <td>0.296296</td>\n",
       "      <td>0.298387</td>\n",
       "      <td>0.0</td>\n",
       "      <td>136.243951</td>\n",
       "      <td>0.203899</td>\n",
       "      <td>1</td>\n",
       "    </tr>\n",
       "    <tr>\n",
       "      <th>4</th>\n",
       "      <td>0</td>\n",
       "      <td>4276159555</td>\n",
       "      <td>3</td>\n",
       "      <td>0</td>\n",
       "      <td>4800</td>\n",
       "      <td>262</td>\n",
       "      <td>4900.0</td>\n",
       "      <td>100</td>\n",
       "      <td>1</td>\n",
       "      <td>0</td>\n",
       "      <td>...</td>\n",
       "      <td>0.235079</td>\n",
       "      <td>0.167849</td>\n",
       "      <td>0.178732</td>\n",
       "      <td>0.133333</td>\n",
       "      <td>0.119565</td>\n",
       "      <td>0.179739</td>\n",
       "      <td>2.0</td>\n",
       "      <td>4165.485313</td>\n",
       "      <td>0.326309</td>\n",
       "      <td>1</td>\n",
       "    </tr>\n",
       "  </tbody>\n",
       "</table>\n",
       "<p>5 rows × 27 columns</p>\n",
       "</div>"
      ],
      "text/plain": [
       "   异常        订单ID  商品一级类别  商品所属渠道   商品ID    品牌      订单金额  商品销售数量  订单渠道  支付方式  \\\n",
       "0   1  4283851335       5       1  13080   199  766000.0     200     1     0   \n",
       "1   1  4281111595       2       1  15075  1856     100.0     100     1     0   \n",
       "2   0  4106833871       3       1  15212   676    8800.0     100     1     0   \n",
       "3   0  4253622967      10       1  11454  1568     880.0     100     1     0   \n",
       "4   0  4276159555       3       0   4800   262    4900.0     100     1     0   \n",
       "\n",
       "   ...  商品一级类别异常率   订单渠道异常率  商品所属渠道异常率     用户异常率     商品异常率     品牌异常率  金额分箱  \\\n",
       "0  ...   0.261565  0.167849   0.294727  0.133333  1.000000  0.340804   9.0   \n",
       "1  ...   0.262840  0.167849   0.294727  0.333333  0.333333  0.250000   0.0   \n",
       "2  ...   0.235079  0.167849   0.294727  0.000000  0.238462  0.286842   3.0   \n",
       "3  ...   0.215029  0.167849   0.294727 -1.000000  0.296296  0.298387   0.0   \n",
       "4  ...   0.235079  0.167849   0.178732  0.133333  0.119565  0.179739   2.0   \n",
       "\n",
       "            分箱均值     分箱异常率  销量分箱  \n",
       "0  766000.000000  1.000000     1  \n",
       "1     136.243951  0.203899     1  \n",
       "2    9128.895833  0.264881     1  \n",
       "3     136.243951  0.203899     1  \n",
       "4    4165.485313  0.326309     1  \n",
       "\n",
       "[5 rows x 27 columns]"
      ]
     },
     "execution_count": 37,
     "metadata": {},
     "output_type": "execute_result"
    }
   ],
   "source": [
    "train.head()"
   ]
  },
  {
   "cell_type": "code",
   "execution_count": 38,
   "id": "62b34ea3",
   "metadata": {},
   "outputs": [
    {
     "data": {
      "text/html": [
       "<div>\n",
       "<style scoped>\n",
       "    .dataframe tbody tr th:only-of-type {\n",
       "        vertical-align: middle;\n",
       "    }\n",
       "\n",
       "    .dataframe tbody tr th {\n",
       "        vertical-align: top;\n",
       "    }\n",
       "\n",
       "    .dataframe thead th {\n",
       "        text-align: right;\n",
       "    }\n",
       "</style>\n",
       "<table border=\"1\" class=\"dataframe\">\n",
       "  <thead>\n",
       "    <tr style=\"text-align: right;\">\n",
       "      <th></th>\n",
       "      <th>异常</th>\n",
       "      <th>订单ID</th>\n",
       "      <th>商品一级类别</th>\n",
       "      <th>商品所属渠道</th>\n",
       "      <th>商品ID</th>\n",
       "      <th>品牌</th>\n",
       "      <th>订单金额</th>\n",
       "      <th>商品销售数量</th>\n",
       "      <th>订单渠道</th>\n",
       "      <th>支付方式</th>\n",
       "      <th>...</th>\n",
       "      <th>商品一级类别异常率</th>\n",
       "      <th>订单渠道异常率</th>\n",
       "      <th>商品所属渠道异常率</th>\n",
       "      <th>用户异常率</th>\n",
       "      <th>商品异常率</th>\n",
       "      <th>品牌异常率</th>\n",
       "      <th>金额分箱</th>\n",
       "      <th>分箱均值</th>\n",
       "      <th>分箱异常率</th>\n",
       "      <th>销量分箱</th>\n",
       "    </tr>\n",
       "  </thead>\n",
       "  <tbody>\n",
       "    <tr>\n",
       "      <th>0</th>\n",
       "      <td>1</td>\n",
       "      <td>4276537082</td>\n",
       "      <td>11</td>\n",
       "      <td>1</td>\n",
       "      <td>12689.0</td>\n",
       "      <td>1406.0</td>\n",
       "      <td>19900.0</td>\n",
       "      <td>100</td>\n",
       "      <td>1</td>\n",
       "      <td>0</td>\n",
       "      <td>...</td>\n",
       "      <td>0.201848</td>\n",
       "      <td>0.167849</td>\n",
       "      <td>0.294727</td>\n",
       "      <td>-1.000000</td>\n",
       "      <td>0.000000</td>\n",
       "      <td>0.083333</td>\n",
       "      <td>4.0</td>\n",
       "      <td>16872.602041</td>\n",
       "      <td>0.336735</td>\n",
       "      <td>1</td>\n",
       "    </tr>\n",
       "    <tr>\n",
       "      <th>1</th>\n",
       "      <td>0</td>\n",
       "      <td>3977175284</td>\n",
       "      <td>5</td>\n",
       "      <td>1</td>\n",
       "      <td>15601.0</td>\n",
       "      <td>339.0</td>\n",
       "      <td>990.0</td>\n",
       "      <td>100</td>\n",
       "      <td>1</td>\n",
       "      <td>0</td>\n",
       "      <td>...</td>\n",
       "      <td>0.261565</td>\n",
       "      <td>0.167849</td>\n",
       "      <td>0.294727</td>\n",
       "      <td>-1.000000</td>\n",
       "      <td>0.153846</td>\n",
       "      <td>0.372263</td>\n",
       "      <td>1.0</td>\n",
       "      <td>1775.061962</td>\n",
       "      <td>0.246125</td>\n",
       "      <td>1</td>\n",
       "    </tr>\n",
       "    <tr>\n",
       "      <th>2</th>\n",
       "      <td>0</td>\n",
       "      <td>4245023523</td>\n",
       "      <td>2</td>\n",
       "      <td>1</td>\n",
       "      <td>15075.0</td>\n",
       "      <td>1856.0</td>\n",
       "      <td>100.0</td>\n",
       "      <td>100</td>\n",
       "      <td>1</td>\n",
       "      <td>0</td>\n",
       "      <td>...</td>\n",
       "      <td>0.262840</td>\n",
       "      <td>0.167849</td>\n",
       "      <td>0.294727</td>\n",
       "      <td>0.333333</td>\n",
       "      <td>0.333333</td>\n",
       "      <td>0.250000</td>\n",
       "      <td>0.0</td>\n",
       "      <td>136.243951</td>\n",
       "      <td>0.203899</td>\n",
       "      <td>1</td>\n",
       "    </tr>\n",
       "    <tr>\n",
       "      <th>3</th>\n",
       "      <td>0</td>\n",
       "      <td>4284515355</td>\n",
       "      <td>9</td>\n",
       "      <td>1</td>\n",
       "      <td>NaN</td>\n",
       "      <td>393.0</td>\n",
       "      <td>21450.0</td>\n",
       "      <td>50</td>\n",
       "      <td>1</td>\n",
       "      <td>0</td>\n",
       "      <td>...</td>\n",
       "      <td>0.193856</td>\n",
       "      <td>0.167849</td>\n",
       "      <td>0.294727</td>\n",
       "      <td>-1.000000</td>\n",
       "      <td>-1.000000</td>\n",
       "      <td>0.162162</td>\n",
       "      <td>4.0</td>\n",
       "      <td>16872.602041</td>\n",
       "      <td>0.336735</td>\n",
       "      <td>1</td>\n",
       "    </tr>\n",
       "    <tr>\n",
       "      <th>4</th>\n",
       "      <td>0</td>\n",
       "      <td>4284735147</td>\n",
       "      <td>3</td>\n",
       "      <td>1</td>\n",
       "      <td>15111.0</td>\n",
       "      <td>797.0</td>\n",
       "      <td>1950.0</td>\n",
       "      <td>50</td>\n",
       "      <td>1</td>\n",
       "      <td>0</td>\n",
       "      <td>...</td>\n",
       "      <td>0.235079</td>\n",
       "      <td>0.167849</td>\n",
       "      <td>0.294727</td>\n",
       "      <td>-1.000000</td>\n",
       "      <td>0.248485</td>\n",
       "      <td>0.240741</td>\n",
       "      <td>1.0</td>\n",
       "      <td>1775.061962</td>\n",
       "      <td>0.246125</td>\n",
       "      <td>1</td>\n",
       "    </tr>\n",
       "  </tbody>\n",
       "</table>\n",
       "<p>5 rows × 27 columns</p>\n",
       "</div>"
      ],
      "text/plain": [
       "   异常        订单ID  商品一级类别  商品所属渠道     商品ID      品牌     订单金额  商品销售数量  订单渠道  \\\n",
       "0   1  4276537082      11       1  12689.0  1406.0  19900.0     100     1   \n",
       "1   0  3977175284       5       1  15601.0   339.0    990.0     100     1   \n",
       "2   0  4245023523       2       1  15075.0  1856.0    100.0     100     1   \n",
       "3   0  4284515355       9       1      NaN   393.0  21450.0      50     1   \n",
       "4   0  4284735147       3       1  15111.0   797.0   1950.0      50     1   \n",
       "\n",
       "   支付方式  ...  商品一级类别异常率   订单渠道异常率  商品所属渠道异常率     用户异常率     商品异常率     品牌异常率  \\\n",
       "0     0  ...   0.201848  0.167849   0.294727 -1.000000  0.000000  0.083333   \n",
       "1     0  ...   0.261565  0.167849   0.294727 -1.000000  0.153846  0.372263   \n",
       "2     0  ...   0.262840  0.167849   0.294727  0.333333  0.333333  0.250000   \n",
       "3     0  ...   0.193856  0.167849   0.294727 -1.000000 -1.000000  0.162162   \n",
       "4     0  ...   0.235079  0.167849   0.294727 -1.000000  0.248485  0.240741   \n",
       "\n",
       "   金额分箱          分箱均值     分箱异常率  销量分箱  \n",
       "0   4.0  16872.602041  0.336735     1  \n",
       "1   1.0   1775.061962  0.246125     1  \n",
       "2   0.0    136.243951  0.203899     1  \n",
       "3   4.0  16872.602041  0.336735     1  \n",
       "4   1.0   1775.061962  0.246125     1  \n",
       "\n",
       "[5 rows x 27 columns]"
      ]
     },
     "execution_count": 38,
     "metadata": {},
     "output_type": "execute_result"
    }
   ],
   "source": [
    "test.head()"
   ]
  },
  {
   "cell_type": "code",
   "execution_count": 39,
   "id": "8419d2d0",
   "metadata": {},
   "outputs": [],
   "source": [
    "Xtrain = train.iloc[:,1:]\n",
    "Xtest = test.iloc[:,1:]\n",
    "Ytrain = train.iloc[:,0]\n",
    "Ytest = test.iloc[:,0]"
   ]
  },
  {
   "cell_type": "code",
   "execution_count": 40,
   "id": "ec64ca63",
   "metadata": {},
   "outputs": [],
   "source": [
    "dtrain = xgb.DMatrix(Xtrain, Ytrain)\n",
    "dtest = xgb.DMatrix(Xtest, Ytest)"
   ]
  },
  {
   "cell_type": "code",
   "execution_count": 41,
   "id": "c17f2403",
   "metadata": {},
   "outputs": [],
   "source": [
    "# 使用随机森林与GBDC分别进行预测观察结果"
   ]
  },
  {
   "cell_type": "code",
   "execution_count": 42,
   "id": "5a9092f1",
   "metadata": {},
   "outputs": [],
   "source": [
    "rf = RFC(n_estimators=200, random_state=1412)\n",
    "gbdc = GBC(n_estimators=200, random_state=1412)"
   ]
  },
  {
   "cell_type": "code",
   "execution_count": 43,
   "id": "8c59ceae",
   "metadata": {},
   "outputs": [],
   "source": [
    "# 依然使用和建立benchmark时一模一样的最简单的KFold交叉验证，随机数种子也保持一致\n",
    "cv = KFold(n_splits=5, shuffle=True, random_state=1412)"
   ]
  },
  {
   "cell_type": "code",
   "execution_count": 44,
   "id": "29dc0dcb",
   "metadata": {},
   "outputs": [],
   "source": [
    "result_gbdc_cv = cross_val_score(gbdc, Xtrain, Ytrain, cv=cv)"
   ]
  },
  {
   "cell_type": "code",
   "execution_count": 45,
   "id": "d674306a",
   "metadata": {},
   "outputs": [
    {
     "data": {
      "text/plain": [
       "0.8797078430222396"
      ]
     },
     "execution_count": 45,
     "metadata": {},
     "output_type": "execute_result"
    }
   ],
   "source": [
    "result_gbdc_cv.mean()"
   ]
  },
  {
   "cell_type": "code",
   "execution_count": 46,
   "id": "43a7bbf9",
   "metadata": {},
   "outputs": [
    {
     "data": {
      "text/plain": [
       "1.5357936616575313e-06"
      ]
     },
     "execution_count": 46,
     "metadata": {},
     "output_type": "execute_result"
    }
   ],
   "source": [
    "result_gbdc_cv.var()"
   ]
  },
  {
   "cell_type": "code",
   "execution_count": 47,
   "id": "6ada16a6",
   "metadata": {},
   "outputs": [],
   "source": [
    "result_rf_cv = cross_val_score(rf, Xtrain, Ytrain, cv=cv)"
   ]
  },
  {
   "cell_type": "code",
   "execution_count": 48,
   "id": "3331c482",
   "metadata": {},
   "outputs": [
    {
     "data": {
      "text/plain": [
       "0.8753973350431382"
      ]
     },
     "execution_count": 48,
     "metadata": {},
     "output_type": "execute_result"
    }
   ],
   "source": [
    "result_rf_cv.mean()"
   ]
  },
  {
   "cell_type": "code",
   "execution_count": 49,
   "id": "2eb1b758",
   "metadata": {},
   "outputs": [
    {
     "data": {
      "text/plain": [
       "1.3331735987407713e-06"
      ]
     },
     "execution_count": 49,
     "metadata": {},
     "output_type": "execute_result"
    }
   ],
   "source": [
    "result_rf_cv.var()"
   ]
  },
  {
   "cell_type": "code",
   "execution_count": 50,
   "id": "c381a432",
   "metadata": {},
   "outputs": [],
   "source": [
    "# 使用XGBoost观察结果"
   ]
  },
  {
   "cell_type": "code",
   "execution_count": 51,
   "id": "2f218396",
   "metadata": {},
   "outputs": [],
   "source": [
    "param = {\n",
    "    'objective': 'binary:logistic', #交叉熵损失\n",
    "    'eval_metric': 'error', # 不支持准确率，在这里使用的是错误率\n",
    "    'seed': 1412\n",
    "}"
   ]
  },
  {
   "cell_type": "code",
   "execution_count": 52,
   "id": "594837ce",
   "metadata": {},
   "outputs": [],
   "source": [
    "xgbcv = xgb.cv(param, dtrain, num_boost_round=200,#xgboost中的树\n",
    "              nfold=5, seed = 1412, shuffle=True)"
   ]
  },
  {
   "cell_type": "code",
   "execution_count": 53,
   "id": "5e1f9066",
   "metadata": {},
   "outputs": [
    {
     "data": {
      "text/plain": [
       "0.8760504418818318"
      ]
     },
     "execution_count": 53,
     "metadata": {},
     "output_type": "execute_result"
    }
   ],
   "source": [
    "1 - xgbcv.loc[199,'test-error-mean']"
   ]
  },
  {
   "cell_type": "markdown",
   "id": "c10ae340",
   "metadata": {},
   "source": [
    "可以看到，比起benchmark的平均准确率83.104%，方差2.45*10^-6，现在的模型无论是准确率均值还是方差都得到了极大地提升。现在再观察三个模型的AUC分数如何"
   ]
  },
  {
   "cell_type": "code",
   "execution_count": 54,
   "id": "d348325c",
   "metadata": {},
   "outputs": [],
   "source": [
    "# 每次训练完毕后需要重新设置类，否则会在原来的基础上进行训练\n",
    "rf = RFC(n_estimators=200, random_state=1412)\n",
    "gbdc = GBC(n_estimators=200, random_state=1412)\n",
    "cv = KFold(n_splits=5, shuffle=True, random_state=1412)"
   ]
  },
  {
   "cell_type": "code",
   "execution_count": 55,
   "id": "ccc8537c",
   "metadata": {},
   "outputs": [],
   "source": [
    "result_gbdc_cv = cross_val_score(gbdc, Xtrain, Ytrain, cv=cv, scoring='roc_auc')"
   ]
  },
  {
   "cell_type": "code",
   "execution_count": 56,
   "id": "b0c4dd43",
   "metadata": {},
   "outputs": [
    {
     "data": {
      "text/plain": [
       "0.9350844719547844"
      ]
     },
     "execution_count": 56,
     "metadata": {},
     "output_type": "execute_result"
    }
   ],
   "source": [
    "result_gbdc_cv.mean()"
   ]
  },
  {
   "cell_type": "code",
   "execution_count": 57,
   "id": "3b86f00c",
   "metadata": {},
   "outputs": [
    {
     "data": {
      "text/plain": [
       "4.918121526815208e-07"
      ]
     },
     "execution_count": 57,
     "metadata": {},
     "output_type": "execute_result"
    }
   ],
   "source": [
    "result_gbdc_cv.var()"
   ]
  },
  {
   "cell_type": "code",
   "execution_count": 58,
   "id": "d4df378b",
   "metadata": {},
   "outputs": [],
   "source": [
    "result_rf_cv = cross_val_score(rf, Xtrain, Ytrain, cv=cv, scoring='roc_auc')"
   ]
  },
  {
   "cell_type": "code",
   "execution_count": 59,
   "id": "39a45975",
   "metadata": {},
   "outputs": [],
   "source": [
    "param2 = {\n",
    "    'objective': 'binary:logistic', #交叉熵损失\n",
    "    'eval_metric': 'auc', # 模型评估指标\n",
    "    'seed': 1412\n",
    "}"
   ]
  },
  {
   "cell_type": "code",
   "execution_count": 60,
   "id": "2a2eda78",
   "metadata": {},
   "outputs": [],
   "source": [
    "xgbcv = xgb.cv(param2, dtrain, num_boost_round=200, nfold=5, seed=1412, shuffle=True)"
   ]
  },
  {
   "cell_type": "code",
   "execution_count": 61,
   "id": "0739821a",
   "metadata": {},
   "outputs": [
    {
     "data": {
      "text/plain": [
       "0.932221733732602"
      ]
     },
     "execution_count": 61,
     "metadata": {},
     "output_type": "execute_result"
    }
   ],
   "source": [
    "xgbcv.loc[199, 'test-auc-mean']"
   ]
  },
  {
   "cell_type": "code",
   "execution_count": 62,
   "id": "6ae4de66",
   "metadata": {},
   "outputs": [
    {
     "data": {
      "text/plain": [
       "1.2155223567341144e-06"
      ]
     },
     "execution_count": 62,
     "metadata": {},
     "output_type": "execute_result"
    }
   ],
   "source": [
    "xgbcv.loc[199, 'test-auc-std']**2"
   ]
  },
  {
   "cell_type": "markdown",
   "id": "0c9f2a07",
   "metadata": {},
   "source": [
    "benchmark的交叉验证平均为0.8589，方差1.76*10^-6，现在三个模型的AUC分数也得到了大幅提升，方差变小了8到10倍，可见特征工程是成功的。现在基于目前的水平，可以在此基础上继续调参，来观察模型的结果"
   ]
  },
  {
   "cell_type": "markdown",
   "id": "b5fbb50c",
   "metadata": {},
   "source": [
    "### 依照AUC，使用学习曲线进行调参"
   ]
  },
  {
   "cell_type": "markdown",
   "id": "5610d6bf",
   "metadata": {},
   "source": [
    "集成模型的默认参数都是基于经验精心设计的，当我们使用默认参数时，模型就已经达到了某种上限，因此调参在集成模型上基本是对结果进行‘微调’,集成模型调参之后的表现不会与默认参数的表现差距太大。因此，为了大幅提升模型的效果，我们需要考虑一些激进的方案\n",
    "\n",
    "对于一个不均衡的样本来说，处理样本不均衡问题往往能大幅提升模型auc和准确率。"
   ]
  },
  {
   "cell_type": "code",
   "execution_count": 63,
   "id": "ada773f2",
   "metadata": {},
   "outputs": [
    {
     "data": {
      "text/plain": [
       "0.2167784212130448"
      ]
     },
     "execution_count": 63,
     "metadata": {},
     "output_type": "execute_result"
    }
   ],
   "source": [
    "(Ytrain==1).sum() / Ytrain.shape[0]"
   ]
  },
  {
   "cell_type": "markdown",
   "id": "a26e1da0",
   "metadata": {},
   "source": [
    "对随机森林来说，我们可以试着调用参数class_weight。在class_weight中输入{类别1：占比，类别2：占比}就可以设定训练中两个标签类别的比例，或者使用'balance'模式。\n",
    "\n",
    "在balance模式下：\n",
    "    0的比例为 样本量/（类别总量*标签中为0的样本量）\n",
    "    1的比例为 样本量 / （类别总量*标签中为1的样本量）"
   ]
  },
  {
   "cell_type": "code",
   "execution_count": 64,
   "id": "92bc2d43",
   "metadata": {},
   "outputs": [
    {
     "name": "stdout",
     "output_type": "stream",
     "text": [
      "{0: 0.5, 1: 0.5}\n",
      "\t rf_mean:0.87692\n",
      "\t rf_var:4.788624387804161e-06\n",
      "{0: 0.5, 1: 1}\n",
      "\t rf_mean:0.87771\n",
      "\t rf_var:6.217835483804769e-06\n",
      "balanced\n",
      "\t rf_mean:0.87602\n",
      "\t rf_var:5.909270038385735e-06\n",
      "{0: 0.5, 1: 2}\n",
      "\t rf_mean:0.87701\n",
      "\t rf_var:6.4150115691402e-06\n",
      "{0: 0.5, 1: 2.5}\n",
      "\t rf_mean:0.87439\n",
      "\t rf_var:6.80003211246821e-06\n"
     ]
    }
   ],
   "source": [
    "for weights in [{0:0.5, 1:0.5},{0:0.5, 1:1}, 'balanced', {0:0.5, 1:2}, {0:0.5, 1: 2.5}]:\n",
    "    cv = KFold(n_splits=5, shuffle=True, random_state=1412)\n",
    "    rf = RFC(n_estimators=5, random_state=1412, class_weight=weights)\n",
    "    rfcv = cross_val_score(rf, Xtrain, Ytrain, cv = cv, scoring='roc_auc')\n",
    "    \n",
    "    print(weights)\n",
    "    print('\\t rf_mean:{:.5f}'.format(rfcv.mean()))\n",
    "    print('\\t rf_var:{}'.format(rfcv.var()))"
   ]
  },
  {
   "cell_type": "code",
   "execution_count": 66,
   "id": "79f7ebe3",
   "metadata": {},
   "outputs": [
    {
     "name": "stdout",
     "output_type": "stream",
     "text": [
      "0.5\n",
      "\t xgb_mean:0.93248\n",
      "\t xgb_std:1.3052234454075425e-06\n",
      "0.3\n",
      "\t xgb_mean:0.93308\n",
      "\t xgb_std:1.9070475933052777e-06\n",
      "0.1\n",
      "\t xgb_mean:0.93412\n",
      "\t xgb_std:2.91245161035778e-06\n"
     ]
    }
   ],
   "source": [
    "for weights in [0.5, 0.3, 0.1]:\n",
    "    num_round = 200\n",
    "    param = {'objective':'binary:logistic','eval_metric':'auc','scale_pos_weight':weights}\n",
    "    xgbcv = xgb.cv(param, dtrain, num_boost_round=num_round, nfold=5, seed=1442, shuffle=True)\n",
    "    \n",
    "    print(weights)\n",
    "    print('\\t xgb_mean:{:.5f}'.format(xgbcv.loc[num_round-1, 'test-auc-mean']))\n",
    "    print('\\t xgb_std:{}'.format((xgbcv.loc[num_round-1,'test-auc-std'])**2))"
   ]
  },
  {
   "cell_type": "code",
   "execution_count": 67,
   "id": "5e739026",
   "metadata": {},
   "outputs": [
    {
     "name": "stdout",
     "output_type": "stream",
     "text": [
      "0.05\n",
      "\t xgb_mean:0.93463\n",
      "\t xgb_std:2.1563705777309015e-06\n",
      "0.03\n",
      "\t xgb_mean:0.93469\n",
      "\t xgb_std:2.7568053242766273e-06\n",
      "0.01\n",
      "\t xgb_mean:0.93458\n",
      "\t xgb_std:2.6796508301997995e-06\n"
     ]
    }
   ],
   "source": [
    "for weights in [0.05, 0.03, 0.01]:\n",
    "    num_round = 200\n",
    "    param = {'objective':'binary:logistic','eval_metric':'auc','scale_pos_weight':weights}\n",
    "    xgbcv = xgb.cv(param, dtrain, num_boost_round=num_round, nfold=5, seed=1442, shuffle=True)\n",
    "    \n",
    "    print(weights)\n",
    "    print('\\t xgb_mean:{:.5f}'.format(xgbcv.loc[num_round-1, 'test-auc-mean']))\n",
    "    print('\\t xgb_std:{}'.format((xgbcv.loc[num_round-1,'test-auc-std'])**2))"
   ]
  },
  {
   "cell_type": "markdown",
   "id": "46b229df",
   "metadata": {},
   "source": [
    "#### 树的数量"
   ]
  },
  {
   "cell_type": "markdown",
   "id": "729c3ea9",
   "metadata": {},
   "source": [
    "随机森林调参"
   ]
  },
  {
   "cell_type": "code",
   "execution_count": 68,
   "id": "02c638f0",
   "metadata": {},
   "outputs": [
    {
     "name": "stdout",
     "output_type": "stream",
     "text": [
      "25\n",
      "\t rf_mean:0.91957\n",
      "\t rf_var:2.960612488993737e-06\n",
      "50\n",
      "\t rf_mean:0.92477\n",
      "\t rf_var:2.280498676755502e-06\n",
      "100\n",
      "\t rf_mean:0.92747\n",
      "\t rf_var:1.7989561191375065e-06\n",
      "200\n",
      "\t rf_mean:0.92875\n",
      "\t rf_var:2.1791149965394454e-06\n"
     ]
    }
   ],
   "source": [
    "for num_round in [25, 50, 100, 200]:\n",
    "    rf = RFC(n_estimators=num_round, random_state=1412, class_weight={0:1, 1:5})\n",
    "    cv = KFold(n_splits=5, shuffle=True, random_state=1412)\n",
    "    rf_cv = cross_val_score(rf, Xtrain, Ytrain, cv=cv, scoring='roc_auc')\n",
    "    \n",
    "    print(num_round)\n",
    "    print('\\t rf_mean:{:.5f}'.format(rf_cv.mean()))\n",
    "    print('\\t rf_var:{}'.format(rf_cv.var()))"
   ]
  },
  {
   "cell_type": "code",
   "execution_count": 69,
   "id": "abbc8f29",
   "metadata": {},
   "outputs": [
    {
     "name": "stdout",
     "output_type": "stream",
     "text": [
      "300\n",
      "\t rf_mean:0.92907\n",
      "\t rf_var:2.0491863316897384e-06\n",
      "400\n",
      "\t rf_mean:0.92931\n",
      "\t rf_var:1.973028169956946e-06\n",
      "500\n",
      "\t rf_mean:0.92947\n",
      "\t rf_var:2.0358324266086187e-06\n"
     ]
    }
   ],
   "source": [
    "for num_round in [300, 400, 500]:\n",
    "    cv = KFold(n_splits=5, shuffle=True, random_state=1412)\n",
    "    rf = RFC(n_estimators=num_round, random_state=1412, class_weight={0:1, 1:5})\n",
    "    rf_cv = cross_val_score(rf, Xtrain, Ytrain, cv=cv, scoring='roc_auc')\n",
    "    \n",
    "    print(num_round)\n",
    "    print('\\t rf_mean:{:.5f}'.format(rf_cv.mean()))\n",
    "    print('\\t rf_var:{}'.format(rf_cv.var()))"
   ]
  },
  {
   "cell_type": "code",
   "execution_count": 70,
   "id": "4b7b975f",
   "metadata": {},
   "outputs": [],
   "source": [
    "rf = RFC(n_estimators=500, random_state=1412, class_weight={0:1,1:5})"
   ]
  },
  {
   "cell_type": "markdown",
   "id": "10a90f0e",
   "metadata": {},
   "source": [
    "#### GBDT调参"
   ]
  },
  {
   "cell_type": "code",
   "execution_count": 71,
   "id": "28a6c72d",
   "metadata": {},
   "outputs": [
    {
     "name": "stdout",
     "output_type": "stream",
     "text": [
      "25\n",
      "\t gbdt_mean:0.92294\n",
      "\t gbdt_var:8.344639149241532e-07\n",
      "50\n",
      "\t gbdt_mean:0.92930\n",
      "\t gbdt_var:4.104757449478226e-07\n",
      "100\n",
      "\t gbdt_mean:0.93333\n",
      "\t gbdt_var:3.4205404458299343e-07\n",
      "200\n",
      "\t gbdt_mean:0.93508\n",
      "\t gbdt_var:4.918121526815208e-07\n",
      "300\n",
      "\t gbdt_mean:0.93599\n",
      "\t gbdt_var:5.262058356572777e-07\n",
      "400\n",
      "\t gbdt_mean:0.93639\n",
      "\t gbdt_var:5.762201477156985e-07\n",
      "500\n",
      "\t gbdt_mean:0.93656\n",
      "\t gbdt_var:5.344904573177395e-07\n"
     ]
    }
   ],
   "source": [
    "for num_round in [25, 50, 100, 200, 300, 400, 500]:\n",
    "    cv = KFold(n_splits=5, shuffle=True, random_state=1412)\n",
    "    gbdt = GBC(n_estimators=num_round, random_state=1412)\n",
    "    gbdt_cv = cross_val_score(gbdt, Xtrain, Ytrain, cv=cv, scoring='roc_auc')\n",
    "    \n",
    "    print(num_round)\n",
    "    print('\\t gbdt_mean:{:.5f}'.format(gbdt_cv.mean()))\n",
    "    print('\\t gbdt_var:{}'.format(gbdt_cv.var()))"
   ]
  },
  {
   "cell_type": "markdown",
   "id": "47826db1",
   "metadata": {},
   "source": [
    "GBDT的AUC随着树的增多而变大，但考虑到后续可使用学习率调参，为了后续节省时间，n_estimators = 200"
   ]
  },
  {
   "cell_type": "code",
   "execution_count": 72,
   "id": "1051b78a",
   "metadata": {},
   "outputs": [],
   "source": [
    "gbdt = GBC(n_estimators=200, random_state=1412)"
   ]
  },
  {
   "cell_type": "markdown",
   "id": "511be4c6",
   "metadata": {},
   "source": [
    "#### XGBoost调参"
   ]
  },
  {
   "cell_type": "code",
   "execution_count": 73,
   "id": "6a16624a",
   "metadata": {},
   "outputs": [
    {
     "name": "stdout",
     "output_type": "stream",
     "text": [
      "40 xgb:0.93675\n",
      "60 xgb:0.93667\n",
      "80 xgb:0.93638\n"
     ]
    }
   ],
   "source": [
    "for num_round in [40, 60, 80]:\n",
    "    param = {\"objective\":'binary:logistic',\"eval_metric\": \"auc\",\"scale_pos_weight\": 0.5}\n",
    "    xgbcv = xgb.cv(param, dtrain, num_boost_round=num_round, nfold=5, seed=1412, shuffle=True)\n",
    "    print(num_round, \"xgb:{:.5f}\".format(xgbcv.loc[num_round-1,\"test-auc-mean\"]))"
   ]
  },
  {
   "cell_type": "markdown",
   "id": "0575f635",
   "metadata": {},
   "source": [
    "### 学习率"
   ]
  },
  {
   "cell_type": "markdown",
   "id": "ad01488a",
   "metadata": {},
   "source": [
    "随机森林没有调整学习率的参数，XGBoost与GBDT拥有，其中GBDT的参数是learning_rate（默认0.1），XGBoost的参数是eta（默认0.3）,尝试将学习率的取值向两边拓展"
   ]
  },
  {
   "cell_type": "markdown",
   "id": "d4f118f2",
   "metadata": {},
   "source": [
    "随机森林（无法调参）"
   ]
  },
  {
   "cell_type": "markdown",
   "id": "3461ca56",
   "metadata": {},
   "source": [
    "GBDT"
   ]
  },
  {
   "cell_type": "code",
   "execution_count": 75,
   "id": "e5bb6b9a",
   "metadata": {},
   "outputs": [
    {
     "name": "stdout",
     "output_type": "stream",
     "text": [
      "0.05\n",
      "\t gbdt_mean:0.93331\n",
      "\t gbdt_var:3.8601450408924676e-07\n",
      "0.1\n",
      "\t gbdt_mean:0.93508\n",
      "\t gbdt_var:4.918121526815208e-07\n",
      "0.3\n",
      "\t gbdt_mean:0.93576\n",
      "\t gbdt_var:7.4610850412776e-07\n",
      "0.5\n",
      "\t gbdt_mean:0.93435\n",
      "\t gbdt_var:1.169508246046095e-06\n"
     ]
    }
   ],
   "source": [
    "for lr in [0.05,0.1,0.3,0.5]:\n",
    "    cv = KFold(n_splits=5, shuffle=True, random_state=1412)\n",
    "    gbdt = GBC(n_estimators=200, random_state=1412, learning_rate=lr)\n",
    "    gbdt_cv = cross_val_score(gbdt, Xtrain, Ytrain, cv=cv, scoring='roc_auc')\n",
    "    \n",
    "    print(lr)\n",
    "    print('\\t gbdt_mean:{:.5f}'.format(gbdt_cv.mean()))\n",
    "    print('\\t gbdt_var:{}'.format(gbdt_cv.var()))"
   ]
  },
  {
   "cell_type": "code",
   "execution_count": 76,
   "id": "59c2df5f",
   "metadata": {},
   "outputs": [
    {
     "name": "stdout",
     "output_type": "stream",
     "text": [
      "0.25\n",
      "\t gbdt_mean:0.93616\n",
      "\t gbdt_var:3.8304005825755627e-07\n",
      "0.27\n",
      "\t gbdt_mean:0.93619\n",
      "\t gbdt_var:9.093100214831573e-07\n",
      "0.31\n",
      "\t gbdt_mean:0.93603\n",
      "\t gbdt_var:5.083136173604246e-07\n",
      "0.33\n",
      "\t gbdt_mean:0.93618\n",
      "\t gbdt_var:1.151476272575224e-06\n",
      "0.35\n",
      "\t gbdt_mean:0.93563\n",
      "\t gbdt_var:7.378146262465456e-07\n"
     ]
    }
   ],
   "source": [
    "for lr in [0.25,0.27,0.31,0.33, 0.35]:\n",
    "    cv = KFold(n_splits=5, shuffle=True, random_state=1412)\n",
    "    gbdt = GBC(n_estimators=200, random_state=1412, learning_rate=lr)\n",
    "    gbdt_cv = cross_val_score(gbdt, Xtrain, Ytrain, cv=cv, scoring='roc_auc')\n",
    "    \n",
    "    print(lr)\n",
    "    print('\\t gbdt_mean:{:.5f}'.format(gbdt_cv.mean()))\n",
    "    print('\\t gbdt_var:{}'.format(gbdt_cv.var()))"
   ]
  },
  {
   "cell_type": "markdown",
   "id": "2f26b944",
   "metadata": {},
   "source": [
    "GBDT的学习率采用learning_rate=0.27："
   ]
  },
  {
   "cell_type": "code",
   "execution_count": 77,
   "id": "0dddf0ce",
   "metadata": {},
   "outputs": [],
   "source": [
    "gbdt = GBC(n_estimators=200, random_state=1412, learning_rate=0.27)"
   ]
  },
  {
   "cell_type": "markdown",
   "id": "020c97df",
   "metadata": {},
   "source": [
    "#### XGBoost"
   ]
  },
  {
   "cell_type": "code",
   "execution_count": 78,
   "id": "c78e4a0e",
   "metadata": {},
   "outputs": [
    {
     "name": "stdout",
     "output_type": "stream",
     "text": [
      "0.05 xgb:0.93261\n",
      "0.1 xgb:0.93447\n",
      "0.3 xgb:0.93675\n",
      "0.5 xgb:0.93485\n"
     ]
    }
   ],
   "source": [
    "for lr in [0.05,0.1,0.3,0.5]:\n",
    "    param = {\"objective\":'binary:logistic', \"eval_metric\": \"auc\", \"scale_pos_weight\": 0.5, \"eta\":lr}\n",
    "    xgbcv = xgb.cv(param, dtrain , num_boost_round=40, nfold=5, seed=1412, shuffle=True)\n",
    "    print(lr, \"xgb:{:.5f}\".format(xgbcv.loc[40-1,\"test-auc-mean\"]))"
   ]
  },
  {
   "cell_type": "code",
   "execution_count": 79,
   "id": "68b6c808",
   "metadata": {},
   "outputs": [
    {
     "name": "stdout",
     "output_type": "stream",
     "text": [
      "0.25 xgb:0.93656\n",
      "0.28 xgb:0.93700\n",
      "0.32 xgb:0.93681\n",
      "0.35 xgb:0.93641\n"
     ]
    }
   ],
   "source": [
    "for lr in [0.25,0.28,0.32,0.35]:\n",
    "    param = {\"objective\":'binary:logistic', \"eval_metric\": \"auc\", \"scale_pos_weight\": 0.5, \"eta\":lr}    \n",
    "    xgbcv = xgb.cv(param, dtrain , num_boost_round=40, nfold=5, seed=1412, shuffle=True)    \n",
    "    print(lr, \"xgb:{:.5f}\".format(xgbcv.loc[40-1,\"test-auc-mean\"]))"
   ]
  },
  {
   "cell_type": "markdown",
   "id": "05f1816f",
   "metadata": {},
   "source": [
    "XGBoost的学习率采用\"eta\":0.30"
   ]
  },
  {
   "cell_type": "code",
   "execution_count": 80,
   "id": "e72ee9d5",
   "metadata": {},
   "outputs": [],
   "source": [
    "param = {\"objective\":'binary:logistic', \"eval_metric\": \"auc\", \"scale_pos_weight\": 0.5, \"eta\":0.30}"
   ]
  },
  {
   "cell_type": "markdown",
   "id": "4077c4f5",
   "metadata": {},
   "source": [
    "#### 对抗过拟合(max_depth)"
   ]
  },
  {
   "cell_type": "code",
   "execution_count": 81,
   "id": "1c0eafbf",
   "metadata": {},
   "outputs": [
    {
     "name": "stdout",
     "output_type": "stream",
     "text": [
      "5\n",
      "\t rf:0.90850\n",
      "\t gbdt:0.93514\n",
      "\t xgb:0.93614\n",
      "10\n",
      "\t rf:0.93042\n",
      "\t gbdt:0.92789\n",
      "\t xgb:0.93482\n",
      "15\n",
      "\t rf:0.93154\n",
      "\t gbdt:0.92594\n",
      "\t xgb:0.92982\n",
      "20\n",
      "\t rf:0.92966\n",
      "\t gbdt:0.92670\n",
      "\t xgb:0.92901\n",
      "25\n",
      "\t rf:0.92954\n",
      "\t gbdt:0.92529\n",
      "\t xgb:0.92968\n"
     ]
    }
   ],
   "source": [
    "for max_depth in [5,10,15,20,25]:\n",
    "    cv = KFold(n_splits=5, shuffle=True, random_state=1412)\n",
    "    \n",
    "    rf = RFC(n_estimators = 500,random_state=1412 ,class_weight = {0:1, 1:5}, max_depth = max_depth)\n",
    "    gbdt = GBC(n_estimators = 200, random_state = 1412, learning_rate = 0.27, max_depth = max_depth)\n",
    "    param = {\"objective\":'binary:logistic', \"eval_metric\": \"auc\", \"scale_pos_weight\": 0.5, \"eta\":0.3, \"max_depth\" : max_depth}\n",
    "    \n",
    "    rf_cv = cross_val_score(rf, Xtrain, Ytrain, cv = cv, scoring='roc_auc')\n",
    "    gbdt_cv = cross_val_score(gbdt, Xtrain, Ytrain, cv = cv, scoring='roc_auc')\n",
    "    xgbcv = xgb.cv(param, dtrain, num_boost_round=40, nfold=5, seed = 1412, shuffle=True)\n",
    "    \n",
    "    print(max_depth)\n",
    "    print(\"\\t rf:{:.5f}\".format(rf_cv.mean()))\n",
    "    print(\"\\t gbdt:{:.5f}\".format(gbdt_cv.mean()))\n",
    "    print(\"\\t xgb:{:.5f}\".format(xgbcv.loc[40-1,\"test-auc-mean\"]))"
   ]
  },
  {
   "cell_type": "code",
   "execution_count": 86,
   "id": "82ba6a39",
   "metadata": {},
   "outputs": [],
   "source": [
    "rf = RFC(n_estimators = 500, random_state=1412, class_weight = {0:1, 1:5}, max_depth = 13)"
   ]
  },
  {
   "cell_type": "markdown",
   "id": "d061a5cb",
   "metadata": {},
   "source": [
    "查看各个特征从重要性："
   ]
  },
  {
   "cell_type": "code",
   "execution_count": 87,
   "id": "07370b6e",
   "metadata": {},
   "outputs": [
    {
     "ename": "NotFittedError",
     "evalue": "This RandomForestClassifier instance is not fitted yet. Call 'fit' with appropriate arguments before using this estimator.",
     "output_type": "error",
     "traceback": [
      "\u001b[1;31m---------------------------------------------------------------------------\u001b[0m",
      "\u001b[1;31mNotFittedError\u001b[0m                            Traceback (most recent call last)",
      "Input \u001b[1;32mIn [87]\u001b[0m, in \u001b[0;36m<cell line: 1>\u001b[1;34m()\u001b[0m\n\u001b[1;32m----> 1\u001b[0m FeatureImportance \u001b[38;5;241m=\u001b[39m pd\u001b[38;5;241m.\u001b[39mconcat([pd\u001b[38;5;241m.\u001b[39mDataFrame(Xtrain\u001b[38;5;241m.\u001b[39mcolumns), pd\u001b[38;5;241m.\u001b[39mDataFrame(\u001b[43mrf\u001b[49m\u001b[38;5;241;43m.\u001b[39;49m\u001b[43mfeature_importances_\u001b[49m), pd\u001b[38;5;241m.\u001b[39mDataFrame(gbdt\u001b[38;5;241m.\u001b[39mfeature_importances_)], axis \u001b[38;5;241m=\u001b[39m\u001b[38;5;241m1\u001b[39m)\n\u001b[0;32m      2\u001b[0m FeatureImportance\u001b[38;5;241m.\u001b[39mcolumns \u001b[38;5;241m=\u001b[39m [\u001b[38;5;124m'\u001b[39m\u001b[38;5;124m特征\u001b[39m\u001b[38;5;124m'\u001b[39m, \u001b[38;5;124m'\u001b[39m\u001b[38;5;124m随机森林\u001b[39m\u001b[38;5;124m'\u001b[39m, \u001b[38;5;124m'\u001b[39m\u001b[38;5;124mGBDT\u001b[39m\u001b[38;5;124m'\u001b[39m]\n\u001b[0;32m      3\u001b[0m FeatureImportance\u001b[38;5;241m.\u001b[39msort_values(\u001b[38;5;124m'\u001b[39m\u001b[38;5;124m随机森林\u001b[39m\u001b[38;5;124m'\u001b[39m, ascending \u001b[38;5;241m=\u001b[39m \u001b[38;5;28;01mFalse\u001b[39;00m)\n",
      "File \u001b[1;32mF:\\anaconda\\lib\\site-packages\\sklearn\\ensemble\\_forest.py:605\u001b[0m, in \u001b[0;36mBaseForest.feature_importances_\u001b[1;34m(self)\u001b[0m\n\u001b[0;32m    584\u001b[0m \u001b[38;5;129m@property\u001b[39m\n\u001b[0;32m    585\u001b[0m \u001b[38;5;28;01mdef\u001b[39;00m \u001b[38;5;21mfeature_importances_\u001b[39m(\u001b[38;5;28mself\u001b[39m):\n\u001b[0;32m    586\u001b[0m     \u001b[38;5;124;03m\"\"\"\u001b[39;00m\n\u001b[0;32m    587\u001b[0m \u001b[38;5;124;03m    The impurity-based feature importances.\u001b[39;00m\n\u001b[0;32m    588\u001b[0m \n\u001b[1;32m   (...)\u001b[0m\n\u001b[0;32m    603\u001b[0m \u001b[38;5;124;03m        array of zeros.\u001b[39;00m\n\u001b[0;32m    604\u001b[0m \u001b[38;5;124;03m    \"\"\"\u001b[39;00m\n\u001b[1;32m--> 605\u001b[0m     \u001b[43mcheck_is_fitted\u001b[49m\u001b[43m(\u001b[49m\u001b[38;5;28;43mself\u001b[39;49m\u001b[43m)\u001b[49m\n\u001b[0;32m    607\u001b[0m     all_importances \u001b[38;5;241m=\u001b[39m Parallel(\n\u001b[0;32m    608\u001b[0m         n_jobs\u001b[38;5;241m=\u001b[39m\u001b[38;5;28mself\u001b[39m\u001b[38;5;241m.\u001b[39mn_jobs, \u001b[38;5;241m*\u001b[39m\u001b[38;5;241m*\u001b[39m_joblib_parallel_args(prefer\u001b[38;5;241m=\u001b[39m\u001b[38;5;124m\"\u001b[39m\u001b[38;5;124mthreads\u001b[39m\u001b[38;5;124m\"\u001b[39m)\n\u001b[0;32m    609\u001b[0m     )(\n\u001b[1;32m   (...)\u001b[0m\n\u001b[0;32m    612\u001b[0m         \u001b[38;5;28;01mif\u001b[39;00m tree\u001b[38;5;241m.\u001b[39mtree_\u001b[38;5;241m.\u001b[39mnode_count \u001b[38;5;241m>\u001b[39m \u001b[38;5;241m1\u001b[39m\n\u001b[0;32m    613\u001b[0m     )\n\u001b[0;32m    615\u001b[0m     \u001b[38;5;28;01mif\u001b[39;00m \u001b[38;5;129;01mnot\u001b[39;00m all_importances:\n",
      "File \u001b[1;32mF:\\anaconda\\lib\\site-packages\\sklearn\\utils\\validation.py:1222\u001b[0m, in \u001b[0;36mcheck_is_fitted\u001b[1;34m(estimator, attributes, msg, all_or_any)\u001b[0m\n\u001b[0;32m   1217\u001b[0m     fitted \u001b[38;5;241m=\u001b[39m [\n\u001b[0;32m   1218\u001b[0m         v \u001b[38;5;28;01mfor\u001b[39;00m v \u001b[38;5;129;01min\u001b[39;00m \u001b[38;5;28mvars\u001b[39m(estimator) \u001b[38;5;28;01mif\u001b[39;00m v\u001b[38;5;241m.\u001b[39mendswith(\u001b[38;5;124m\"\u001b[39m\u001b[38;5;124m_\u001b[39m\u001b[38;5;124m\"\u001b[39m) \u001b[38;5;129;01mand\u001b[39;00m \u001b[38;5;129;01mnot\u001b[39;00m v\u001b[38;5;241m.\u001b[39mstartswith(\u001b[38;5;124m\"\u001b[39m\u001b[38;5;124m__\u001b[39m\u001b[38;5;124m\"\u001b[39m)\n\u001b[0;32m   1219\u001b[0m     ]\n\u001b[0;32m   1221\u001b[0m \u001b[38;5;28;01mif\u001b[39;00m \u001b[38;5;129;01mnot\u001b[39;00m fitted:\n\u001b[1;32m-> 1222\u001b[0m     \u001b[38;5;28;01mraise\u001b[39;00m NotFittedError(msg \u001b[38;5;241m%\u001b[39m {\u001b[38;5;124m\"\u001b[39m\u001b[38;5;124mname\u001b[39m\u001b[38;5;124m\"\u001b[39m: \u001b[38;5;28mtype\u001b[39m(estimator)\u001b[38;5;241m.\u001b[39m\u001b[38;5;18m__name__\u001b[39m})\n",
      "\u001b[1;31mNotFittedError\u001b[0m: This RandomForestClassifier instance is not fitted yet. Call 'fit' with appropriate arguments before using this estimator."
     ]
    }
   ],
   "source": [
    "FeatureImportance = pd.concat([pd.DataFrame(Xtrain.columns), pd.DataFrame(rf.feature_importances_), pd.DataFrame(gbdt.feature_importances_)], axis =1)\n",
    "FeatureImportance.columns = ['特征', '随机森林', 'GBDT']\n",
    "FeatureImportance.sort_values('随机森林', ascending = False)"
   ]
  },
  {
   "cell_type": "markdown",
   "id": "812cb159",
   "metadata": {},
   "source": [
    "### 3. 投票法进行模型融合"
   ]
  },
  {
   "cell_type": "code",
   "execution_count": 88,
   "id": "e471d2ad",
   "metadata": {},
   "outputs": [],
   "source": [
    "import pandas as pd\n",
    "import numpy as np\n",
    "import matplotlib.pyplot as plt\n",
    "import seaborn as sns\n",
    "import sklearn\n",
    "from sklearn.ensemble import GradientBoostingClassifier as GBC\n",
    "from sklearn.ensemble import RandomForestClassifier as RFC\n",
    "import xgboost as xgb\n",
    "from sklearn.model_selection import KFold\n",
    "from sklearn.model_selection import cross_val_score\n",
    "from sklearn.metrics import roc_auc_score, accuracy_score"
   ]
  },
  {
   "cell_type": "code",
   "execution_count": 89,
   "id": "f98899a4",
   "metadata": {},
   "outputs": [],
   "source": [
    "train=pd.read_csv('train_bf6.csv', index_col = 0)\n",
    "test =pd.read_csv('test_bf6.csv' , index_col = 0)"
   ]
  },
  {
   "cell_type": "code",
   "execution_count": 90,
   "id": "c7f0d52e",
   "metadata": {},
   "outputs": [],
   "source": [
    "Xtrain = train.iloc[:, 1:]\n",
    "Xtest  = test.iloc[:, 1:]\n",
    "Ytrain = train.iloc[:, 0]\n",
    "Ytest  = test.iloc[:, 0]\n",
    "\n",
    "dtrain = xgb.DMatrix(Xtrain,Ytrain)\n",
    "dtest = xgb.DMatrix(Xtest,Ytest)"
   ]
  },
  {
   "cell_type": "markdown",
   "id": "69aa63db",
   "metadata": {},
   "source": [
    "硬投票：适用于默认参数的模型，返回的是预测的标签；\n",
    "软投票：适用于精调过的模型，返回的是预测的标签的概率；此项目使用软投票"
   ]
  },
  {
   "cell_type": "markdown",
   "id": "7452a3b2",
   "metadata": {},
   "source": [
    "应用软投票进行模型融合"
   ]
  },
  {
   "cell_type": "code",
   "execution_count": 91,
   "id": "1bf98af5",
   "metadata": {},
   "outputs": [],
   "source": [
    "#调参后的模型\n",
    "rf = RFC(n_estimators=500, random_state=1412, class_weight={0:1,1:5}, max_depth=13)\n",
    "gbdt = GBC(n_estimators=200, random_state=1412, learning_rate=0.27)\n",
    "param = {\"objective\":'binary:logistic', \"eval_metric\": \"auc\", \"scale_pos_weight\": 0.5, \"eta\":0.3, \"seed\":1412}"
   ]
  },
  {
   "cell_type": "code",
   "execution_count": 92,
   "id": "1321e8a5",
   "metadata": {},
   "outputs": [],
   "source": [
    "rf = rf.fit(Xtrain, Ytrain)\n",
    "gbdt = gbdt.fit(Xtrain, Ytrain)\n",
    "xgbc = xgb.train(param, dtrain, num_boost_round=40)"
   ]
  },
  {
   "cell_type": "code",
   "execution_count": 95,
   "id": "dc4e5f80",
   "metadata": {},
   "outputs": [],
   "source": [
    "#在训练集上输出训练概率\n",
    "rf_prob_train = rf.predict_proba(Xtrain)\n",
    "gbdt_prob_train = gbdt.predict_proba(Xtrain)\n",
    "xgb_prob_train  = xgbc.predict(dtrain)"
   ]
  },
  {
   "cell_type": "code",
   "execution_count": 96,
   "id": "ba1ec56e",
   "metadata": {},
   "outputs": [],
   "source": [
    "prob_train = pd.concat([pd.DataFrame(rf_prob_train,columns=[\"rf0\",\"rf1\"])\n",
    "                        ,pd.DataFrame(gbdt_prob_train,columns=[\"gbc0\",\"gbc1\"])\n",
    "                        ,pd.DataFrame(xgb_prob_train,columns=[\"xgb1\"])]\n",
    "                                      ,axis=1)"
   ]
  },
  {
   "cell_type": "code",
   "execution_count": 97,
   "id": "e7ac88b0",
   "metadata": {},
   "outputs": [
    {
     "data": {
      "text/html": [
       "<div>\n",
       "<style scoped>\n",
       "    .dataframe tbody tr th:only-of-type {\n",
       "        vertical-align: middle;\n",
       "    }\n",
       "\n",
       "    .dataframe tbody tr th {\n",
       "        vertical-align: top;\n",
       "    }\n",
       "\n",
       "    .dataframe thead th {\n",
       "        text-align: right;\n",
       "    }\n",
       "</style>\n",
       "<table border=\"1\" class=\"dataframe\">\n",
       "  <thead>\n",
       "    <tr style=\"text-align: right;\">\n",
       "      <th></th>\n",
       "      <th>rf0</th>\n",
       "      <th>rf1</th>\n",
       "      <th>gbc0</th>\n",
       "      <th>gbc1</th>\n",
       "      <th>xgb1</th>\n",
       "    </tr>\n",
       "  </thead>\n",
       "  <tbody>\n",
       "    <tr>\n",
       "      <th>0</th>\n",
       "      <td>0.325029</td>\n",
       "      <td>0.674971</td>\n",
       "      <td>0.083014</td>\n",
       "      <td>0.916986</td>\n",
       "      <td>0.651240</td>\n",
       "    </tr>\n",
       "    <tr>\n",
       "      <th>1</th>\n",
       "      <td>0.374572</td>\n",
       "      <td>0.625428</td>\n",
       "      <td>0.671889</td>\n",
       "      <td>0.328111</td>\n",
       "      <td>0.211359</td>\n",
       "    </tr>\n",
       "    <tr>\n",
       "      <th>2</th>\n",
       "      <td>0.856583</td>\n",
       "      <td>0.143417</td>\n",
       "      <td>0.991961</td>\n",
       "      <td>0.008039</td>\n",
       "      <td>0.007826</td>\n",
       "    </tr>\n",
       "    <tr>\n",
       "      <th>3</th>\n",
       "      <td>0.534456</td>\n",
       "      <td>0.465544</td>\n",
       "      <td>0.809238</td>\n",
       "      <td>0.190762</td>\n",
       "      <td>0.083628</td>\n",
       "    </tr>\n",
       "    <tr>\n",
       "      <th>4</th>\n",
       "      <td>0.733234</td>\n",
       "      <td>0.266766</td>\n",
       "      <td>0.679392</td>\n",
       "      <td>0.320608</td>\n",
       "      <td>0.069288</td>\n",
       "    </tr>\n",
       "  </tbody>\n",
       "</table>\n",
       "</div>"
      ],
      "text/plain": [
       "        rf0       rf1      gbc0      gbc1      xgb1\n",
       "0  0.325029  0.674971  0.083014  0.916986  0.651240\n",
       "1  0.374572  0.625428  0.671889  0.328111  0.211359\n",
       "2  0.856583  0.143417  0.991961  0.008039  0.007826\n",
       "3  0.534456  0.465544  0.809238  0.190762  0.083628\n",
       "4  0.733234  0.266766  0.679392  0.320608  0.069288"
      ]
     },
     "execution_count": 97,
     "metadata": {},
     "output_type": "execute_result"
    }
   ],
   "source": [
    "prob_train.head()"
   ]
  },
  {
   "cell_type": "code",
   "execution_count": 98,
   "id": "c7e37984",
   "metadata": {},
   "outputs": [
    {
     "data": {
      "text/html": [
       "<div>\n",
       "<style scoped>\n",
       "    .dataframe tbody tr th:only-of-type {\n",
       "        vertical-align: middle;\n",
       "    }\n",
       "\n",
       "    .dataframe tbody tr th {\n",
       "        vertical-align: top;\n",
       "    }\n",
       "\n",
       "    .dataframe thead th {\n",
       "        text-align: right;\n",
       "    }\n",
       "</style>\n",
       "<table border=\"1\" class=\"dataframe\">\n",
       "  <thead>\n",
       "    <tr style=\"text-align: right;\">\n",
       "      <th></th>\n",
       "      <th>rf0</th>\n",
       "      <th>rf1</th>\n",
       "      <th>gbc0</th>\n",
       "      <th>gbc1</th>\n",
       "      <th>xgb1</th>\n",
       "      <th>xgb0</th>\n",
       "    </tr>\n",
       "  </thead>\n",
       "  <tbody>\n",
       "    <tr>\n",
       "      <th>0</th>\n",
       "      <td>0.325029</td>\n",
       "      <td>0.674971</td>\n",
       "      <td>0.083014</td>\n",
       "      <td>0.916986</td>\n",
       "      <td>0.651240</td>\n",
       "      <td>0.348760</td>\n",
       "    </tr>\n",
       "    <tr>\n",
       "      <th>1</th>\n",
       "      <td>0.374572</td>\n",
       "      <td>0.625428</td>\n",
       "      <td>0.671889</td>\n",
       "      <td>0.328111</td>\n",
       "      <td>0.211359</td>\n",
       "      <td>0.788641</td>\n",
       "    </tr>\n",
       "    <tr>\n",
       "      <th>2</th>\n",
       "      <td>0.856583</td>\n",
       "      <td>0.143417</td>\n",
       "      <td>0.991961</td>\n",
       "      <td>0.008039</td>\n",
       "      <td>0.007826</td>\n",
       "      <td>0.992174</td>\n",
       "    </tr>\n",
       "    <tr>\n",
       "      <th>3</th>\n",
       "      <td>0.534456</td>\n",
       "      <td>0.465544</td>\n",
       "      <td>0.809238</td>\n",
       "      <td>0.190762</td>\n",
       "      <td>0.083628</td>\n",
       "      <td>0.916372</td>\n",
       "    </tr>\n",
       "    <tr>\n",
       "      <th>4</th>\n",
       "      <td>0.733234</td>\n",
       "      <td>0.266766</td>\n",
       "      <td>0.679392</td>\n",
       "      <td>0.320608</td>\n",
       "      <td>0.069288</td>\n",
       "      <td>0.930712</td>\n",
       "    </tr>\n",
       "  </tbody>\n",
       "</table>\n",
       "</div>"
      ],
      "text/plain": [
       "        rf0       rf1      gbc0      gbc1      xgb1      xgb0\n",
       "0  0.325029  0.674971  0.083014  0.916986  0.651240  0.348760\n",
       "1  0.374572  0.625428  0.671889  0.328111  0.211359  0.788641\n",
       "2  0.856583  0.143417  0.991961  0.008039  0.007826  0.992174\n",
       "3  0.534456  0.465544  0.809238  0.190762  0.083628  0.916372\n",
       "4  0.733234  0.266766  0.679392  0.320608  0.069288  0.930712"
      ]
     },
     "execution_count": 98,
     "metadata": {},
     "output_type": "execute_result"
    }
   ],
   "source": [
    "prob_train['xgb0'] = 1 - prob_train['xgb1']\n",
    "prob_train.head()"
   ]
  },
  {
   "cell_type": "code",
   "execution_count": 99,
   "id": "8874d201",
   "metadata": {},
   "outputs": [
    {
     "data": {
      "text/html": [
       "<div>\n",
       "<style scoped>\n",
       "    .dataframe tbody tr th:only-of-type {\n",
       "        vertical-align: middle;\n",
       "    }\n",
       "\n",
       "    .dataframe tbody tr th {\n",
       "        vertical-align: top;\n",
       "    }\n",
       "\n",
       "    .dataframe thead th {\n",
       "        text-align: right;\n",
       "    }\n",
       "</style>\n",
       "<table border=\"1\" class=\"dataframe\">\n",
       "  <thead>\n",
       "    <tr style=\"text-align: right;\">\n",
       "      <th></th>\n",
       "      <th>rf0</th>\n",
       "      <th>rf1</th>\n",
       "      <th>gbc0</th>\n",
       "      <th>gbc1</th>\n",
       "      <th>xgb1</th>\n",
       "      <th>xgb0</th>\n",
       "      <th>0</th>\n",
       "      <th>1</th>\n",
       "    </tr>\n",
       "  </thead>\n",
       "  <tbody>\n",
       "    <tr>\n",
       "      <th>0</th>\n",
       "      <td>0.325029</td>\n",
       "      <td>0.674971</td>\n",
       "      <td>0.083014</td>\n",
       "      <td>0.916986</td>\n",
       "      <td>0.651240</td>\n",
       "      <td>0.348760</td>\n",
       "      <td>1.436280</td>\n",
       "      <td>3.563720</td>\n",
       "    </tr>\n",
       "    <tr>\n",
       "      <th>1</th>\n",
       "      <td>0.374572</td>\n",
       "      <td>0.625428</td>\n",
       "      <td>0.671889</td>\n",
       "      <td>0.328111</td>\n",
       "      <td>0.211359</td>\n",
       "      <td>0.788641</td>\n",
       "      <td>2.193526</td>\n",
       "      <td>2.806474</td>\n",
       "    </tr>\n",
       "    <tr>\n",
       "      <th>2</th>\n",
       "      <td>0.856583</td>\n",
       "      <td>0.143417</td>\n",
       "      <td>0.991961</td>\n",
       "      <td>0.008039</td>\n",
       "      <td>0.007826</td>\n",
       "      <td>0.992174</td>\n",
       "      <td>4.418335</td>\n",
       "      <td>0.581665</td>\n",
       "    </tr>\n",
       "    <tr>\n",
       "      <th>3</th>\n",
       "      <td>0.534456</td>\n",
       "      <td>0.465544</td>\n",
       "      <td>0.809238</td>\n",
       "      <td>0.190762</td>\n",
       "      <td>0.083628</td>\n",
       "      <td>0.916372</td>\n",
       "      <td>2.968488</td>\n",
       "      <td>2.031512</td>\n",
       "    </tr>\n",
       "    <tr>\n",
       "      <th>4</th>\n",
       "      <td>0.733234</td>\n",
       "      <td>0.266766</td>\n",
       "      <td>0.679392</td>\n",
       "      <td>0.320608</td>\n",
       "      <td>0.069288</td>\n",
       "      <td>0.930712</td>\n",
       "      <td>3.662593</td>\n",
       "      <td>1.337407</td>\n",
       "    </tr>\n",
       "  </tbody>\n",
       "</table>\n",
       "</div>"
      ],
      "text/plain": [
       "        rf0       rf1      gbc0      gbc1      xgb1      xgb0         0  \\\n",
       "0  0.325029  0.674971  0.083014  0.916986  0.651240  0.348760  1.436280   \n",
       "1  0.374572  0.625428  0.671889  0.328111  0.211359  0.788641  2.193526   \n",
       "2  0.856583  0.143417  0.991961  0.008039  0.007826  0.992174  4.418335   \n",
       "3  0.534456  0.465544  0.809238  0.190762  0.083628  0.916372  2.968488   \n",
       "4  0.733234  0.266766  0.679392  0.320608  0.069288  0.930712  3.662593   \n",
       "\n",
       "          1  \n",
       "0  3.563720  \n",
       "1  2.806474  \n",
       "2  0.581665  \n",
       "3  2.031512  \n",
       "4  1.337407  "
      ]
     },
     "execution_count": 99,
     "metadata": {},
     "output_type": "execute_result"
    }
   ],
   "source": [
    "rf_num, gbdt_num, xgb_num = 4, 0.8, 0.2\n",
    "#将所有样本为0的概率按权重加和\n",
    "prob_train.loc[:,\"0\"] = rf_num * prob_train.loc[:,'rf0'] + gbdt_num * prob_train.loc[:,'gbc0'] + xgb_num * prob_train.loc[:,\"xgb0\"]\n",
    "#将所有样本为0的概率按权重加和\n",
    "prob_train.loc[:,\"1\"] = rf_num * prob_train.loc[:,\"rf1\"] + gbdt_num * prob_train.loc[:,\"gbc1\"] + xgb_num * prob_train.loc[:,\"xgb1\"]\n",
    "\n",
    "prob_train.head()"
   ]
  },
  {
   "cell_type": "code",
   "execution_count": 100,
   "id": "502363d8",
   "metadata": {},
   "outputs": [
    {
     "data": {
      "text/html": [
       "<div>\n",
       "<style scoped>\n",
       "    .dataframe tbody tr th:only-of-type {\n",
       "        vertical-align: middle;\n",
       "    }\n",
       "\n",
       "    .dataframe tbody tr th {\n",
       "        vertical-align: top;\n",
       "    }\n",
       "\n",
       "    .dataframe thead th {\n",
       "        text-align: right;\n",
       "    }\n",
       "</style>\n",
       "<table border=\"1\" class=\"dataframe\">\n",
       "  <thead>\n",
       "    <tr style=\"text-align: right;\">\n",
       "      <th></th>\n",
       "      <th>rf0</th>\n",
       "      <th>rf1</th>\n",
       "      <th>gbc0</th>\n",
       "      <th>gbc1</th>\n",
       "      <th>xgb1</th>\n",
       "      <th>xgb0</th>\n",
       "      <th>0</th>\n",
       "      <th>1</th>\n",
       "      <th>adjusted1</th>\n",
       "    </tr>\n",
       "  </thead>\n",
       "  <tbody>\n",
       "    <tr>\n",
       "      <th>0</th>\n",
       "      <td>0.325029</td>\n",
       "      <td>0.674971</td>\n",
       "      <td>0.083014</td>\n",
       "      <td>0.916986</td>\n",
       "      <td>0.651240</td>\n",
       "      <td>0.348760</td>\n",
       "      <td>1.436280</td>\n",
       "      <td>3.563720</td>\n",
       "      <td>0.712744</td>\n",
       "    </tr>\n",
       "    <tr>\n",
       "      <th>1</th>\n",
       "      <td>0.374572</td>\n",
       "      <td>0.625428</td>\n",
       "      <td>0.671889</td>\n",
       "      <td>0.328111</td>\n",
       "      <td>0.211359</td>\n",
       "      <td>0.788641</td>\n",
       "      <td>2.193526</td>\n",
       "      <td>2.806474</td>\n",
       "      <td>0.561295</td>\n",
       "    </tr>\n",
       "    <tr>\n",
       "      <th>2</th>\n",
       "      <td>0.856583</td>\n",
       "      <td>0.143417</td>\n",
       "      <td>0.991961</td>\n",
       "      <td>0.008039</td>\n",
       "      <td>0.007826</td>\n",
       "      <td>0.992174</td>\n",
       "      <td>4.418335</td>\n",
       "      <td>0.581665</td>\n",
       "      <td>0.116333</td>\n",
       "    </tr>\n",
       "    <tr>\n",
       "      <th>3</th>\n",
       "      <td>0.534456</td>\n",
       "      <td>0.465544</td>\n",
       "      <td>0.809238</td>\n",
       "      <td>0.190762</td>\n",
       "      <td>0.083628</td>\n",
       "      <td>0.916372</td>\n",
       "      <td>2.968488</td>\n",
       "      <td>2.031512</td>\n",
       "      <td>0.406302</td>\n",
       "    </tr>\n",
       "    <tr>\n",
       "      <th>4</th>\n",
       "      <td>0.733234</td>\n",
       "      <td>0.266766</td>\n",
       "      <td>0.679392</td>\n",
       "      <td>0.320608</td>\n",
       "      <td>0.069288</td>\n",
       "      <td>0.930712</td>\n",
       "      <td>3.662593</td>\n",
       "      <td>1.337407</td>\n",
       "      <td>0.267481</td>\n",
       "    </tr>\n",
       "  </tbody>\n",
       "</table>\n",
       "</div>"
      ],
      "text/plain": [
       "        rf0       rf1      gbc0      gbc1      xgb1      xgb0         0  \\\n",
       "0  0.325029  0.674971  0.083014  0.916986  0.651240  0.348760  1.436280   \n",
       "1  0.374572  0.625428  0.671889  0.328111  0.211359  0.788641  2.193526   \n",
       "2  0.856583  0.143417  0.991961  0.008039  0.007826  0.992174  4.418335   \n",
       "3  0.534456  0.465544  0.809238  0.190762  0.083628  0.916372  2.968488   \n",
       "4  0.733234  0.266766  0.679392  0.320608  0.069288  0.930712  3.662593   \n",
       "\n",
       "          1  adjusted1  \n",
       "0  3.563720   0.712744  \n",
       "1  2.806474   0.561295  \n",
       "2  0.581665   0.116333  \n",
       "3  2.031512   0.406302  \n",
       "4  1.337407   0.267481  "
      ]
     },
     "execution_count": 100,
     "metadata": {},
     "output_type": "execute_result"
    }
   ],
   "source": [
    "#将为1的概率压缩到[0,1]之间，当做最终的概率来输入auc计算函数\n",
    "prob_train[\"adjusted1\"] = prob_train['1'] / (prob_train['0']+prob_train['1'])\n",
    "prob_train.head()"
   ]
  },
  {
   "cell_type": "markdown",
   "id": "dc1f3037",
   "metadata": {},
   "source": [
    "将上述代码打包成函数："
   ]
  },
  {
   "cell_type": "code",
   "execution_count": 101,
   "id": "8ce9cf2b",
   "metadata": {},
   "outputs": [],
   "source": [
    "def PredictProb(Xtrain, Ytrain, dtrain, TrainOrTest1, TrainOrTest2):                   \n",
    "    # 调参后的模型\n",
    "    rf = RFC(n_estimators = 500,random_state=1412 ,class_weight = {0:1, 1:5}, max_depth = 13)\n",
    "    gbdt = GBC(n_estimators = 200, random_state = 1412, learning_rate = 0.27)\n",
    "    param = {\"objective\":'binary:logistic', \"eval_metric\": \"auc\", \"scale_pos_weight\": 0.5, \"eta\":0.3, \"seed\":1412} \n",
    "\n",
    "    # 在训练集上进行训练\n",
    "    rf = rf.fit(Xtrain, Ytrain)\n",
    "    gbdt = gbdt.fit(Xtrain, Ytrain)\n",
    "    xgbc = xgb.train(param, dtrain, num_boost_round=40)\n",
    "\n",
    "    # 在XX集上输出训练概率\n",
    "    rf_prob   = rf.predict_proba(TrainOrTest1)\n",
    "    gbdt_prob = gbdt.predict_proba(TrainOrTest1)\n",
    "    xgb_prob  = xgbc.predict(TrainOrTest2)\n",
    "\n",
    "    prob = pd.concat([pd.DataFrame(rf_prob,columns=[\"rf0\",\"rf1\"])\n",
    "                            ,pd.DataFrame(gbdt_prob,columns=[\"gbc0\",\"gbc1\"])\n",
    "                            ,pd.DataFrame(xgb_prob,columns=[\"xgb1\"])]\n",
    "                                        ,axis=1)\n",
    "    prob['xgb0'] = 1 - prob['xgb1']\n",
    "    rf_num, gbdt_num, xgb_num = 4, 0.8, 0.2\n",
    "    prob.loc[:,\"0\"] = rf_num * prob.loc[:,\"rf0\"] + gbdt_num * prob.loc[:,\"gbc0\"] + xgb_num * prob.loc[:,\"xgb0\"]\n",
    "    prob.loc[:,\"1\"] = rf_num * prob.loc[:,\"rf1\"] + gbdt_num * prob.loc[:,\"gbc1\"] + xgb_num * prob.loc[:,\"xgb1\"]\n",
    "    prob[\"adjusted1\"] = prob[\"1\"]/(prob[\"0\"] + prob[\"1\"])\n",
    "\n",
    "    return prob"
   ]
  },
  {
   "cell_type": "markdown",
   "id": "d81ac2f9",
   "metadata": {},
   "source": [
    "#### 模型融合后的训练集AUC和ACC"
   ]
  },
  {
   "cell_type": "code",
   "execution_count": 102,
   "id": "adf6d272",
   "metadata": {},
   "outputs": [
    {
     "data": {
      "text/plain": [
       "0.9609215934499938"
      ]
     },
     "execution_count": 102,
     "metadata": {},
     "output_type": "execute_result"
    }
   ],
   "source": [
    "#计算AUC\n",
    "roc_auc_score(Ytrain, prob_train['adjusted1'])"
   ]
  },
  {
   "cell_type": "code",
   "execution_count": 103,
   "id": "c106b467",
   "metadata": {},
   "outputs": [
    {
     "data": {
      "text/plain": [
       "0.8785866678277529"
      ]
     },
     "execution_count": 103,
     "metadata": {},
     "output_type": "execute_result"
    }
   ],
   "source": [
    "# 计算准确率\n",
    "Ytrain_pred = ((prob_train[\"adjusted1\"]) > 0.5).astype(\"int\")\n",
    "accuracy_score(Ytrain,Ytrain_pred)"
   ]
  },
  {
   "cell_type": "code",
   "execution_count": 104,
   "id": "ba910420",
   "metadata": {},
   "outputs": [
    {
     "data": {
      "text/plain": [
       "0.9049832368180433"
      ]
     },
     "execution_count": 104,
     "metadata": {},
     "output_type": "execute_result"
    }
   ],
   "source": [
    "Ytrain_pred = ((prob_train[\"adjusted1\"]) > 0.7).astype(\"int\")\n",
    "accuracy_score(Ytrain,Ytrain_pred)"
   ]
  },
  {
   "cell_type": "code",
   "execution_count": 105,
   "id": "a0d1d4a2",
   "metadata": {},
   "outputs": [
    {
     "ename": "ValueError",
     "evalue": "Input contains NaN, infinity or a value too large for dtype('float32').",
     "output_type": "error",
     "traceback": [
      "\u001b[1;31m---------------------------------------------------------------------------\u001b[0m",
      "\u001b[1;31mValueError\u001b[0m                                Traceback (most recent call last)",
      "Input \u001b[1;32mIn [105]\u001b[0m, in \u001b[0;36m<cell line: 2>\u001b[1;34m()\u001b[0m\n\u001b[0;32m      1\u001b[0m \u001b[38;5;66;03m# 模型融合后的测试集AUC和ACC\u001b[39;00m\n\u001b[1;32m----> 2\u001b[0m prob_test \u001b[38;5;241m=\u001b[39m \u001b[43mPredictProb\u001b[49m\u001b[43m(\u001b[49m\u001b[43mXtrain\u001b[49m\u001b[43m,\u001b[49m\u001b[43m \u001b[49m\u001b[43mYtrain\u001b[49m\u001b[43m,\u001b[49m\u001b[43m \u001b[49m\u001b[43mdtrain\u001b[49m\u001b[43m,\u001b[49m\u001b[43m \u001b[49m\u001b[43mXtest\u001b[49m\u001b[43m,\u001b[49m\u001b[43m \u001b[49m\u001b[43mdtest\u001b[49m\u001b[43m)\u001b[49m\n",
      "Input \u001b[1;32mIn [101]\u001b[0m, in \u001b[0;36mPredictProb\u001b[1;34m(Xtrain, Ytrain, dtrain, TrainOrTest1, TrainOrTest2)\u001b[0m\n\u001b[0;32m     10\u001b[0m xgbc \u001b[38;5;241m=\u001b[39m xgb\u001b[38;5;241m.\u001b[39mtrain(param, dtrain, num_boost_round\u001b[38;5;241m=\u001b[39m\u001b[38;5;241m40\u001b[39m)\n\u001b[0;32m     12\u001b[0m \u001b[38;5;66;03m# 在XX集上输出训练概率\u001b[39;00m\n\u001b[1;32m---> 13\u001b[0m rf_prob   \u001b[38;5;241m=\u001b[39m \u001b[43mrf\u001b[49m\u001b[38;5;241;43m.\u001b[39;49m\u001b[43mpredict_proba\u001b[49m\u001b[43m(\u001b[49m\u001b[43mTrainOrTest1\u001b[49m\u001b[43m)\u001b[49m\n\u001b[0;32m     14\u001b[0m gbdt_prob \u001b[38;5;241m=\u001b[39m gbdt\u001b[38;5;241m.\u001b[39mpredict_proba(TrainOrTest1)\n\u001b[0;32m     15\u001b[0m xgb_prob  \u001b[38;5;241m=\u001b[39m xgbc\u001b[38;5;241m.\u001b[39mpredict(TrainOrTest2)\n",
      "File \u001b[1;32mF:\\anaconda\\lib\\site-packages\\sklearn\\ensemble\\_forest.py:850\u001b[0m, in \u001b[0;36mForestClassifier.predict_proba\u001b[1;34m(self, X)\u001b[0m\n\u001b[0;32m    848\u001b[0m check_is_fitted(\u001b[38;5;28mself\u001b[39m)\n\u001b[0;32m    849\u001b[0m \u001b[38;5;66;03m# Check data\u001b[39;00m\n\u001b[1;32m--> 850\u001b[0m X \u001b[38;5;241m=\u001b[39m \u001b[38;5;28;43mself\u001b[39;49m\u001b[38;5;241;43m.\u001b[39;49m\u001b[43m_validate_X_predict\u001b[49m\u001b[43m(\u001b[49m\u001b[43mX\u001b[49m\u001b[43m)\u001b[49m\n\u001b[0;32m    852\u001b[0m \u001b[38;5;66;03m# Assign chunk of trees to jobs\u001b[39;00m\n\u001b[0;32m    853\u001b[0m n_jobs, _, _ \u001b[38;5;241m=\u001b[39m _partition_estimators(\u001b[38;5;28mself\u001b[39m\u001b[38;5;241m.\u001b[39mn_estimators, \u001b[38;5;28mself\u001b[39m\u001b[38;5;241m.\u001b[39mn_jobs)\n",
      "File \u001b[1;32mF:\\anaconda\\lib\\site-packages\\sklearn\\ensemble\\_forest.py:579\u001b[0m, in \u001b[0;36mBaseForest._validate_X_predict\u001b[1;34m(self, X)\u001b[0m\n\u001b[0;32m    576\u001b[0m \u001b[38;5;124;03m\"\"\"\u001b[39;00m\n\u001b[0;32m    577\u001b[0m \u001b[38;5;124;03mValidate X whenever one tries to predict, apply, predict_proba.\"\"\"\u001b[39;00m\n\u001b[0;32m    578\u001b[0m check_is_fitted(\u001b[38;5;28mself\u001b[39m)\n\u001b[1;32m--> 579\u001b[0m X \u001b[38;5;241m=\u001b[39m \u001b[38;5;28;43mself\u001b[39;49m\u001b[38;5;241;43m.\u001b[39;49m\u001b[43m_validate_data\u001b[49m\u001b[43m(\u001b[49m\u001b[43mX\u001b[49m\u001b[43m,\u001b[49m\u001b[43m \u001b[49m\u001b[43mdtype\u001b[49m\u001b[38;5;241;43m=\u001b[39;49m\u001b[43mDTYPE\u001b[49m\u001b[43m,\u001b[49m\u001b[43m \u001b[49m\u001b[43maccept_sparse\u001b[49m\u001b[38;5;241;43m=\u001b[39;49m\u001b[38;5;124;43m\"\u001b[39;49m\u001b[38;5;124;43mcsr\u001b[39;49m\u001b[38;5;124;43m\"\u001b[39;49m\u001b[43m,\u001b[49m\u001b[43m \u001b[49m\u001b[43mreset\u001b[49m\u001b[38;5;241;43m=\u001b[39;49m\u001b[38;5;28;43;01mFalse\u001b[39;49;00m\u001b[43m)\u001b[49m\n\u001b[0;32m    580\u001b[0m \u001b[38;5;28;01mif\u001b[39;00m issparse(X) \u001b[38;5;129;01mand\u001b[39;00m (X\u001b[38;5;241m.\u001b[39mindices\u001b[38;5;241m.\u001b[39mdtype \u001b[38;5;241m!=\u001b[39m np\u001b[38;5;241m.\u001b[39mintc \u001b[38;5;129;01mor\u001b[39;00m X\u001b[38;5;241m.\u001b[39mindptr\u001b[38;5;241m.\u001b[39mdtype \u001b[38;5;241m!=\u001b[39m np\u001b[38;5;241m.\u001b[39mintc):\n\u001b[0;32m    581\u001b[0m     \u001b[38;5;28;01mraise\u001b[39;00m \u001b[38;5;167;01mValueError\u001b[39;00m(\u001b[38;5;124m\"\u001b[39m\u001b[38;5;124mNo support for np.int64 index based sparse matrices\u001b[39m\u001b[38;5;124m\"\u001b[39m)\n",
      "File \u001b[1;32mF:\\anaconda\\lib\\site-packages\\sklearn\\base.py:566\u001b[0m, in \u001b[0;36mBaseEstimator._validate_data\u001b[1;34m(self, X, y, reset, validate_separately, **check_params)\u001b[0m\n\u001b[0;32m    564\u001b[0m     \u001b[38;5;28;01mraise\u001b[39;00m \u001b[38;5;167;01mValueError\u001b[39;00m(\u001b[38;5;124m\"\u001b[39m\u001b[38;5;124mValidation should be done on X, y or both.\u001b[39m\u001b[38;5;124m\"\u001b[39m)\n\u001b[0;32m    565\u001b[0m \u001b[38;5;28;01melif\u001b[39;00m \u001b[38;5;129;01mnot\u001b[39;00m no_val_X \u001b[38;5;129;01mand\u001b[39;00m no_val_y:\n\u001b[1;32m--> 566\u001b[0m     X \u001b[38;5;241m=\u001b[39m \u001b[43mcheck_array\u001b[49m\u001b[43m(\u001b[49m\u001b[43mX\u001b[49m\u001b[43m,\u001b[49m\u001b[43m \u001b[49m\u001b[38;5;241;43m*\u001b[39;49m\u001b[38;5;241;43m*\u001b[39;49m\u001b[43mcheck_params\u001b[49m\u001b[43m)\u001b[49m\n\u001b[0;32m    567\u001b[0m     out \u001b[38;5;241m=\u001b[39m X\n\u001b[0;32m    568\u001b[0m \u001b[38;5;28;01melif\u001b[39;00m no_val_X \u001b[38;5;129;01mand\u001b[39;00m \u001b[38;5;129;01mnot\u001b[39;00m no_val_y:\n",
      "File \u001b[1;32mF:\\anaconda\\lib\\site-packages\\sklearn\\utils\\validation.py:800\u001b[0m, in \u001b[0;36mcheck_array\u001b[1;34m(array, accept_sparse, accept_large_sparse, dtype, order, copy, force_all_finite, ensure_2d, allow_nd, ensure_min_samples, ensure_min_features, estimator)\u001b[0m\n\u001b[0;32m    794\u001b[0m         \u001b[38;5;28;01mraise\u001b[39;00m \u001b[38;5;167;01mValueError\u001b[39;00m(\n\u001b[0;32m    795\u001b[0m             \u001b[38;5;124m\"\u001b[39m\u001b[38;5;124mFound array with dim \u001b[39m\u001b[38;5;132;01m%d\u001b[39;00m\u001b[38;5;124m. \u001b[39m\u001b[38;5;132;01m%s\u001b[39;00m\u001b[38;5;124m expected <= 2.\u001b[39m\u001b[38;5;124m\"\u001b[39m\n\u001b[0;32m    796\u001b[0m             \u001b[38;5;241m%\u001b[39m (array\u001b[38;5;241m.\u001b[39mndim, estimator_name)\n\u001b[0;32m    797\u001b[0m         )\n\u001b[0;32m    799\u001b[0m     \u001b[38;5;28;01mif\u001b[39;00m force_all_finite:\n\u001b[1;32m--> 800\u001b[0m         \u001b[43m_assert_all_finite\u001b[49m\u001b[43m(\u001b[49m\u001b[43marray\u001b[49m\u001b[43m,\u001b[49m\u001b[43m \u001b[49m\u001b[43mallow_nan\u001b[49m\u001b[38;5;241;43m=\u001b[39;49m\u001b[43mforce_all_finite\u001b[49m\u001b[43m \u001b[49m\u001b[38;5;241;43m==\u001b[39;49m\u001b[43m \u001b[49m\u001b[38;5;124;43m\"\u001b[39;49m\u001b[38;5;124;43mallow-nan\u001b[39;49m\u001b[38;5;124;43m\"\u001b[39;49m\u001b[43m)\u001b[49m\n\u001b[0;32m    802\u001b[0m \u001b[38;5;28;01mif\u001b[39;00m ensure_min_samples \u001b[38;5;241m>\u001b[39m \u001b[38;5;241m0\u001b[39m:\n\u001b[0;32m    803\u001b[0m     n_samples \u001b[38;5;241m=\u001b[39m _num_samples(array)\n",
      "File \u001b[1;32mF:\\anaconda\\lib\\site-packages\\sklearn\\utils\\validation.py:114\u001b[0m, in \u001b[0;36m_assert_all_finite\u001b[1;34m(X, allow_nan, msg_dtype)\u001b[0m\n\u001b[0;32m    107\u001b[0m     \u001b[38;5;28;01mif\u001b[39;00m (\n\u001b[0;32m    108\u001b[0m         allow_nan\n\u001b[0;32m    109\u001b[0m         \u001b[38;5;129;01mand\u001b[39;00m np\u001b[38;5;241m.\u001b[39misinf(X)\u001b[38;5;241m.\u001b[39many()\n\u001b[0;32m    110\u001b[0m         \u001b[38;5;129;01mor\u001b[39;00m \u001b[38;5;129;01mnot\u001b[39;00m allow_nan\n\u001b[0;32m    111\u001b[0m         \u001b[38;5;129;01mand\u001b[39;00m \u001b[38;5;129;01mnot\u001b[39;00m np\u001b[38;5;241m.\u001b[39misfinite(X)\u001b[38;5;241m.\u001b[39mall()\n\u001b[0;32m    112\u001b[0m     ):\n\u001b[0;32m    113\u001b[0m         type_err \u001b[38;5;241m=\u001b[39m \u001b[38;5;124m\"\u001b[39m\u001b[38;5;124minfinity\u001b[39m\u001b[38;5;124m\"\u001b[39m \u001b[38;5;28;01mif\u001b[39;00m allow_nan \u001b[38;5;28;01melse\u001b[39;00m \u001b[38;5;124m\"\u001b[39m\u001b[38;5;124mNaN, infinity\u001b[39m\u001b[38;5;124m\"\u001b[39m\n\u001b[1;32m--> 114\u001b[0m         \u001b[38;5;28;01mraise\u001b[39;00m \u001b[38;5;167;01mValueError\u001b[39;00m(\n\u001b[0;32m    115\u001b[0m             msg_err\u001b[38;5;241m.\u001b[39mformat(\n\u001b[0;32m    116\u001b[0m                 type_err, msg_dtype \u001b[38;5;28;01mif\u001b[39;00m msg_dtype \u001b[38;5;129;01mis\u001b[39;00m \u001b[38;5;129;01mnot\u001b[39;00m \u001b[38;5;28;01mNone\u001b[39;00m \u001b[38;5;28;01melse\u001b[39;00m X\u001b[38;5;241m.\u001b[39mdtype\n\u001b[0;32m    117\u001b[0m             )\n\u001b[0;32m    118\u001b[0m         )\n\u001b[0;32m    119\u001b[0m \u001b[38;5;66;03m# for object dtype data, we only check for NaNs (GH-13254)\u001b[39;00m\n\u001b[0;32m    120\u001b[0m \u001b[38;5;28;01melif\u001b[39;00m X\u001b[38;5;241m.\u001b[39mdtype \u001b[38;5;241m==\u001b[39m np\u001b[38;5;241m.\u001b[39mdtype(\u001b[38;5;124m\"\u001b[39m\u001b[38;5;124mobject\u001b[39m\u001b[38;5;124m\"\u001b[39m) \u001b[38;5;129;01mand\u001b[39;00m \u001b[38;5;129;01mnot\u001b[39;00m allow_nan:\n",
      "\u001b[1;31mValueError\u001b[0m: Input contains NaN, infinity or a value too large for dtype('float32')."
     ]
    }
   ],
   "source": [
    "# 模型融合后的测试集AUC和ACC\n",
    "prob_test = PredictProb(Xtrain, Ytrain, dtrain, Xtest, dtest)"
   ]
  },
  {
   "cell_type": "code",
   "execution_count": null,
   "id": "5c5faba3",
   "metadata": {},
   "outputs": [],
   "source": []
  }
 ],
 "metadata": {
  "kernelspec": {
   "display_name": "Python [conda env:root] *",
   "language": "python",
   "name": "conda-root-py"
  },
  "language_info": {
   "codemirror_mode": {
    "name": "ipython",
    "version": 3
   },
   "file_extension": ".py",
   "mimetype": "text/x-python",
   "name": "python",
   "nbconvert_exporter": "python",
   "pygments_lexer": "ipython3",
   "version": "3.8.13"
  }
 },
 "nbformat": 4,
 "nbformat_minor": 5
}
