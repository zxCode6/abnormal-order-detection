{
 "cells": [
  {
   "cell_type": "code",
   "execution_count": 2,
   "id": "c6b395cd",
   "metadata": {},
   "outputs": [],
   "source": [
    "import pandas as pd\n",
    "import numpy as np\n",
    "import matplotlib.pyplot as plt\n",
    "\n",
    "from sklearn.preprocessing import OrdinalEncoder\n",
    "from sklearn.model_selection import train_test_split, cross_val_score\n",
    "from sklearn.model_selection import KFold\n",
    "from sklearn.ensemble import RandomForestClassifier as RFC\n",
    "from sklearn.metrics import roc_auc_score, accuracy_score\n",
    "\n",
    "from pyecharts.charts import *\n",
    "from pyecharts.components import Table\n",
    "from pyecharts import options as opts\n",
    "from pyecharts.commons.utils import JsCode"
   ]
  },
  {
   "cell_type": "code",
   "execution_count": 3,
   "id": "b13a61de",
   "metadata": {},
   "outputs": [],
   "source": [
    "data = pd.read_csv('abnormal_orders2.csv', index_col=0)"
   ]
  },
  {
   "cell_type": "code",
   "execution_count": 4,
   "id": "e367b726",
   "metadata": {},
   "outputs": [],
   "source": [
    "X = data.iloc[:,:-1]\n",
    "y = data.iloc[:,-1]"
   ]
  },
  {
   "cell_type": "raw",
   "id": "44e1b7bc",
   "metadata": {},
   "source": [
    "将格式为“时分秒”的下单时间转化为只有“小时”的下单时间"
   ]
  },
  {
   "cell_type": "code",
   "execution_count": 5,
   "id": "3426651c",
   "metadata": {},
   "outputs": [
    {
     "data": {
      "text/html": [
       "<div>\n",
       "<style scoped>\n",
       "    .dataframe tbody tr th:only-of-type {\n",
       "        vertical-align: middle;\n",
       "    }\n",
       "\n",
       "    .dataframe tbody tr th {\n",
       "        vertical-align: top;\n",
       "    }\n",
       "\n",
       "    .dataframe thead th {\n",
       "        text-align: right;\n",
       "    }\n",
       "</style>\n",
       "<table border=\"1\" class=\"dataframe\">\n",
       "  <thead>\n",
       "    <tr style=\"text-align: right;\">\n",
       "      <th></th>\n",
       "      <th>订单ID</th>\n",
       "      <th>下单时间</th>\n",
       "      <th>商品一级类别</th>\n",
       "      <th>商品所属渠道</th>\n",
       "      <th>商品ID</th>\n",
       "      <th>品牌</th>\n",
       "      <th>订单金额</th>\n",
       "      <th>商品销售数量</th>\n",
       "      <th>订单渠道</th>\n",
       "      <th>支付方式</th>\n",
       "      <th>下单用户ID</th>\n",
       "      <th>城市</th>\n",
       "    </tr>\n",
       "  </thead>\n",
       "  <tbody>\n",
       "    <tr>\n",
       "      <th>0</th>\n",
       "      <td>4283851335</td>\n",
       "      <td>14</td>\n",
       "      <td>手机摄影数码</td>\n",
       "      <td>POP</td>\n",
       "      <td>8002042497</td>\n",
       "      <td>三星</td>\n",
       "      <td>766000.0</td>\n",
       "      <td>200</td>\n",
       "      <td>主站</td>\n",
       "      <td>合并支付</td>\n",
       "      <td>dakehu_zy</td>\n",
       "      <td>上海市</td>\n",
       "    </tr>\n",
       "    <tr>\n",
       "      <th>1</th>\n",
       "      <td>4276537082</td>\n",
       "      <td>14</td>\n",
       "      <td>电视冰箱洗衣机空调</td>\n",
       "      <td>POP</td>\n",
       "      <td>8001992420</td>\n",
       "      <td>樱花</td>\n",
       "      <td>19900.0</td>\n",
       "      <td>100</td>\n",
       "      <td>主站</td>\n",
       "      <td>合并支付</td>\n",
       "      <td>qq-3be293b</td>\n",
       "      <td>泉州市</td>\n",
       "    </tr>\n",
       "    <tr>\n",
       "      <th>2</th>\n",
       "      <td>4281111595</td>\n",
       "      <td>10</td>\n",
       "      <td>家具建材</td>\n",
       "      <td>POP</td>\n",
       "      <td>8002199518</td>\n",
       "      <td>纬度空间</td>\n",
       "      <td>100.0</td>\n",
       "      <td>100</td>\n",
       "      <td>主站</td>\n",
       "      <td>合并支付</td>\n",
       "      <td>nonscorpio</td>\n",
       "      <td>广州市</td>\n",
       "    </tr>\n",
       "    <tr>\n",
       "      <th>3</th>\n",
       "      <td>3977175284</td>\n",
       "      <td>23</td>\n",
       "      <td>手机摄影数码</td>\n",
       "      <td>POP</td>\n",
       "      <td>8002237611</td>\n",
       "      <td>伊斯贝</td>\n",
       "      <td>990.0</td>\n",
       "      <td>100</td>\n",
       "      <td>主站</td>\n",
       "      <td>合并支付</td>\n",
       "      <td>swt6263122</td>\n",
       "      <td>宁德市</td>\n",
       "    </tr>\n",
       "    <tr>\n",
       "      <th>4</th>\n",
       "      <td>4106833871</td>\n",
       "      <td>16</td>\n",
       "      <td>家居日用</td>\n",
       "      <td>POP</td>\n",
       "      <td>8002212182</td>\n",
       "      <td>品道天元</td>\n",
       "      <td>8800.0</td>\n",
       "      <td>100</td>\n",
       "      <td>主站</td>\n",
       "      <td>合并支付</td>\n",
       "      <td>qq-edf69d7</td>\n",
       "      <td>深圳市</td>\n",
       "    </tr>\n",
       "  </tbody>\n",
       "</table>\n",
       "</div>"
      ],
      "text/plain": [
       "         订单ID 下单时间     商品一级类别 商品所属渠道        商品ID    品牌      订单金额  商品销售数量 订单渠道  \\\n",
       "0  4283851335   14     手机摄影数码    POP  8002042497    三星  766000.0     200   主站   \n",
       "1  4276537082   14  电视冰箱洗衣机空调    POP  8001992420    樱花   19900.0     100   主站   \n",
       "2  4281111595   10       家具建材    POP  8002199518  纬度空间     100.0     100   主站   \n",
       "3  3977175284   23     手机摄影数码    POP  8002237611   伊斯贝     990.0     100   主站   \n",
       "4  4106833871   16       家居日用    POP  8002212182  品道天元    8800.0     100   主站   \n",
       "\n",
       "   支付方式      下单用户ID   城市  \n",
       "0  合并支付   dakehu_zy  上海市  \n",
       "1  合并支付  qq-3be293b  泉州市  \n",
       "2  合并支付  nonscorpio  广州市  \n",
       "3  合并支付  swt6263122  宁德市  \n",
       "4  合并支付  qq-edf69d7  深圳市  "
      ]
     },
     "execution_count": 5,
     "metadata": {},
     "output_type": "execute_result"
    }
   ],
   "source": [
    "X['下单时间'] = X['下单时间'].apply(lambda x:x[0:2])\n",
    "X.head()"
   ]
  },
  {
   "cell_type": "raw",
   "id": "801b1e8d",
   "metadata": {},
   "source": [
    "特征编码"
   ]
  },
  {
   "cell_type": "code",
   "execution_count": 6,
   "id": "84496442",
   "metadata": {},
   "outputs": [
    {
     "data": {
      "text/html": [
       "<div>\n",
       "<style scoped>\n",
       "    .dataframe tbody tr th:only-of-type {\n",
       "        vertical-align: middle;\n",
       "    }\n",
       "\n",
       "    .dataframe tbody tr th {\n",
       "        vertical-align: top;\n",
       "    }\n",
       "\n",
       "    .dataframe thead th {\n",
       "        text-align: right;\n",
       "    }\n",
       "</style>\n",
       "<table border=\"1\" class=\"dataframe\">\n",
       "  <thead>\n",
       "    <tr style=\"text-align: right;\">\n",
       "      <th></th>\n",
       "      <th>0</th>\n",
       "      <th>1</th>\n",
       "      <th>2</th>\n",
       "      <th>3</th>\n",
       "      <th>4</th>\n",
       "      <th>5</th>\n",
       "      <th>6</th>\n",
       "      <th>7</th>\n",
       "      <th>8</th>\n",
       "      <th>9</th>\n",
       "      <th>10</th>\n",
       "      <th>11</th>\n",
       "    </tr>\n",
       "  </thead>\n",
       "  <tbody>\n",
       "    <tr>\n",
       "      <th>0</th>\n",
       "      <td>99753.0</td>\n",
       "      <td>14.0</td>\n",
       "      <td>5.0</td>\n",
       "      <td>1.0</td>\n",
       "      <td>15907.0</td>\n",
       "      <td>227.0</td>\n",
       "      <td>3009.0</td>\n",
       "      <td>41.0</td>\n",
       "      <td>1.0</td>\n",
       "      <td>0.0</td>\n",
       "      <td>24870.0</td>\n",
       "      <td>5.0</td>\n",
       "    </tr>\n",
       "    <tr>\n",
       "      <th>1</th>\n",
       "      <td>56307.0</td>\n",
       "      <td>14.0</td>\n",
       "      <td>11.0</td>\n",
       "      <td>1.0</td>\n",
       "      <td>15431.0</td>\n",
       "      <td>1551.0</td>\n",
       "      <td>2970.0</td>\n",
       "      <td>40.0</td>\n",
       "      <td>1.0</td>\n",
       "      <td>0.0</td>\n",
       "      <td>50713.0</td>\n",
       "      <td>207.0</td>\n",
       "    </tr>\n",
       "    <tr>\n",
       "      <th>2</th>\n",
       "      <td>81338.0</td>\n",
       "      <td>10.0</td>\n",
       "      <td>2.0</td>\n",
       "      <td>1.0</td>\n",
       "      <td>18402.0</td>\n",
       "      <td>2049.0</td>\n",
       "      <td>621.0</td>\n",
       "      <td>40.0</td>\n",
       "      <td>1.0</td>\n",
       "      <td>0.0</td>\n",
       "      <td>46259.0</td>\n",
       "      <td>133.0</td>\n",
       "    </tr>\n",
       "    <tr>\n",
       "      <th>3</th>\n",
       "      <td>7028.0</td>\n",
       "      <td>23.0</td>\n",
       "      <td>5.0</td>\n",
       "      <td>1.0</td>\n",
       "      <td>19080.0</td>\n",
       "      <td>377.0</td>\n",
       "      <td>1499.0</td>\n",
       "      <td>40.0</td>\n",
       "      <td>1.0</td>\n",
       "      <td>0.0</td>\n",
       "      <td>62154.0</td>\n",
       "      <td>101.0</td>\n",
       "    </tr>\n",
       "    <tr>\n",
       "      <th>4</th>\n",
       "      <td>11982.0</td>\n",
       "      <td>16.0</td>\n",
       "      <td>3.0</td>\n",
       "      <td>1.0</td>\n",
       "      <td>18580.0</td>\n",
       "      <td>748.0</td>\n",
       "      <td>2799.0</td>\n",
       "      <td>40.0</td>\n",
       "      <td>1.0</td>\n",
       "      <td>0.0</td>\n",
       "      <td>56469.0</td>\n",
       "      <td>223.0</td>\n",
       "    </tr>\n",
       "  </tbody>\n",
       "</table>\n",
       "</div>"
      ],
      "text/plain": [
       "        0     1     2    3        4       5       6     7    8    9        10  \\\n",
       "0  99753.0  14.0   5.0  1.0  15907.0   227.0  3009.0  41.0  1.0  0.0  24870.0   \n",
       "1  56307.0  14.0  11.0  1.0  15431.0  1551.0  2970.0  40.0  1.0  0.0  50713.0   \n",
       "2  81338.0  10.0   2.0  1.0  18402.0  2049.0   621.0  40.0  1.0  0.0  46259.0   \n",
       "3   7028.0  23.0   5.0  1.0  19080.0   377.0  1499.0  40.0  1.0  0.0  62154.0   \n",
       "4  11982.0  16.0   3.0  1.0  18580.0   748.0  2799.0  40.0  1.0  0.0  56469.0   \n",
       "\n",
       "      11  \n",
       "0    5.0  \n",
       "1  207.0  \n",
       "2  133.0  \n",
       "3  101.0  \n",
       "4  223.0  "
      ]
     },
     "execution_count": 6,
     "metadata": {},
     "output_type": "execute_result"
    }
   ],
   "source": [
    "oe = OrdinalEncoder()\n",
    "X = pd.DataFrame(oe.fit_transform(X))\n",
    "X.head()"
   ]
  },
  {
   "cell_type": "code",
   "execution_count": 7,
   "id": "8e4fd9b4",
   "metadata": {},
   "outputs": [
    {
     "data": {
      "text/html": [
       "<div>\n",
       "<style scoped>\n",
       "    .dataframe tbody tr th:only-of-type {\n",
       "        vertical-align: middle;\n",
       "    }\n",
       "\n",
       "    .dataframe tbody tr th {\n",
       "        vertical-align: top;\n",
       "    }\n",
       "\n",
       "    .dataframe thead th {\n",
       "        text-align: right;\n",
       "    }\n",
       "</style>\n",
       "<table border=\"1\" class=\"dataframe\">\n",
       "  <thead>\n",
       "    <tr style=\"text-align: right;\">\n",
       "      <th></th>\n",
       "      <th>订单ID</th>\n",
       "      <th>下单时间</th>\n",
       "      <th>商品一级类别</th>\n",
       "      <th>商品所属渠道</th>\n",
       "      <th>商品ID</th>\n",
       "      <th>品牌</th>\n",
       "      <th>订单金额</th>\n",
       "      <th>商品销售数量</th>\n",
       "      <th>订单渠道</th>\n",
       "      <th>支付方式</th>\n",
       "      <th>下单用户ID</th>\n",
       "      <th>城市</th>\n",
       "    </tr>\n",
       "  </thead>\n",
       "  <tbody>\n",
       "    <tr>\n",
       "      <th>0</th>\n",
       "      <td>99753.0</td>\n",
       "      <td>14.0</td>\n",
       "      <td>5.0</td>\n",
       "      <td>1.0</td>\n",
       "      <td>15907.0</td>\n",
       "      <td>227.0</td>\n",
       "      <td>3009.0</td>\n",
       "      <td>41.0</td>\n",
       "      <td>1.0</td>\n",
       "      <td>0.0</td>\n",
       "      <td>24870.0</td>\n",
       "      <td>5.0</td>\n",
       "    </tr>\n",
       "    <tr>\n",
       "      <th>1</th>\n",
       "      <td>56307.0</td>\n",
       "      <td>14.0</td>\n",
       "      <td>11.0</td>\n",
       "      <td>1.0</td>\n",
       "      <td>15431.0</td>\n",
       "      <td>1551.0</td>\n",
       "      <td>2970.0</td>\n",
       "      <td>40.0</td>\n",
       "      <td>1.0</td>\n",
       "      <td>0.0</td>\n",
       "      <td>50713.0</td>\n",
       "      <td>207.0</td>\n",
       "    </tr>\n",
       "    <tr>\n",
       "      <th>2</th>\n",
       "      <td>81338.0</td>\n",
       "      <td>10.0</td>\n",
       "      <td>2.0</td>\n",
       "      <td>1.0</td>\n",
       "      <td>18402.0</td>\n",
       "      <td>2049.0</td>\n",
       "      <td>621.0</td>\n",
       "      <td>40.0</td>\n",
       "      <td>1.0</td>\n",
       "      <td>0.0</td>\n",
       "      <td>46259.0</td>\n",
       "      <td>133.0</td>\n",
       "    </tr>\n",
       "    <tr>\n",
       "      <th>3</th>\n",
       "      <td>7028.0</td>\n",
       "      <td>23.0</td>\n",
       "      <td>5.0</td>\n",
       "      <td>1.0</td>\n",
       "      <td>19080.0</td>\n",
       "      <td>377.0</td>\n",
       "      <td>1499.0</td>\n",
       "      <td>40.0</td>\n",
       "      <td>1.0</td>\n",
       "      <td>0.0</td>\n",
       "      <td>62154.0</td>\n",
       "      <td>101.0</td>\n",
       "    </tr>\n",
       "    <tr>\n",
       "      <th>4</th>\n",
       "      <td>11982.0</td>\n",
       "      <td>16.0</td>\n",
       "      <td>3.0</td>\n",
       "      <td>1.0</td>\n",
       "      <td>18580.0</td>\n",
       "      <td>748.0</td>\n",
       "      <td>2799.0</td>\n",
       "      <td>40.0</td>\n",
       "      <td>1.0</td>\n",
       "      <td>0.0</td>\n",
       "      <td>56469.0</td>\n",
       "      <td>223.0</td>\n",
       "    </tr>\n",
       "  </tbody>\n",
       "</table>\n",
       "</div>"
      ],
      "text/plain": [
       "      订单ID  下单时间  商品一级类别  商品所属渠道     商品ID      品牌    订单金额  商品销售数量  订单渠道  支付方式  \\\n",
       "0  99753.0  14.0     5.0     1.0  15907.0   227.0  3009.0    41.0   1.0   0.0   \n",
       "1  56307.0  14.0    11.0     1.0  15431.0  1551.0  2970.0    40.0   1.0   0.0   \n",
       "2  81338.0  10.0     2.0     1.0  18402.0  2049.0   621.0    40.0   1.0   0.0   \n",
       "3   7028.0  23.0     5.0     1.0  19080.0   377.0  1499.0    40.0   1.0   0.0   \n",
       "4  11982.0  16.0     3.0     1.0  18580.0   748.0  2799.0    40.0   1.0   0.0   \n",
       "\n",
       "    下单用户ID     城市  \n",
       "0  24870.0    5.0  \n",
       "1  50713.0  207.0  \n",
       "2  46259.0  133.0  \n",
       "3  62154.0  101.0  \n",
       "4  56469.0  223.0  "
      ]
     },
     "execution_count": 7,
     "metadata": {},
     "output_type": "execute_result"
    }
   ],
   "source": [
    "X.columns = data.iloc[:,:-1].columns\n",
    "X.head()"
   ]
  },
  {
   "cell_type": "raw",
   "id": "ec849d41",
   "metadata": {},
   "source": [
    "分割测试集和训练集："
   ]
  },
  {
   "cell_type": "code",
   "execution_count": 8,
   "id": "7698409a",
   "metadata": {},
   "outputs": [],
   "source": [
    "Xtrain, Xtest, Ytrain, Ytest = train_test_split(X, y, test_size=0.3, random_state=1412)"
   ]
  },
  {
   "cell_type": "code",
   "execution_count": 9,
   "id": "41633748",
   "metadata": {},
   "outputs": [],
   "source": [
    "cv = KFold(n_splits=5,      # 1/5训练+4/5测试\n",
    "          shuffle=True,     # 将数据集打乱\n",
    "          random_state=1412)"
   ]
  },
  {
   "cell_type": "code",
   "execution_count": 10,
   "id": "6dd5f4e4",
   "metadata": {},
   "outputs": [],
   "source": [
    "rfc = RFC(n_estimators=200,\n",
    "         random_state=1412)"
   ]
  },
  {
   "cell_type": "raw",
   "id": "37f063af",
   "metadata": {},
   "source": [
    "【训练集】准确率ACC:"
   ]
  },
  {
   "cell_type": "code",
   "execution_count": 11,
   "id": "fe2cbff0",
   "metadata": {},
   "outputs": [],
   "source": [
    "acc = cross_val_score(rfc, Xtrain, Ytrain, cv=cv)"
   ]
  },
  {
   "cell_type": "code",
   "execution_count": 12,
   "id": "539ecde6",
   "metadata": {},
   "outputs": [
    {
     "data": {
      "text/plain": [
       "0.8284710130387849"
      ]
     },
     "execution_count": 12,
     "metadata": {},
     "output_type": "execute_result"
    }
   ],
   "source": [
    "acc.mean()"
   ]
  },
  {
   "cell_type": "code",
   "execution_count": 13,
   "id": "d6eae5cb",
   "metadata": {},
   "outputs": [
    {
     "data": {
      "text/plain": [
       "2.732280258186722e-06"
      ]
     },
     "execution_count": 13,
     "metadata": {},
     "output_type": "execute_result"
    }
   ],
   "source": [
    "acc.var()"
   ]
  },
  {
   "cell_type": "raw",
   "id": "924ec940",
   "metadata": {},
   "source": [
    "【训练集】AUC:"
   ]
  },
  {
   "cell_type": "code",
   "execution_count": 14,
   "id": "c337a02a",
   "metadata": {},
   "outputs": [],
   "source": [
    "auc = cross_val_score(rfc, Xtrain, Ytrain, cv = cv, scoring='roc_auc')"
   ]
  },
  {
   "cell_type": "code",
   "execution_count": 15,
   "id": "e7186ff2",
   "metadata": {},
   "outputs": [
    {
     "data": {
      "text/plain": [
       "0.8536282232497637"
      ]
     },
     "execution_count": 15,
     "metadata": {},
     "output_type": "execute_result"
    }
   ],
   "source": [
    "auc.mean()"
   ]
  },
  {
   "cell_type": "code",
   "execution_count": 16,
   "id": "dca349d2",
   "metadata": {},
   "outputs": [
    {
     "data": {
      "text/plain": [
       "5.064067975533223e-06"
      ]
     },
     "execution_count": 16,
     "metadata": {},
     "output_type": "execute_result"
    }
   ],
   "source": [
    "auc.var()"
   ]
  },
  {
   "cell_type": "raw",
   "id": "e4ef50d4",
   "metadata": {},
   "source": [
    "测试集"
   ]
  },
  {
   "cell_type": "code",
   "execution_count": 17,
   "id": "204220bb",
   "metadata": {},
   "outputs": [],
   "source": [
    "rfc = RFC(n_estimators=200,\n",
    "         random_state=1412)"
   ]
  },
  {
   "cell_type": "code",
   "execution_count": 18,
   "id": "93c8cb05",
   "metadata": {},
   "outputs": [],
   "source": [
    "Ytest_pred = rfc.fit(Xtrain,Ytrain).predict(Xtest)"
   ]
  },
  {
   "cell_type": "code",
   "execution_count": 19,
   "id": "0c25e1ec",
   "metadata": {},
   "outputs": [
    {
     "data": {
      "text/plain": [
       "0.8267360670305954"
      ]
     },
     "execution_count": 19,
     "metadata": {},
     "output_type": "execute_result"
    }
   ],
   "source": [
    "accuracy_score(Ytest, Ytest_pred)"
   ]
  },
  {
   "cell_type": "code",
   "execution_count": 20,
   "id": "14f08e2a",
   "metadata": {},
   "outputs": [
    {
     "data": {
      "text/plain": [
       "0.6790062441649072"
      ]
     },
     "execution_count": 20,
     "metadata": {},
     "output_type": "execute_result"
    }
   ],
   "source": [
    "roc_auc_score(Ytest, Ytest_pred)"
   ]
  },
  {
   "cell_type": "markdown",
   "id": "b31fdbd9",
   "metadata": {},
   "source": [
    "### 2. 分割训练集与测试集"
   ]
  },
  {
   "cell_type": "raw",
   "id": "ad0f60a7",
   "metadata": {},
   "source": [
    "粗略的数据探索已知，一笔交易异常，意味着整个订单都异常。\n",
    "如果单纯的直接分割，可能会出现此情况：同一订单的交易数据，既被分到测试集，也被分到训练集。那么，通过同一订单的部分交易去预测同一订单的其他交易，这样是没有意义的\n",
    "所以，我们需要保证测试集的订单不出现在训练集中"
   ]
  },
  {
   "cell_type": "code",
   "execution_count": 21,
   "id": "ff7e5049",
   "metadata": {},
   "outputs": [
    {
     "data": {
      "text/plain": [
       "131282"
      ]
     },
     "execution_count": 21,
     "metadata": {},
     "output_type": "execute_result"
    }
   ],
   "source": [
    "data['订单ID'].count()"
   ]
  },
  {
   "cell_type": "code",
   "execution_count": 22,
   "id": "795f98d8",
   "metadata": {},
   "outputs": [
    {
     "data": {
      "text/plain": [
       "114207"
      ]
     },
     "execution_count": 22,
     "metadata": {},
     "output_type": "execute_result"
    }
   ],
   "source": [
    "orderid = data['订单ID'].unique()\n",
    "len(orderid)"
   ]
  },
  {
   "cell_type": "raw",
   "id": "644952d7",
   "metadata": {},
   "source": [
    "共有13W笔交易，来自11.4W个订单"
   ]
  },
  {
   "cell_type": "markdown",
   "id": "485ccb7d",
   "metadata": {},
   "source": [
    "##### step1：分割训练ID和测试集ID"
   ]
  },
  {
   "cell_type": "code",
   "execution_count": 23,
   "id": "bc35b61a",
   "metadata": {},
   "outputs": [],
   "source": [
    "import random\n",
    "random.seed(1412)"
   ]
  },
  {
   "cell_type": "code",
   "execution_count": 24,
   "id": "fe1d726d",
   "metadata": {},
   "outputs": [
    {
     "data": {
      "text/plain": [
       "34262"
      ]
     },
     "execution_count": 24,
     "metadata": {},
     "output_type": "execute_result"
    }
   ],
   "source": [
    "test_id = random.sample(orderid.tolist(), int(len(orderid)*0.3))\n",
    "len(test_id)"
   ]
  },
  {
   "cell_type": "code",
   "execution_count": 25,
   "id": "52a1283d",
   "metadata": {},
   "outputs": [
    {
     "data": {
      "text/plain": [
       "79945"
      ]
     },
     "execution_count": 25,
     "metadata": {},
     "output_type": "execute_result"
    }
   ],
   "source": [
    "train_id = orderid.copy().tolist()\n",
    "for i in test_id:\n",
    "    train_id.remove(i)\n",
    "    \n",
    "len(train_id)"
   ]
  },
  {
   "cell_type": "markdown",
   "id": "0865cd8c",
   "metadata": {},
   "source": [
    "#### step2：根据分割出来的订单ID，将样本分割为训练集和测试集"
   ]
  },
  {
   "cell_type": "code",
   "execution_count": 26,
   "id": "219aad7c",
   "metadata": {},
   "outputs": [],
   "source": [
    "data['分割'] = 'train'"
   ]
  },
  {
   "cell_type": "code",
   "execution_count": 27,
   "id": "8092b609",
   "metadata": {},
   "outputs": [],
   "source": [
    "for i in test_id:\n",
    "    data.loc[data['订单ID']==i,'分割']='test'"
   ]
  },
  {
   "cell_type": "code",
   "execution_count": 30,
   "id": "1720f66e",
   "metadata": {},
   "outputs": [],
   "source": [
    "train = data.loc[data['分割'] == 'train',:]\n",
    "test = data.loc[data['分割'] == 'test',:]"
   ]
  },
  {
   "cell_type": "markdown",
   "id": "c9874e33",
   "metadata": {},
   "source": [
    "#### step3：对训练集和测试集的后续处理"
   ]
  },
  {
   "cell_type": "code",
   "execution_count": 31,
   "id": "a58d5f6f",
   "metadata": {},
   "outputs": [],
   "source": [
    "# 重新索引\n",
    "train.index = range(train.shape[0])\n",
    "test.index = range(test.shape[0])"
   ]
  },
  {
   "cell_type": "code",
   "execution_count": 32,
   "id": "acbef99a",
   "metadata": {},
   "outputs": [
    {
     "name": "stderr",
     "output_type": "stream",
     "text": [
      "C:\\Users\\zx\\AppData\\Local\\Temp\\ipykernel_11744\\3079550862.py:2: SettingWithCopyWarning: \n",
      "A value is trying to be set on a copy of a slice from a DataFrame\n",
      "\n",
      "See the caveats in the documentation: https://pandas.pydata.org/pandas-docs/stable/user_guide/indexing.html#returning-a-view-versus-a-copy\n",
      "  train.drop(columns='分割',inplace=True)\n",
      "C:\\Users\\zx\\AppData\\Local\\Temp\\ipykernel_11744\\3079550862.py:3: SettingWithCopyWarning: \n",
      "A value is trying to be set on a copy of a slice from a DataFrame\n",
      "\n",
      "See the caveats in the documentation: https://pandas.pydata.org/pandas-docs/stable/user_guide/indexing.html#returning-a-view-versus-a-copy\n",
      "  test.drop(columns='分割',inplace=True)\n"
     ]
    }
   ],
   "source": [
    "# 删除“分割”列\n",
    "train.drop(columns='分割',inplace=True)\n",
    "test.drop(columns='分割',inplace=True)"
   ]
  },
  {
   "cell_type": "code",
   "execution_count": 33,
   "id": "28d935b4",
   "metadata": {},
   "outputs": [],
   "source": [
    "# 将标签放到第一列\n",
    "Xtrain = train.iloc[:,:-1]\n",
    "Ytrain = train.iloc[:,-1]\n",
    "Xtest = test.iloc[:,:-1]\n",
    "Ytest = test.iloc[:,-1]\n",
    "\n",
    "train = pd.concat([Ytrain,Xtrain],axis=1)\n",
    "test = pd.concat([Ytest,Xtest],axis=1)"
   ]
  },
  {
   "cell_type": "code",
   "execution_count": 34,
   "id": "37b7b008",
   "metadata": {},
   "outputs": [
    {
     "data": {
      "text/html": [
       "<div>\n",
       "<style scoped>\n",
       "    .dataframe tbody tr th:only-of-type {\n",
       "        vertical-align: middle;\n",
       "    }\n",
       "\n",
       "    .dataframe tbody tr th {\n",
       "        vertical-align: top;\n",
       "    }\n",
       "\n",
       "    .dataframe thead th {\n",
       "        text-align: right;\n",
       "    }\n",
       "</style>\n",
       "<table border=\"1\" class=\"dataframe\">\n",
       "  <thead>\n",
       "    <tr style=\"text-align: right;\">\n",
       "      <th></th>\n",
       "      <th>异常</th>\n",
       "      <th>订单ID</th>\n",
       "      <th>下单时间</th>\n",
       "      <th>商品一级类别</th>\n",
       "      <th>商品所属渠道</th>\n",
       "      <th>商品ID</th>\n",
       "      <th>品牌</th>\n",
       "      <th>订单金额</th>\n",
       "      <th>商品销售数量</th>\n",
       "      <th>订单渠道</th>\n",
       "      <th>支付方式</th>\n",
       "      <th>下单用户ID</th>\n",
       "      <th>城市</th>\n",
       "    </tr>\n",
       "  </thead>\n",
       "  <tbody>\n",
       "    <tr>\n",
       "      <th>0</th>\n",
       "      <td>1</td>\n",
       "      <td>4283851335</td>\n",
       "      <td>14:09:49</td>\n",
       "      <td>手机摄影数码</td>\n",
       "      <td>POP</td>\n",
       "      <td>8002042497</td>\n",
       "      <td>三星</td>\n",
       "      <td>766000.0</td>\n",
       "      <td>200</td>\n",
       "      <td>主站</td>\n",
       "      <td>合并支付</td>\n",
       "      <td>dakehu_zy</td>\n",
       "      <td>上海市</td>\n",
       "    </tr>\n",
       "    <tr>\n",
       "      <th>1</th>\n",
       "      <td>1</td>\n",
       "      <td>4281111595</td>\n",
       "      <td>10:44:46</td>\n",
       "      <td>家具建材</td>\n",
       "      <td>POP</td>\n",
       "      <td>8002199518</td>\n",
       "      <td>纬度空间</td>\n",
       "      <td>100.0</td>\n",
       "      <td>100</td>\n",
       "      <td>主站</td>\n",
       "      <td>合并支付</td>\n",
       "      <td>nonscorpio</td>\n",
       "      <td>广州市</td>\n",
       "    </tr>\n",
       "    <tr>\n",
       "      <th>2</th>\n",
       "      <td>0</td>\n",
       "      <td>4106833871</td>\n",
       "      <td>16:47:34</td>\n",
       "      <td>家居日用</td>\n",
       "      <td>POP</td>\n",
       "      <td>8002212182</td>\n",
       "      <td>品道天元</td>\n",
       "      <td>8800.0</td>\n",
       "      <td>100</td>\n",
       "      <td>主站</td>\n",
       "      <td>合并支付</td>\n",
       "      <td>qq-edf69d7</td>\n",
       "      <td>深圳市</td>\n",
       "    </tr>\n",
       "    <tr>\n",
       "      <th>3</th>\n",
       "      <td>0</td>\n",
       "      <td>4253622967</td>\n",
       "      <td>21:15:59</td>\n",
       "      <td>电脑办公打印文仪</td>\n",
       "      <td>POP</td>\n",
       "      <td>8001748897</td>\n",
       "      <td>清华同方</td>\n",
       "      <td>880.0</td>\n",
       "      <td>100</td>\n",
       "      <td>主站</td>\n",
       "      <td>合并支付</td>\n",
       "      <td>benson2570</td>\n",
       "      <td>宿迁市</td>\n",
       "    </tr>\n",
       "    <tr>\n",
       "      <th>4</th>\n",
       "      <td>0</td>\n",
       "      <td>4276159555</td>\n",
       "      <td>16:49:49</td>\n",
       "      <td>家居日用</td>\n",
       "      <td>GO</td>\n",
       "      <td>1000341307</td>\n",
       "      <td>乐扣乐扣</td>\n",
       "      <td>4900.0</td>\n",
       "      <td>100</td>\n",
       "      <td>主站</td>\n",
       "      <td>合并支付</td>\n",
       "      <td>dakehu_zy</td>\n",
       "      <td>西安市</td>\n",
       "    </tr>\n",
       "  </tbody>\n",
       "</table>\n",
       "</div>"
      ],
      "text/plain": [
       "   异常        订单ID      下单时间    商品一级类别 商品所属渠道        商品ID    品牌      订单金额  \\\n",
       "0   1  4283851335  14:09:49    手机摄影数码    POP  8002042497    三星  766000.0   \n",
       "1   1  4281111595  10:44:46      家具建材    POP  8002199518  纬度空间     100.0   \n",
       "2   0  4106833871  16:47:34      家居日用    POP  8002212182  品道天元    8800.0   \n",
       "3   0  4253622967  21:15:59  电脑办公打印文仪    POP  8001748897  清华同方     880.0   \n",
       "4   0  4276159555  16:49:49      家居日用     GO  1000341307  乐扣乐扣    4900.0   \n",
       "\n",
       "   商品销售数量 订单渠道  支付方式      下单用户ID   城市  \n",
       "0     200   主站  合并支付   dakehu_zy  上海市  \n",
       "1     100   主站  合并支付  nonscorpio  广州市  \n",
       "2     100   主站  合并支付  qq-edf69d7  深圳市  \n",
       "3     100   主站  合并支付  benson2570  宿迁市  \n",
       "4     100   主站  合并支付   dakehu_zy  西安市  "
      ]
     },
     "execution_count": 34,
     "metadata": {},
     "output_type": "execute_result"
    }
   ],
   "source": [
    "train.head()"
   ]
  },
  {
   "cell_type": "code",
   "execution_count": 35,
   "id": "7d5c969d",
   "metadata": {},
   "outputs": [],
   "source": [
    "#将训练集与测试集单独保存\n",
    "train.to_csv('train_bf.csv')\n",
    "test.to_csv('test_bf.csv')"
   ]
  },
  {
   "cell_type": "markdown",
   "id": "ac4d2dbe",
   "metadata": {},
   "source": [
    "### 异常交易VS普通订单：下单时间有区别吗？"
   ]
  },
  {
   "cell_type": "code",
   "execution_count": 36,
   "id": "9a2266e5",
   "metadata": {},
   "outputs": [],
   "source": [
    "train = pd.read_csv('train_bf.csv',index_col=0)\n",
    "test = pd.read_csv('test_bf.csv',index_col=0)"
   ]
  },
  {
   "cell_type": "code",
   "execution_count": 37,
   "id": "ba80b450",
   "metadata": {},
   "outputs": [
    {
     "data": {
      "text/html": [
       "<div>\n",
       "<style scoped>\n",
       "    .dataframe tbody tr th:only-of-type {\n",
       "        vertical-align: middle;\n",
       "    }\n",
       "\n",
       "    .dataframe tbody tr th {\n",
       "        vertical-align: top;\n",
       "    }\n",
       "\n",
       "    .dataframe thead th {\n",
       "        text-align: right;\n",
       "    }\n",
       "</style>\n",
       "<table border=\"1\" class=\"dataframe\">\n",
       "  <thead>\n",
       "    <tr style=\"text-align: right;\">\n",
       "      <th></th>\n",
       "      <th>异常</th>\n",
       "      <th>订单ID</th>\n",
       "      <th>下单时间</th>\n",
       "      <th>商品一级类别</th>\n",
       "      <th>商品所属渠道</th>\n",
       "      <th>商品ID</th>\n",
       "      <th>品牌</th>\n",
       "      <th>订单金额</th>\n",
       "      <th>商品销售数量</th>\n",
       "      <th>订单渠道</th>\n",
       "      <th>支付方式</th>\n",
       "      <th>下单用户ID</th>\n",
       "      <th>城市</th>\n",
       "    </tr>\n",
       "  </thead>\n",
       "  <tbody>\n",
       "    <tr>\n",
       "      <th>0</th>\n",
       "      <td>1</td>\n",
       "      <td>4283851335</td>\n",
       "      <td>14:09:49</td>\n",
       "      <td>手机摄影数码</td>\n",
       "      <td>POP</td>\n",
       "      <td>8002042497</td>\n",
       "      <td>三星</td>\n",
       "      <td>766000.0</td>\n",
       "      <td>200</td>\n",
       "      <td>主站</td>\n",
       "      <td>合并支付</td>\n",
       "      <td>dakehu_zy</td>\n",
       "      <td>上海市</td>\n",
       "    </tr>\n",
       "    <tr>\n",
       "      <th>1</th>\n",
       "      <td>1</td>\n",
       "      <td>4281111595</td>\n",
       "      <td>10:44:46</td>\n",
       "      <td>家具建材</td>\n",
       "      <td>POP</td>\n",
       "      <td>8002199518</td>\n",
       "      <td>纬度空间</td>\n",
       "      <td>100.0</td>\n",
       "      <td>100</td>\n",
       "      <td>主站</td>\n",
       "      <td>合并支付</td>\n",
       "      <td>nonscorpio</td>\n",
       "      <td>广州市</td>\n",
       "    </tr>\n",
       "    <tr>\n",
       "      <th>2</th>\n",
       "      <td>0</td>\n",
       "      <td>4106833871</td>\n",
       "      <td>16:47:34</td>\n",
       "      <td>家居日用</td>\n",
       "      <td>POP</td>\n",
       "      <td>8002212182</td>\n",
       "      <td>品道天元</td>\n",
       "      <td>8800.0</td>\n",
       "      <td>100</td>\n",
       "      <td>主站</td>\n",
       "      <td>合并支付</td>\n",
       "      <td>qq-edf69d7</td>\n",
       "      <td>深圳市</td>\n",
       "    </tr>\n",
       "    <tr>\n",
       "      <th>3</th>\n",
       "      <td>0</td>\n",
       "      <td>4253622967</td>\n",
       "      <td>21:15:59</td>\n",
       "      <td>电脑办公打印文仪</td>\n",
       "      <td>POP</td>\n",
       "      <td>8001748897</td>\n",
       "      <td>清华同方</td>\n",
       "      <td>880.0</td>\n",
       "      <td>100</td>\n",
       "      <td>主站</td>\n",
       "      <td>合并支付</td>\n",
       "      <td>benson2570</td>\n",
       "      <td>宿迁市</td>\n",
       "    </tr>\n",
       "    <tr>\n",
       "      <th>4</th>\n",
       "      <td>0</td>\n",
       "      <td>4276159555</td>\n",
       "      <td>16:49:49</td>\n",
       "      <td>家居日用</td>\n",
       "      <td>GO</td>\n",
       "      <td>1000341307</td>\n",
       "      <td>乐扣乐扣</td>\n",
       "      <td>4900.0</td>\n",
       "      <td>100</td>\n",
       "      <td>主站</td>\n",
       "      <td>合并支付</td>\n",
       "      <td>dakehu_zy</td>\n",
       "      <td>西安市</td>\n",
       "    </tr>\n",
       "  </tbody>\n",
       "</table>\n",
       "</div>"
      ],
      "text/plain": [
       "   异常        订单ID      下单时间    商品一级类别 商品所属渠道        商品ID    品牌      订单金额  \\\n",
       "0   1  4283851335  14:09:49    手机摄影数码    POP  8002042497    三星  766000.0   \n",
       "1   1  4281111595  10:44:46      家具建材    POP  8002199518  纬度空间     100.0   \n",
       "2   0  4106833871  16:47:34      家居日用    POP  8002212182  品道天元    8800.0   \n",
       "3   0  4253622967  21:15:59  电脑办公打印文仪    POP  8001748897  清华同方     880.0   \n",
       "4   0  4276159555  16:49:49      家居日用     GO  1000341307  乐扣乐扣    4900.0   \n",
       "\n",
       "   商品销售数量 订单渠道  支付方式      下单用户ID   城市  \n",
       "0     200   主站  合并支付   dakehu_zy  上海市  \n",
       "1     100   主站  合并支付  nonscorpio  广州市  \n",
       "2     100   主站  合并支付  qq-edf69d7  深圳市  \n",
       "3     100   主站  合并支付  benson2570  宿迁市  \n",
       "4     100   主站  合并支付   dakehu_zy  西安市  "
      ]
     },
     "execution_count": 37,
     "metadata": {},
     "output_type": "execute_result"
    }
   ],
   "source": [
    "train.head()"
   ]
  },
  {
   "cell_type": "markdown",
   "id": "65861faf",
   "metadata": {},
   "source": [
    "#### 关系探索"
   ]
  },
  {
   "cell_type": "code",
   "execution_count": 38,
   "id": "9d86213a",
   "metadata": {},
   "outputs": [],
   "source": [
    "import time\n",
    "import datetime"
   ]
  },
  {
   "cell_type": "code",
   "execution_count": 39,
   "id": "8da9c5ad",
   "metadata": {},
   "outputs": [
    {
     "data": {
      "text/plain": [
       "'14:09:49'"
      ]
     },
     "execution_count": 39,
     "metadata": {},
     "output_type": "execute_result"
    }
   ],
   "source": [
    "train['下单时间'][0]"
   ]
  },
  {
   "cell_type": "code",
   "execution_count": 40,
   "id": "5adc16d2",
   "metadata": {},
   "outputs": [],
   "source": [
    "# 将时间字符串按小时数提取为单独的Series"
   ]
  },
  {
   "cell_type": "code",
   "execution_count": 41,
   "id": "fa1d7d49",
   "metadata": {},
   "outputs": [
    {
     "data": {
      "text/plain": [
       "'14'"
      ]
     },
     "execution_count": 41,
     "metadata": {},
     "output_type": "execute_result"
    }
   ],
   "source": [
    "train['下单时间'][0][:2]"
   ]
  },
  {
   "cell_type": "code",
   "execution_count": 42,
   "id": "63cafee3",
   "metadata": {},
   "outputs": [],
   "source": [
    "Hour = train.loc[:,'下单时间'].apply(lambda x: int(x[:2]))"
   ]
  },
  {
   "cell_type": "code",
   "execution_count": 46,
   "id": "ac04ac0c",
   "metadata": {},
   "outputs": [],
   "source": [
    "#计算每个区间内的交易数量"
   ]
  },
  {
   "cell_type": "code",
   "execution_count": 47,
   "id": "c82210c4",
   "metadata": {},
   "outputs": [],
   "source": [
    "OrderTime_ab = Hour[train['异常'] == 1].value_counts()"
   ]
  },
  {
   "cell_type": "code",
   "execution_count": 48,
   "id": "daa7440b",
   "metadata": {},
   "outputs": [],
   "source": [
    "OrderTime_normal = Hour[train['异常'] == 0].value_counts()"
   ]
  },
  {
   "cell_type": "code",
   "execution_count": 49,
   "id": "ab08a520",
   "metadata": {},
   "outputs": [],
   "source": [
    "import seaborn as sns"
   ]
  },
  {
   "cell_type": "code",
   "execution_count": 52,
   "id": "a69acf1a",
   "metadata": {},
   "outputs": [
    {
     "data": {
      "image/png": "[encoded data removed]",
      "text/plain": [
       "<Figure size 1500x900 with 2 Axes>"
      ]
     },
     "metadata": {},
     "output_type": "display_data"
    }
   ],
   "source": [
    "plt.figure(figsize=(15,9),dpi=100)\n",
    "sns.set(style='white',font='Simhei',font_scale=1.1)\n",
    "\n",
    "plt.subplot(211)\n",
    "plt.bar(OrderTime_normal.index,OrderTime_normal.values,color = '#01a2d9',alpha=0.7)\n",
    "plt.title('普通交易',fontsize=25)\n",
    "plt.xticks(ticks=range(0,24,2),fontsize = 20)\n",
    "\n",
    "plt.subplot(212)\n",
    "plt.bar(OrderTime_ab.index,OrderTime_ab.values,color = '#dc2624',alpha=0.7)\n",
    "plt.title('异常交易',fontsize=25)\n",
    "plt.xticks(ticks=range(0,24,2),fontsize = 20)\n",
    "\n",
    "plt.subplots_adjust(hspace=0.3)\n",
    "plt.show()"
   ]
  },
  {
   "cell_type": "markdown",
   "id": "a7d053e7",
   "metadata": {},
   "source": [
    "异常交易与普通订单的下单时间并无显著差异，下单时间很可能与交易是否异常无关\n",
    "\n",
    "保留这个特征，并将其转化为小时和分钟。其中小时按24小时进行编码，分钟按前半小时、后半小时分别编码为0与1"
   ]
  },
  {
   "cell_type": "markdown",
   "id": "02216a17",
   "metadata": {},
   "source": [
    "#### 特征编码"
   ]
  },
  {
   "cell_type": "code",
   "execution_count": 53,
   "id": "01e7a686",
   "metadata": {},
   "outputs": [
    {
     "data": {
      "text/plain": [
       "0        14:09:49\n",
       "1        10:44:46\n",
       "2        16:47:34\n",
       "3        21:15:59\n",
       "4        16:49:49\n",
       "           ...   \n",
       "91863    23:56:01\n",
       "91864    23:57:24\n",
       "91865    23:54:34\n",
       "91866    23:55:06\n",
       "91867    23:58:59\n",
       "Name: 下单时间, Length: 91868, dtype: object"
      ]
     },
     "execution_count": 53,
     "metadata": {},
     "output_type": "execute_result"
    }
   ],
   "source": [
    "train['下单时间']"
   ]
  },
  {
   "cell_type": "code",
   "execution_count": 56,
   "id": "79c4be58",
   "metadata": {},
   "outputs": [],
   "source": [
    "train['下单分钟'] = train['下单时间'].apply(lambda x: int(int(x[3:5]) > 30))\n",
    "train['下单小时'] = train['下单时间'].apply(lambda x: int(x[:2]))\n",
    "\n",
    "test['下单分钟'] = test['下单时间'].apply(lambda x: int(int(x[3:5]) > 30))\n",
    "test['下单小时'] = test['下单时间'].apply(lambda x: int(x[:2]))"
   ]
  },
  {
   "cell_type": "code",
   "execution_count": 57,
   "id": "643e723f",
   "metadata": {},
   "outputs": [
    {
     "data": {
      "text/html": [
       "<div>\n",
       "<style scoped>\n",
       "    .dataframe tbody tr th:only-of-type {\n",
       "        vertical-align: middle;\n",
       "    }\n",
       "\n",
       "    .dataframe tbody tr th {\n",
       "        vertical-align: top;\n",
       "    }\n",
       "\n",
       "    .dataframe thead th {\n",
       "        text-align: right;\n",
       "    }\n",
       "</style>\n",
       "<table border=\"1\" class=\"dataframe\">\n",
       "  <thead>\n",
       "    <tr style=\"text-align: right;\">\n",
       "      <th></th>\n",
       "      <th>异常</th>\n",
       "      <th>订单ID</th>\n",
       "      <th>下单时间</th>\n",
       "      <th>商品一级类别</th>\n",
       "      <th>商品所属渠道</th>\n",
       "      <th>商品ID</th>\n",
       "      <th>品牌</th>\n",
       "      <th>订单金额</th>\n",
       "      <th>商品销售数量</th>\n",
       "      <th>订单渠道</th>\n",
       "      <th>支付方式</th>\n",
       "      <th>下单用户ID</th>\n",
       "      <th>城市</th>\n",
       "      <th>下单分钟</th>\n",
       "      <th>下单小时</th>\n",
       "    </tr>\n",
       "  </thead>\n",
       "  <tbody>\n",
       "    <tr>\n",
       "      <th>0</th>\n",
       "      <td>1</td>\n",
       "      <td>4283851335</td>\n",
       "      <td>14:09:49</td>\n",
       "      <td>手机摄影数码</td>\n",
       "      <td>POP</td>\n",
       "      <td>8002042497</td>\n",
       "      <td>三星</td>\n",
       "      <td>766000.0</td>\n",
       "      <td>200</td>\n",
       "      <td>主站</td>\n",
       "      <td>合并支付</td>\n",
       "      <td>dakehu_zy</td>\n",
       "      <td>上海市</td>\n",
       "      <td>0</td>\n",
       "      <td>14</td>\n",
       "    </tr>\n",
       "    <tr>\n",
       "      <th>1</th>\n",
       "      <td>1</td>\n",
       "      <td>4281111595</td>\n",
       "      <td>10:44:46</td>\n",
       "      <td>家具建材</td>\n",
       "      <td>POP</td>\n",
       "      <td>8002199518</td>\n",
       "      <td>纬度空间</td>\n",
       "      <td>100.0</td>\n",
       "      <td>100</td>\n",
       "      <td>主站</td>\n",
       "      <td>合并支付</td>\n",
       "      <td>nonscorpio</td>\n",
       "      <td>广州市</td>\n",
       "      <td>1</td>\n",
       "      <td>10</td>\n",
       "    </tr>\n",
       "    <tr>\n",
       "      <th>2</th>\n",
       "      <td>0</td>\n",
       "      <td>4106833871</td>\n",
       "      <td>16:47:34</td>\n",
       "      <td>家居日用</td>\n",
       "      <td>POP</td>\n",
       "      <td>8002212182</td>\n",
       "      <td>品道天元</td>\n",
       "      <td>8800.0</td>\n",
       "      <td>100</td>\n",
       "      <td>主站</td>\n",
       "      <td>合并支付</td>\n",
       "      <td>qq-edf69d7</td>\n",
       "      <td>深圳市</td>\n",
       "      <td>1</td>\n",
       "      <td>16</td>\n",
       "    </tr>\n",
       "    <tr>\n",
       "      <th>3</th>\n",
       "      <td>0</td>\n",
       "      <td>4253622967</td>\n",
       "      <td>21:15:59</td>\n",
       "      <td>电脑办公打印文仪</td>\n",
       "      <td>POP</td>\n",
       "      <td>8001748897</td>\n",
       "      <td>清华同方</td>\n",
       "      <td>880.0</td>\n",
       "      <td>100</td>\n",
       "      <td>主站</td>\n",
       "      <td>合并支付</td>\n",
       "      <td>benson2570</td>\n",
       "      <td>宿迁市</td>\n",
       "      <td>0</td>\n",
       "      <td>21</td>\n",
       "    </tr>\n",
       "    <tr>\n",
       "      <th>4</th>\n",
       "      <td>0</td>\n",
       "      <td>4276159555</td>\n",
       "      <td>16:49:49</td>\n",
       "      <td>家居日用</td>\n",
       "      <td>GO</td>\n",
       "      <td>1000341307</td>\n",
       "      <td>乐扣乐扣</td>\n",
       "      <td>4900.0</td>\n",
       "      <td>100</td>\n",
       "      <td>主站</td>\n",
       "      <td>合并支付</td>\n",
       "      <td>dakehu_zy</td>\n",
       "      <td>西安市</td>\n",
       "      <td>1</td>\n",
       "      <td>16</td>\n",
       "    </tr>\n",
       "  </tbody>\n",
       "</table>\n",
       "</div>"
      ],
      "text/plain": [
       "   异常        订单ID      下单时间    商品一级类别 商品所属渠道        商品ID    品牌      订单金额  \\\n",
       "0   1  4283851335  14:09:49    手机摄影数码    POP  8002042497    三星  766000.0   \n",
       "1   1  4281111595  10:44:46      家具建材    POP  8002199518  纬度空间     100.0   \n",
       "2   0  4106833871  16:47:34      家居日用    POP  8002212182  品道天元    8800.0   \n",
       "3   0  4253622967  21:15:59  电脑办公打印文仪    POP  8001748897  清华同方     880.0   \n",
       "4   0  4276159555  16:49:49      家居日用     GO  1000341307  乐扣乐扣    4900.0   \n",
       "\n",
       "   商品销售数量 订单渠道  支付方式      下单用户ID   城市  下单分钟  下单小时  \n",
       "0     200   主站  合并支付   dakehu_zy  上海市     0    14  \n",
       "1     100   主站  合并支付  nonscorpio  广州市     1    10  \n",
       "2     100   主站  合并支付  qq-edf69d7  深圳市     1    16  \n",
       "3     100   主站  合并支付  benson2570  宿迁市     0    21  \n",
       "4     100   主站  合并支付   dakehu_zy  西安市     1    16  "
      ]
     },
     "execution_count": 57,
     "metadata": {},
     "output_type": "execute_result"
    }
   ],
   "source": [
    "train.head()"
   ]
  },
  {
   "cell_type": "markdown",
   "id": "93a46e69",
   "metadata": {},
   "source": [
    "#### 删除下单时间"
   ]
  },
  {
   "cell_type": "code",
   "execution_count": 58,
   "id": "a24b27d9",
   "metadata": {},
   "outputs": [],
   "source": [
    "train.drop(columns='下单时间',inplace=True)\n",
    "test.drop(columns='下单时间',inplace=True)"
   ]
  },
  {
   "cell_type": "markdown",
   "id": "b05b1c4d",
   "metadata": {},
   "source": [
    "#### 将处理后的数据单独保存"
   ]
  },
  {
   "cell_type": "code",
   "execution_count": 59,
   "id": "9bfe7291",
   "metadata": {},
   "outputs": [],
   "source": [
    "train.to_csv('train.csv')\n",
    "test.to_csv('test.csv')"
   ]
  },
  {
   "cell_type": "markdown",
   "id": "22639461",
   "metadata": {},
   "source": [
    "### 4、支付方式"
   ]
  },
  {
   "cell_type": "code",
   "execution_count": 60,
   "id": "6e9a8761",
   "metadata": {},
   "outputs": [
    {
     "data": {
      "text/plain": [
       "合并支付    71893\n",
       "货到付款    18321\n",
       "当当支付     1226\n",
       "在线支付      290\n",
       "账户余额      138\n",
       "Name: 支付方式, dtype: int64"
      ]
     },
     "execution_count": 60,
     "metadata": {},
     "output_type": "execute_result"
    }
   ],
   "source": [
    "train['支付方式'].value_counts()"
   ]
  },
  {
   "cell_type": "markdown",
   "id": "06f432b0",
   "metadata": {},
   "source": [
    "在数据集中，共有五大类支付方式，而五大类支付方式下的订单异常风险不同。\n",
    "\n",
    "异常风险的关键评估指标：异常率\n",
    "\n",
    "异常率是指异常交易/全部交易的比例，异常率高则说明异常风险越高。对于每个特征，我们都可以计算其不同类别下的异常率，以确定特定类别与异常风险的关系"
   ]
  },
  {
   "cell_type": "code",
   "execution_count": 61,
   "id": "243278fc",
   "metadata": {},
   "outputs": [
    {
     "data": {
      "text/plain": [
       "支付方式\n",
       "合并支付    0.275173\n",
       "在线支付    0.251724\n",
       "当当支付    0.044861\n",
       "账户余额    0.028986\n",
       "货到付款    0.000000\n",
       "Name: 异常, dtype: float64"
      ]
     },
     "execution_count": 61,
     "metadata": {},
     "output_type": "execute_result"
    }
   ],
   "source": [
    "train.groupby('支付方式')['异常'].mean()"
   ]
  },
  {
   "cell_type": "code",
   "execution_count": 62,
   "id": "6ae49739",
   "metadata": {},
   "outputs": [
    {
     "data": {
      "text/plain": [
       "支付方式\n",
       "合并支付    19783\n",
       "在线支付       73\n",
       "当当支付       55\n",
       "账户余额        4\n",
       "货到付款        0\n",
       "Name: 异常, dtype: int64"
      ]
     },
     "execution_count": 62,
     "metadata": {},
     "output_type": "execute_result"
    }
   ],
   "source": [
    "train.groupby('支付方式')['异常'].sum()"
   ]
  },
  {
   "cell_type": "code",
   "execution_count": 63,
   "id": "964a9d40",
   "metadata": {},
   "outputs": [
    {
     "data": {
      "text/plain": [
       "支付方式\n",
       "合并支付    71893\n",
       "在线支付      290\n",
       "当当支付     1226\n",
       "账户余额      138\n",
       "货到付款    18321\n",
       "Name: 异常, dtype: int64"
      ]
     },
     "execution_count": 63,
     "metadata": {},
     "output_type": "execute_result"
    }
   ],
   "source": [
    "train.groupby('支付方式')['异常'].count()"
   ]
  },
  {
   "cell_type": "code",
   "execution_count": 64,
   "id": "6e987bef",
   "metadata": {},
   "outputs": [
    {
     "data": {
      "text/plain": [
       "支付方式\n",
       "合并支付    0.275173\n",
       "在线支付    0.251724\n",
       "当当支付    0.044861\n",
       "账户余额    0.028986\n",
       "货到付款    0.000000\n",
       "Name: 异常, dtype: float64"
      ]
     },
     "execution_count": 64,
     "metadata": {},
     "output_type": "execute_result"
    }
   ],
   "source": [
    "train.groupby('支付方式')['异常'].sum() / train.groupby('支付方式')['异常'].count()"
   ]
  },
  {
   "cell_type": "code",
   "execution_count": 67,
   "id": "fbf3f4b3",
   "metadata": {},
   "outputs": [],
   "source": [
    "def GroupByFeature(column, train, test, newcolumn):\n",
    "    #使用训练集数据创建字典\n",
    "    dic = dict(train.groupby(column)['异常'].mean())\n",
    "    \n",
    "    # 建立新特征\n",
    "    train[newcolumn] = train[column].map(dic)\n",
    "    test[newcolumn] = test[column].map(dic)\n",
    "    \n",
    "    return train, test"
   ]
  },
  {
   "cell_type": "code",
   "execution_count": 68,
   "id": "cf44a1ad",
   "metadata": {},
   "outputs": [],
   "source": [
    "train, test = GroupByFeature('支付方式',train, test, '支付方式异常率')"
   ]
  },
  {
   "cell_type": "code",
   "execution_count": 69,
   "id": "b5502f14",
   "metadata": {},
   "outputs": [
    {
     "data": {
      "text/html": [
       "<div>\n",
       "<style scoped>\n",
       "    .dataframe tbody tr th:only-of-type {\n",
       "        vertical-align: middle;\n",
       "    }\n",
       "\n",
       "    .dataframe tbody tr th {\n",
       "        vertical-align: top;\n",
       "    }\n",
       "\n",
       "    .dataframe thead th {\n",
       "        text-align: right;\n",
       "    }\n",
       "</style>\n",
       "<table border=\"1\" class=\"dataframe\">\n",
       "  <thead>\n",
       "    <tr style=\"text-align: right;\">\n",
       "      <th></th>\n",
       "      <th>异常</th>\n",
       "      <th>订单ID</th>\n",
       "      <th>商品一级类别</th>\n",
       "      <th>商品所属渠道</th>\n",
       "      <th>商品ID</th>\n",
       "      <th>品牌</th>\n",
       "      <th>订单金额</th>\n",
       "      <th>商品销售数量</th>\n",
       "      <th>订单渠道</th>\n",
       "      <th>支付方式</th>\n",
       "      <th>下单用户ID</th>\n",
       "      <th>城市</th>\n",
       "      <th>下单分钟</th>\n",
       "      <th>下单小时</th>\n",
       "      <th>支付方式异常率</th>\n",
       "    </tr>\n",
       "  </thead>\n",
       "  <tbody>\n",
       "    <tr>\n",
       "      <th>0</th>\n",
       "      <td>1</td>\n",
       "      <td>4283851335</td>\n",
       "      <td>手机摄影数码</td>\n",
       "      <td>POP</td>\n",
       "      <td>8002042497</td>\n",
       "      <td>三星</td>\n",
       "      <td>766000.0</td>\n",
       "      <td>200</td>\n",
       "      <td>主站</td>\n",
       "      <td>合并支付</td>\n",
       "      <td>dakehu_zy</td>\n",
       "      <td>上海市</td>\n",
       "      <td>0</td>\n",
       "      <td>14</td>\n",
       "      <td>0.275173</td>\n",
       "    </tr>\n",
       "    <tr>\n",
       "      <th>1</th>\n",
       "      <td>1</td>\n",
       "      <td>4281111595</td>\n",
       "      <td>家具建材</td>\n",
       "      <td>POP</td>\n",
       "      <td>8002199518</td>\n",
       "      <td>纬度空间</td>\n",
       "      <td>100.0</td>\n",
       "      <td>100</td>\n",
       "      <td>主站</td>\n",
       "      <td>合并支付</td>\n",
       "      <td>nonscorpio</td>\n",
       "      <td>广州市</td>\n",
       "      <td>1</td>\n",
       "      <td>10</td>\n",
       "      <td>0.275173</td>\n",
       "    </tr>\n",
       "    <tr>\n",
       "      <th>2</th>\n",
       "      <td>0</td>\n",
       "      <td>4106833871</td>\n",
       "      <td>家居日用</td>\n",
       "      <td>POP</td>\n",
       "      <td>8002212182</td>\n",
       "      <td>品道天元</td>\n",
       "      <td>8800.0</td>\n",
       "      <td>100</td>\n",
       "      <td>主站</td>\n",
       "      <td>合并支付</td>\n",
       "      <td>qq-edf69d7</td>\n",
       "      <td>深圳市</td>\n",
       "      <td>1</td>\n",
       "      <td>16</td>\n",
       "      <td>0.275173</td>\n",
       "    </tr>\n",
       "    <tr>\n",
       "      <th>3</th>\n",
       "      <td>0</td>\n",
       "      <td>4253622967</td>\n",
       "      <td>电脑办公打印文仪</td>\n",
       "      <td>POP</td>\n",
       "      <td>8001748897</td>\n",
       "      <td>清华同方</td>\n",
       "      <td>880.0</td>\n",
       "      <td>100</td>\n",
       "      <td>主站</td>\n",
       "      <td>合并支付</td>\n",
       "      <td>benson2570</td>\n",
       "      <td>宿迁市</td>\n",
       "      <td>0</td>\n",
       "      <td>21</td>\n",
       "      <td>0.275173</td>\n",
       "    </tr>\n",
       "    <tr>\n",
       "      <th>4</th>\n",
       "      <td>0</td>\n",
       "      <td>4276159555</td>\n",
       "      <td>家居日用</td>\n",
       "      <td>GO</td>\n",
       "      <td>1000341307</td>\n",
       "      <td>乐扣乐扣</td>\n",
       "      <td>4900.0</td>\n",
       "      <td>100</td>\n",
       "      <td>主站</td>\n",
       "      <td>合并支付</td>\n",
       "      <td>dakehu_zy</td>\n",
       "      <td>西安市</td>\n",
       "      <td>1</td>\n",
       "      <td>16</td>\n",
       "      <td>0.275173</td>\n",
       "    </tr>\n",
       "  </tbody>\n",
       "</table>\n",
       "</div>"
      ],
      "text/plain": [
       "   异常        订单ID    商品一级类别 商品所属渠道        商品ID    品牌      订单金额  商品销售数量 订单渠道  \\\n",
       "0   1  4283851335    手机摄影数码    POP  8002042497    三星  766000.0     200   主站   \n",
       "1   1  4281111595      家具建材    POP  8002199518  纬度空间     100.0     100   主站   \n",
       "2   0  4106833871      家居日用    POP  8002212182  品道天元    8800.0     100   主站   \n",
       "3   0  4253622967  电脑办公打印文仪    POP  8001748897  清华同方     880.0     100   主站   \n",
       "4   0  4276159555      家居日用     GO  1000341307  乐扣乐扣    4900.0     100   主站   \n",
       "\n",
       "   支付方式      下单用户ID   城市  下单分钟  下单小时   支付方式异常率  \n",
       "0  合并支付   dakehu_zy  上海市     0    14  0.275173  \n",
       "1  合并支付  nonscorpio  广州市     1    10  0.275173  \n",
       "2  合并支付  qq-edf69d7  深圳市     1    16  0.275173  \n",
       "3  合并支付  benson2570  宿迁市     0    21  0.275173  \n",
       "4  合并支付   dakehu_zy  西安市     1    16  0.275173  "
      ]
     },
     "execution_count": 69,
     "metadata": {},
     "output_type": "execute_result"
    }
   ],
   "source": [
    "train.head()"
   ]
  },
  {
   "cell_type": "markdown",
   "id": "efafc471",
   "metadata": {},
   "source": [
    "#### 特征编码"
   ]
  },
  {
   "cell_type": "code",
   "execution_count": 70,
   "id": "95493162",
   "metadata": {},
   "outputs": [],
   "source": [
    "def encodePay(column, train, test):\n",
    "    '本函数用于转化支付方式'\n",
    "    \n",
    "    dic = {}\n",
    "    feature = train.loc[:,column]\n",
    "    unique_ = np.sort(feature.unique())\n",
    "    for code, category in enumerate(unique_):\n",
    "        dic[category] = code\n",
    "        \n",
    "    #编码训练集\n",
    "    train[column] = train[column].map(dic)\n",
    "    \n",
    "    #使用训练集上生成的字典转化测试集\n",
    "    test[column] = test[column].map(dic)\n",
    "    \n",
    "    return train, test"
   ]
  },
  {
   "cell_type": "code",
   "execution_count": 71,
   "id": "0a2b9b05",
   "metadata": {},
   "outputs": [],
   "source": [
    "train, test = encodePay('支付方式',train,test)"
   ]
  },
  {
   "cell_type": "code",
   "execution_count": 72,
   "id": "c6c7665d",
   "metadata": {},
   "outputs": [
    {
     "data": {
      "text/plain": [
       "0        0\n",
       "1        0\n",
       "2        0\n",
       "3        0\n",
       "4        0\n",
       "        ..\n",
       "91863    4\n",
       "91864    4\n",
       "91865    0\n",
       "91866    0\n",
       "91867    0\n",
       "Name: 支付方式, Length: 91868, dtype: int64"
      ]
     },
     "execution_count": 72,
     "metadata": {},
     "output_type": "execute_result"
    }
   ],
   "source": [
    "train['支付方式']"
   ]
  },
  {
   "cell_type": "markdown",
   "id": "3ad87b96",
   "metadata": {},
   "source": [
    "### 城市：收货地点的风险评估"
   ]
  },
  {
   "cell_type": "markdown",
   "id": "4b0790c0",
   "metadata": {},
   "source": [
    "使用异常率来进行相关的评估，城市的类别虽然只有365个，但还是远远超出一般离散型特征的分类个数，如果按照这个数量的类别进行风险评估，很难看出有用的趋势。我们需要降低城市类别数量再进行风险评估，将365个城市按照省进行分类，并按照省份进行聚合"
   ]
  },
  {
   "cell_type": "code",
   "execution_count": 73,
   "id": "6ddde338",
   "metadata": {},
   "outputs": [
    {
     "data": {
      "text/plain": [
       "北京市        9578\n",
       "上海市        4514\n",
       "广州市        4157\n",
       "深圳市        3717\n",
       "天津市        2250\n",
       "           ... \n",
       "昌都地区          1\n",
       "广东省其他城市       1\n",
       "四川省其他城市       1\n",
       "神农架林区         1\n",
       "福建省其他城市       1\n",
       "Name: 城市, Length: 362, dtype: int64"
      ]
     },
     "execution_count": 73,
     "metadata": {},
     "output_type": "execute_result"
    }
   ],
   "source": [
    "train['城市'].value_counts()"
   ]
  },
  {
   "cell_type": "markdown",
   "id": "696be554",
   "metadata": {},
   "source": [
    "#### 按省份进行处理"
   ]
  },
  {
   "cell_type": "code",
   "execution_count": 74,
   "id": "fc4bf0e1",
   "metadata": {},
   "outputs": [
    {
     "data": {
      "text/html": [
       "<div>\n",
       "<style scoped>\n",
       "    .dataframe tbody tr th:only-of-type {\n",
       "        vertical-align: middle;\n",
       "    }\n",
       "\n",
       "    .dataframe tbody tr th {\n",
       "        vertical-align: top;\n",
       "    }\n",
       "\n",
       "    .dataframe thead th {\n",
       "        text-align: right;\n",
       "    }\n",
       "</style>\n",
       "<table border=\"1\" class=\"dataframe\">\n",
       "  <thead>\n",
       "    <tr style=\"text-align: right;\">\n",
       "      <th></th>\n",
       "      <th>省份</th>\n",
       "    </tr>\n",
       "    <tr>\n",
       "      <th>市级</th>\n",
       "      <th></th>\n",
       "    </tr>\n",
       "  </thead>\n",
       "  <tbody>\n",
       "    <tr>\n",
       "      <th>北京市</th>\n",
       "      <td>北京市</td>\n",
       "    </tr>\n",
       "    <tr>\n",
       "      <th>天津市</th>\n",
       "      <td>天津市</td>\n",
       "    </tr>\n",
       "    <tr>\n",
       "      <th>石家庄市</th>\n",
       "      <td>河北省</td>\n",
       "    </tr>\n",
       "    <tr>\n",
       "      <th>唐山市</th>\n",
       "      <td>河北省</td>\n",
       "    </tr>\n",
       "    <tr>\n",
       "      <th>秦皇岛市</th>\n",
       "      <td>河北省</td>\n",
       "    </tr>\n",
       "    <tr>\n",
       "      <th>...</th>\n",
       "      <td>...</td>\n",
       "    </tr>\n",
       "    <tr>\n",
       "      <th>辽宁省其他城市</th>\n",
       "      <td>辽宁省</td>\n",
       "    </tr>\n",
       "    <tr>\n",
       "      <th>四川省其他城市</th>\n",
       "      <td>四川省</td>\n",
       "    </tr>\n",
       "    <tr>\n",
       "      <th>广东省其他城市</th>\n",
       "      <td>广东省</td>\n",
       "    </tr>\n",
       "    <tr>\n",
       "      <th>云南省其他城市</th>\n",
       "      <td>云南省</td>\n",
       "    </tr>\n",
       "    <tr>\n",
       "      <th>福建省其他城市</th>\n",
       "      <td>福建省</td>\n",
       "    </tr>\n",
       "  </tbody>\n",
       "</table>\n",
       "<p>409 rows × 1 columns</p>\n",
       "</div>"
      ],
      "text/plain": [
       "          省份\n",
       "市级          \n",
       "北京市      北京市\n",
       "天津市      天津市\n",
       "石家庄市     河北省\n",
       "唐山市      河北省\n",
       "秦皇岛市     河北省\n",
       "...      ...\n",
       "辽宁省其他城市  辽宁省\n",
       "四川省其他城市  四川省\n",
       "广东省其他城市  广东省\n",
       "云南省其他城市  云南省\n",
       "福建省其他城市  福建省\n",
       "\n",
       "[409 rows x 1 columns]"
      ]
     },
     "execution_count": 74,
     "metadata": {},
     "output_type": "execute_result"
    }
   ],
   "source": [
    "ChinaCity = pd.read_excel('ChinaCity.xls',index_col=1)\n",
    "ChinaCity"
   ]
  },
  {
   "cell_type": "code",
   "execution_count": 75,
   "id": "a3f58f83",
   "metadata": {},
   "outputs": [
    {
     "data": {
      "text/plain": [
       "市级\n",
       "北京市        北京市\n",
       "天津市        天津市\n",
       "石家庄市       河北省\n",
       "唐山市        河北省\n",
       "秦皇岛市       河北省\n",
       "          ... \n",
       "辽宁省其他城市    辽宁省\n",
       "四川省其他城市    四川省\n",
       "广东省其他城市    广东省\n",
       "云南省其他城市    云南省\n",
       "福建省其他城市    福建省\n",
       "Name: 省份, Length: 409, dtype: object"
      ]
     },
     "execution_count": 75,
     "metadata": {},
     "output_type": "execute_result"
    }
   ],
   "source": [
    "# 化为Series，方便字典的建立\n",
    "ChinaCity['省份']"
   ]
  },
  {
   "cell_type": "code",
   "execution_count": 77,
   "id": "39049941",
   "metadata": {},
   "outputs": [],
   "source": [
    "train['省份'] = train['城市'].map(dict(ChinaCity['省份']))"
   ]
  },
  {
   "cell_type": "code",
   "execution_count": 78,
   "id": "c8bbbb14",
   "metadata": {},
   "outputs": [
    {
     "data": {
      "text/html": [
       "<div>\n",
       "<style scoped>\n",
       "    .dataframe tbody tr th:only-of-type {\n",
       "        vertical-align: middle;\n",
       "    }\n",
       "\n",
       "    .dataframe tbody tr th {\n",
       "        vertical-align: top;\n",
       "    }\n",
       "\n",
       "    .dataframe thead th {\n",
       "        text-align: right;\n",
       "    }\n",
       "</style>\n",
       "<table border=\"1\" class=\"dataframe\">\n",
       "  <thead>\n",
       "    <tr style=\"text-align: right;\">\n",
       "      <th></th>\n",
       "      <th>异常</th>\n",
       "      <th>订单ID</th>\n",
       "      <th>商品一级类别</th>\n",
       "      <th>商品所属渠道</th>\n",
       "      <th>商品ID</th>\n",
       "      <th>品牌</th>\n",
       "      <th>订单金额</th>\n",
       "      <th>商品销售数量</th>\n",
       "      <th>订单渠道</th>\n",
       "      <th>支付方式</th>\n",
       "      <th>下单用户ID</th>\n",
       "      <th>城市</th>\n",
       "      <th>下单分钟</th>\n",
       "      <th>下单小时</th>\n",
       "      <th>支付方式异常率</th>\n",
       "      <th>省份</th>\n",
       "    </tr>\n",
       "  </thead>\n",
       "  <tbody>\n",
       "    <tr>\n",
       "      <th>0</th>\n",
       "      <td>1</td>\n",
       "      <td>4283851335</td>\n",
       "      <td>手机摄影数码</td>\n",
       "      <td>POP</td>\n",
       "      <td>8002042497</td>\n",
       "      <td>三星</td>\n",
       "      <td>766000.0</td>\n",
       "      <td>200</td>\n",
       "      <td>主站</td>\n",
       "      <td>0</td>\n",
       "      <td>dakehu_zy</td>\n",
       "      <td>上海市</td>\n",
       "      <td>0</td>\n",
       "      <td>14</td>\n",
       "      <td>0.275173</td>\n",
       "      <td>上海市</td>\n",
       "    </tr>\n",
       "    <tr>\n",
       "      <th>1</th>\n",
       "      <td>1</td>\n",
       "      <td>4281111595</td>\n",
       "      <td>家具建材</td>\n",
       "      <td>POP</td>\n",
       "      <td>8002199518</td>\n",
       "      <td>纬度空间</td>\n",
       "      <td>100.0</td>\n",
       "      <td>100</td>\n",
       "      <td>主站</td>\n",
       "      <td>0</td>\n",
       "      <td>nonscorpio</td>\n",
       "      <td>广州市</td>\n",
       "      <td>1</td>\n",
       "      <td>10</td>\n",
       "      <td>0.275173</td>\n",
       "      <td>广东省</td>\n",
       "    </tr>\n",
       "    <tr>\n",
       "      <th>2</th>\n",
       "      <td>0</td>\n",
       "      <td>4106833871</td>\n",
       "      <td>家居日用</td>\n",
       "      <td>POP</td>\n",
       "      <td>8002212182</td>\n",
       "      <td>品道天元</td>\n",
       "      <td>8800.0</td>\n",
       "      <td>100</td>\n",
       "      <td>主站</td>\n",
       "      <td>0</td>\n",
       "      <td>qq-edf69d7</td>\n",
       "      <td>深圳市</td>\n",
       "      <td>1</td>\n",
       "      <td>16</td>\n",
       "      <td>0.275173</td>\n",
       "      <td>广东省</td>\n",
       "    </tr>\n",
       "    <tr>\n",
       "      <th>3</th>\n",
       "      <td>0</td>\n",
       "      <td>4253622967</td>\n",
       "      <td>电脑办公打印文仪</td>\n",
       "      <td>POP</td>\n",
       "      <td>8001748897</td>\n",
       "      <td>清华同方</td>\n",
       "      <td>880.0</td>\n",
       "      <td>100</td>\n",
       "      <td>主站</td>\n",
       "      <td>0</td>\n",
       "      <td>benson2570</td>\n",
       "      <td>宿迁市</td>\n",
       "      <td>0</td>\n",
       "      <td>21</td>\n",
       "      <td>0.275173</td>\n",
       "      <td>江苏省</td>\n",
       "    </tr>\n",
       "    <tr>\n",
       "      <th>4</th>\n",
       "      <td>0</td>\n",
       "      <td>4276159555</td>\n",
       "      <td>家居日用</td>\n",
       "      <td>GO</td>\n",
       "      <td>1000341307</td>\n",
       "      <td>乐扣乐扣</td>\n",
       "      <td>4900.0</td>\n",
       "      <td>100</td>\n",
       "      <td>主站</td>\n",
       "      <td>0</td>\n",
       "      <td>dakehu_zy</td>\n",
       "      <td>西安市</td>\n",
       "      <td>1</td>\n",
       "      <td>16</td>\n",
       "      <td>0.275173</td>\n",
       "      <td>陕西省</td>\n",
       "    </tr>\n",
       "  </tbody>\n",
       "</table>\n",
       "</div>"
      ],
      "text/plain": [
       "   异常        订单ID    商品一级类别 商品所属渠道        商品ID    品牌      订单金额  商品销售数量 订单渠道  \\\n",
       "0   1  4283851335    手机摄影数码    POP  8002042497    三星  766000.0     200   主站   \n",
       "1   1  4281111595      家具建材    POP  8002199518  纬度空间     100.0     100   主站   \n",
       "2   0  4106833871      家居日用    POP  8002212182  品道天元    8800.0     100   主站   \n",
       "3   0  4253622967  电脑办公打印文仪    POP  8001748897  清华同方     880.0     100   主站   \n",
       "4   0  4276159555      家居日用     GO  1000341307  乐扣乐扣    4900.0     100   主站   \n",
       "\n",
       "   支付方式      下单用户ID   城市  下单分钟  下单小时   支付方式异常率   省份  \n",
       "0     0   dakehu_zy  上海市     0    14  0.275173  上海市  \n",
       "1     0  nonscorpio  广州市     1    10  0.275173  广东省  \n",
       "2     0  qq-edf69d7  深圳市     1    16  0.275173  广东省  \n",
       "3     0  benson2570  宿迁市     0    21  0.275173  江苏省  \n",
       "4     0   dakehu_zy  西安市     1    16  0.275173  陕西省  "
      ]
     },
     "execution_count": 78,
     "metadata": {},
     "output_type": "execute_result"
    }
   ],
   "source": [
    "train.head()"
   ]
  },
  {
   "cell_type": "code",
   "execution_count": 79,
   "id": "f1ba0ed2",
   "metadata": {},
   "outputs": [
    {
     "data": {
      "text/plain": [
       "0"
      ]
     },
     "execution_count": 79,
     "metadata": {},
     "output_type": "execute_result"
    }
   ],
   "source": [
    "# 由于匹配数据不是我们自己编写，一定要确认map之后没有缺失值\n",
    "train['省份'].isnull().sum()"
   ]
  },
  {
   "cell_type": "code",
   "execution_count": 81,
   "id": "6be995d9",
   "metadata": {},
   "outputs": [
    {
     "data": {
      "text/plain": [
       "省份\n",
       "青海省         0.382979\n",
       "内蒙古自治区      0.309628\n",
       "西藏自治区       0.272727\n",
       "山西省         0.256000\n",
       "甘肃省         0.255043\n",
       "海南省         0.250318\n",
       "江西省         0.245702\n",
       "北京市         0.241595\n",
       "陕西省         0.236769\n",
       "河北省         0.236292\n",
       "宁夏回族自治区     0.233161\n",
       "重庆市         0.232558\n",
       "新疆维吾尔自治区    0.231325\n",
       "河南省         0.225344\n",
       "吉林省         0.223310\n",
       "广东省         0.222260\n",
       "浙江省         0.219894\n",
       "山东省         0.217832\n",
       "湖北省         0.217329\n",
       "福建省         0.215807\n",
       "天津市         0.215111\n",
       "江苏省         0.212617\n",
       "辽宁省         0.211465\n",
       "云南省         0.207724\n",
       "湖南省         0.207155\n",
       "上海市         0.206912\n",
       "广西壮族自治区     0.201106\n",
       "四川省         0.190524\n",
       "黑龙江省        0.181818\n",
       "安徽省         0.159470\n",
       "贵州省         0.072279\n",
       "Name: 异常, dtype: float64"
      ]
     },
     "execution_count": 81,
     "metadata": {},
     "output_type": "execute_result"
    }
   ],
   "source": [
    "# 计算每个省份的异常率\n",
    "train.groupby(['省份'])['异常'].mean().sort_values(ascending=False)"
   ]
  },
  {
   "cell_type": "code",
   "execution_count": 82,
   "id": "ef18e874",
   "metadata": {},
   "outputs": [],
   "source": [
    "# 对train和test创造出省份这个特征\n",
    "train['省份'] = train['城市'].map(dict(ChinaCity['省份']))\n",
    "test['省份'] = test['城市'].map(dict(ChinaCity['省份']))"
   ]
  },
  {
   "cell_type": "code",
   "execution_count": 83,
   "id": "0811828d",
   "metadata": {},
   "outputs": [],
   "source": [
    "def GroupByFeature(column, train, test, newcolumn):\n",
    "    #使用训练集数据创建字典\n",
    "    dic = dict(train.groupby(column)['异常'].mean())\n",
    "    #建立新特征\n",
    "    train[newcolumn] = train[column].map(dic)\n",
    "    test[newcolumn] = test[column].map(dic)\n",
    "    \n",
    "    return train, test"
   ]
  },
  {
   "cell_type": "code",
   "execution_count": 84,
   "id": "755c83a6",
   "metadata": {},
   "outputs": [],
   "source": [
    "train, test = GroupByFeature('省份',train, test, '省份异常率')"
   ]
  },
  {
   "cell_type": "code",
   "execution_count": 85,
   "id": "935398c9",
   "metadata": {},
   "outputs": [
    {
     "data": {
      "text/html": [
       "<div>\n",
       "<style scoped>\n",
       "    .dataframe tbody tr th:only-of-type {\n",
       "        vertical-align: middle;\n",
       "    }\n",
       "\n",
       "    .dataframe tbody tr th {\n",
       "        vertical-align: top;\n",
       "    }\n",
       "\n",
       "    .dataframe thead th {\n",
       "        text-align: right;\n",
       "    }\n",
       "</style>\n",
       "<table border=\"1\" class=\"dataframe\">\n",
       "  <thead>\n",
       "    <tr style=\"text-align: right;\">\n",
       "      <th></th>\n",
       "      <th>异常</th>\n",
       "      <th>订单ID</th>\n",
       "      <th>商品一级类别</th>\n",
       "      <th>商品所属渠道</th>\n",
       "      <th>商品ID</th>\n",
       "      <th>品牌</th>\n",
       "      <th>订单金额</th>\n",
       "      <th>商品销售数量</th>\n",
       "      <th>订单渠道</th>\n",
       "      <th>支付方式</th>\n",
       "      <th>下单用户ID</th>\n",
       "      <th>城市</th>\n",
       "      <th>下单分钟</th>\n",
       "      <th>下单小时</th>\n",
       "      <th>支付方式异常率</th>\n",
       "      <th>省份</th>\n",
       "      <th>省份异常率</th>\n",
       "    </tr>\n",
       "  </thead>\n",
       "  <tbody>\n",
       "    <tr>\n",
       "      <th>0</th>\n",
       "      <td>1</td>\n",
       "      <td>4283851335</td>\n",
       "      <td>手机摄影数码</td>\n",
       "      <td>POP</td>\n",
       "      <td>8002042497</td>\n",
       "      <td>三星</td>\n",
       "      <td>766000.0</td>\n",
       "      <td>200</td>\n",
       "      <td>主站</td>\n",
       "      <td>0</td>\n",
       "      <td>dakehu_zy</td>\n",
       "      <td>上海市</td>\n",
       "      <td>0</td>\n",
       "      <td>14</td>\n",
       "      <td>0.275173</td>\n",
       "      <td>上海市</td>\n",
       "      <td>0.206912</td>\n",
       "    </tr>\n",
       "    <tr>\n",
       "      <th>1</th>\n",
       "      <td>1</td>\n",
       "      <td>4281111595</td>\n",
       "      <td>家具建材</td>\n",
       "      <td>POP</td>\n",
       "      <td>8002199518</td>\n",
       "      <td>纬度空间</td>\n",
       "      <td>100.0</td>\n",
       "      <td>100</td>\n",
       "      <td>主站</td>\n",
       "      <td>0</td>\n",
       "      <td>nonscorpio</td>\n",
       "      <td>广州市</td>\n",
       "      <td>1</td>\n",
       "      <td>10</td>\n",
       "      <td>0.275173</td>\n",
       "      <td>广东省</td>\n",
       "      <td>0.222260</td>\n",
       "    </tr>\n",
       "    <tr>\n",
       "      <th>2</th>\n",
       "      <td>0</td>\n",
       "      <td>4106833871</td>\n",
       "      <td>家居日用</td>\n",
       "      <td>POP</td>\n",
       "      <td>8002212182</td>\n",
       "      <td>品道天元</td>\n",
       "      <td>8800.0</td>\n",
       "      <td>100</td>\n",
       "      <td>主站</td>\n",
       "      <td>0</td>\n",
       "      <td>qq-edf69d7</td>\n",
       "      <td>深圳市</td>\n",
       "      <td>1</td>\n",
       "      <td>16</td>\n",
       "      <td>0.275173</td>\n",
       "      <td>广东省</td>\n",
       "      <td>0.222260</td>\n",
       "    </tr>\n",
       "    <tr>\n",
       "      <th>3</th>\n",
       "      <td>0</td>\n",
       "      <td>4253622967</td>\n",
       "      <td>电脑办公打印文仪</td>\n",
       "      <td>POP</td>\n",
       "      <td>8001748897</td>\n",
       "      <td>清华同方</td>\n",
       "      <td>880.0</td>\n",
       "      <td>100</td>\n",
       "      <td>主站</td>\n",
       "      <td>0</td>\n",
       "      <td>benson2570</td>\n",
       "      <td>宿迁市</td>\n",
       "      <td>0</td>\n",
       "      <td>21</td>\n",
       "      <td>0.275173</td>\n",
       "      <td>江苏省</td>\n",
       "      <td>0.212617</td>\n",
       "    </tr>\n",
       "    <tr>\n",
       "      <th>4</th>\n",
       "      <td>0</td>\n",
       "      <td>4276159555</td>\n",
       "      <td>家居日用</td>\n",
       "      <td>GO</td>\n",
       "      <td>1000341307</td>\n",
       "      <td>乐扣乐扣</td>\n",
       "      <td>4900.0</td>\n",
       "      <td>100</td>\n",
       "      <td>主站</td>\n",
       "      <td>0</td>\n",
       "      <td>dakehu_zy</td>\n",
       "      <td>西安市</td>\n",
       "      <td>1</td>\n",
       "      <td>16</td>\n",
       "      <td>0.275173</td>\n",
       "      <td>陕西省</td>\n",
       "      <td>0.236769</td>\n",
       "    </tr>\n",
       "  </tbody>\n",
       "</table>\n",
       "</div>"
      ],
      "text/plain": [
       "   异常        订单ID    商品一级类别 商品所属渠道        商品ID    品牌      订单金额  商品销售数量 订单渠道  \\\n",
       "0   1  4283851335    手机摄影数码    POP  8002042497    三星  766000.0     200   主站   \n",
       "1   1  4281111595      家具建材    POP  8002199518  纬度空间     100.0     100   主站   \n",
       "2   0  4106833871      家居日用    POP  8002212182  品道天元    8800.0     100   主站   \n",
       "3   0  4253622967  电脑办公打印文仪    POP  8001748897  清华同方     880.0     100   主站   \n",
       "4   0  4276159555      家居日用     GO  1000341307  乐扣乐扣    4900.0     100   主站   \n",
       "\n",
       "   支付方式      下单用户ID   城市  下单分钟  下单小时   支付方式异常率   省份     省份异常率  \n",
       "0     0   dakehu_zy  上海市     0    14  0.275173  上海市  0.206912  \n",
       "1     0  nonscorpio  广州市     1    10  0.275173  广东省  0.222260  \n",
       "2     0  qq-edf69d7  深圳市     1    16  0.275173  广东省  0.222260  \n",
       "3     0  benson2570  宿迁市     0    21  0.275173  江苏省  0.212617  \n",
       "4     0   dakehu_zy  西安市     1    16  0.275173  陕西省  0.236769  "
      ]
     },
     "execution_count": 85,
     "metadata": {},
     "output_type": "execute_result"
    }
   ],
   "source": [
    "train.head()"
   ]
  },
  {
   "cell_type": "code",
   "execution_count": 86,
   "id": "e7779c62",
   "metadata": {},
   "outputs": [
    {
     "data": {
      "text/plain": [
       "0"
      ]
     },
     "execution_count": 86,
     "metadata": {},
     "output_type": "execute_result"
    }
   ],
   "source": [
    "train.isnull().sum().sum()"
   ]
  },
  {
   "cell_type": "code",
   "execution_count": 87,
   "id": "71f810e1",
   "metadata": {},
   "outputs": [
    {
     "data": {
      "text/plain": [
       "6"
      ]
     },
     "execution_count": 87,
     "metadata": {},
     "output_type": "execute_result"
    }
   ],
   "source": [
    "test.isnull().sum().sum()"
   ]
  },
  {
   "cell_type": "markdown",
   "id": "ded77b5f",
   "metadata": {},
   "source": [
    "#### 特征编码"
   ]
  },
  {
   "cell_type": "markdown",
   "id": "ad6a37e5",
   "metadata": {},
   "source": [
    "现在有两个特征需要编码，一个是城市，另一个是省份"
   ]
  },
  {
   "cell_type": "code",
   "execution_count": 88,
   "id": "6be41b96",
   "metadata": {},
   "outputs": [],
   "source": [
    "def encodeCityProvince(column, train, test):\n",
    "    '本函数用于编码城市与省份'\n",
    "    \n",
    "    dic = {}\n",
    "    feature = train.loc[:,column]\n",
    "    unique_ = np.sort(feature.unique())\n",
    "    for code, category in enumerate(unique_):\n",
    "        dic[category] = code\n",
    "        \n",
    "    #编码训练集\n",
    "    train[column] = train[column].map(dic)\n",
    "    \n",
    "    #使用训练集上生成的字典转化测试集\n",
    "    test[column] = test[column].map(dic)\n",
    "    \n",
    "    return train, test"
   ]
  },
  {
   "cell_type": "code",
   "execution_count": 89,
   "id": "6f30370e",
   "metadata": {},
   "outputs": [],
   "source": [
    "for column in ['城市','省份']:\n",
    "    train, test = encodeCityProvince(column,train, test)"
   ]
  },
  {
   "cell_type": "code",
   "execution_count": 90,
   "id": "23d35796",
   "metadata": {},
   "outputs": [
    {
     "data": {
      "text/html": [
       "<div>\n",
       "<style scoped>\n",
       "    .dataframe tbody tr th:only-of-type {\n",
       "        vertical-align: middle;\n",
       "    }\n",
       "\n",
       "    .dataframe tbody tr th {\n",
       "        vertical-align: top;\n",
       "    }\n",
       "\n",
       "    .dataframe thead th {\n",
       "        text-align: right;\n",
       "    }\n",
       "</style>\n",
       "<table border=\"1\" class=\"dataframe\">\n",
       "  <thead>\n",
       "    <tr style=\"text-align: right;\">\n",
       "      <th></th>\n",
       "      <th>异常</th>\n",
       "      <th>订单ID</th>\n",
       "      <th>商品一级类别</th>\n",
       "      <th>商品所属渠道</th>\n",
       "      <th>商品ID</th>\n",
       "      <th>品牌</th>\n",
       "      <th>订单金额</th>\n",
       "      <th>商品销售数量</th>\n",
       "      <th>订单渠道</th>\n",
       "      <th>支付方式</th>\n",
       "      <th>下单用户ID</th>\n",
       "      <th>城市</th>\n",
       "      <th>下单分钟</th>\n",
       "      <th>下单小时</th>\n",
       "      <th>支付方式异常率</th>\n",
       "      <th>省份</th>\n",
       "      <th>省份异常率</th>\n",
       "    </tr>\n",
       "  </thead>\n",
       "  <tbody>\n",
       "    <tr>\n",
       "      <th>0</th>\n",
       "      <td>1</td>\n",
       "      <td>4283851335</td>\n",
       "      <td>手机摄影数码</td>\n",
       "      <td>POP</td>\n",
       "      <td>8002042497</td>\n",
       "      <td>三星</td>\n",
       "      <td>766000.0</td>\n",
       "      <td>200</td>\n",
       "      <td>主站</td>\n",
       "      <td>0</td>\n",
       "      <td>dakehu_zy</td>\n",
       "      <td>5</td>\n",
       "      <td>0</td>\n",
       "      <td>14</td>\n",
       "      <td>0.275173</td>\n",
       "      <td>0</td>\n",
       "      <td>0.206912</td>\n",
       "    </tr>\n",
       "    <tr>\n",
       "      <th>1</th>\n",
       "      <td>1</td>\n",
       "      <td>4281111595</td>\n",
       "      <td>家具建材</td>\n",
       "      <td>POP</td>\n",
       "      <td>8002199518</td>\n",
       "      <td>纬度空间</td>\n",
       "      <td>100.0</td>\n",
       "      <td>100</td>\n",
       "      <td>主站</td>\n",
       "      <td>0</td>\n",
       "      <td>nonscorpio</td>\n",
       "      <td>131</td>\n",
       "      <td>1</td>\n",
       "      <td>10</td>\n",
       "      <td>0.275173</td>\n",
       "      <td>11</td>\n",
       "      <td>0.222260</td>\n",
       "    </tr>\n",
       "    <tr>\n",
       "      <th>2</th>\n",
       "      <td>0</td>\n",
       "      <td>4106833871</td>\n",
       "      <td>家居日用</td>\n",
       "      <td>POP</td>\n",
       "      <td>8002212182</td>\n",
       "      <td>品道天元</td>\n",
       "      <td>8800.0</td>\n",
       "      <td>100</td>\n",
       "      <td>主站</td>\n",
       "      <td>0</td>\n",
       "      <td>qq-edf69d7</td>\n",
       "      <td>220</td>\n",
       "      <td>1</td>\n",
       "      <td>16</td>\n",
       "      <td>0.275173</td>\n",
       "      <td>11</td>\n",
       "      <td>0.222260</td>\n",
       "    </tr>\n",
       "    <tr>\n",
       "      <th>3</th>\n",
       "      <td>0</td>\n",
       "      <td>4253622967</td>\n",
       "      <td>电脑办公打印文仪</td>\n",
       "      <td>POP</td>\n",
       "      <td>8001748897</td>\n",
       "      <td>清华同方</td>\n",
       "      <td>880.0</td>\n",
       "      <td>100</td>\n",
       "      <td>主站</td>\n",
       "      <td>0</td>\n",
       "      <td>benson2570</td>\n",
       "      <td>115</td>\n",
       "      <td>0</td>\n",
       "      <td>21</td>\n",
       "      <td>0.275173</td>\n",
       "      <td>14</td>\n",
       "      <td>0.212617</td>\n",
       "    </tr>\n",
       "    <tr>\n",
       "      <th>4</th>\n",
       "      <td>0</td>\n",
       "      <td>4276159555</td>\n",
       "      <td>家居日用</td>\n",
       "      <td>GO</td>\n",
       "      <td>1000341307</td>\n",
       "      <td>乐扣乐扣</td>\n",
       "      <td>4900.0</td>\n",
       "      <td>100</td>\n",
       "      <td>主站</td>\n",
       "      <td>0</td>\n",
       "      <td>dakehu_zy</td>\n",
       "      <td>289</td>\n",
       "      <td>1</td>\n",
       "      <td>16</td>\n",
       "      <td>0.275173</td>\n",
       "      <td>28</td>\n",
       "      <td>0.236769</td>\n",
       "    </tr>\n",
       "  </tbody>\n",
       "</table>\n",
       "</div>"
      ],
      "text/plain": [
       "   异常        订单ID    商品一级类别 商品所属渠道        商品ID    品牌      订单金额  商品销售数量 订单渠道  \\\n",
       "0   1  4283851335    手机摄影数码    POP  8002042497    三星  766000.0     200   主站   \n",
       "1   1  4281111595      家具建材    POP  8002199518  纬度空间     100.0     100   主站   \n",
       "2   0  4106833871      家居日用    POP  8002212182  品道天元    8800.0     100   主站   \n",
       "3   0  4253622967  电脑办公打印文仪    POP  8001748897  清华同方     880.0     100   主站   \n",
       "4   0  4276159555      家居日用     GO  1000341307  乐扣乐扣    4900.0     100   主站   \n",
       "\n",
       "   支付方式      下单用户ID   城市  下单分钟  下单小时   支付方式异常率  省份     省份异常率  \n",
       "0     0   dakehu_zy    5     0    14  0.275173   0  0.206912  \n",
       "1     0  nonscorpio  131     1    10  0.275173  11  0.222260  \n",
       "2     0  qq-edf69d7  220     1    16  0.275173  11  0.222260  \n",
       "3     0  benson2570  115     0    21  0.275173  14  0.212617  \n",
       "4     0   dakehu_zy  289     1    16  0.275173  28  0.236769  "
      ]
     },
     "execution_count": 90,
     "metadata": {},
     "output_type": "execute_result"
    }
   ],
   "source": [
    "train.head()"
   ]
  },
  {
   "cell_type": "code",
   "execution_count": 91,
   "id": "8991c4ad",
   "metadata": {},
   "outputs": [],
   "source": [
    "# 由于特征中类别数量太多，分割训练集测试集后，测试集中可能出现训练集中从未见过的类别"
   ]
  },
  {
   "cell_type": "code",
   "execution_count": 92,
   "id": "30dcbb7f",
   "metadata": {},
   "outputs": [
    {
     "data": {
      "text/plain": [
       "异常         0\n",
       "订单ID       0\n",
       "商品一级类别     0\n",
       "商品所属渠道     0\n",
       "商品ID       0\n",
       "品牌         0\n",
       "订单金额       0\n",
       "商品销售数量     0\n",
       "订单渠道       0\n",
       "支付方式       0\n",
       "下单用户ID     0\n",
       "城市         3\n",
       "下单分钟       0\n",
       "下单小时       0\n",
       "支付方式异常率    0\n",
       "省份         3\n",
       "省份异常率      3\n",
       "dtype: int64"
      ]
     },
     "execution_count": 92,
     "metadata": {},
     "output_type": "execute_result"
    }
   ],
   "source": [
    "test.isnull().sum()"
   ]
  },
  {
   "cell_type": "code",
   "execution_count": 93,
   "id": "69b932e7",
   "metadata": {},
   "outputs": [
    {
     "data": {
      "text/plain": [
       "361"
      ]
     },
     "execution_count": 93,
     "metadata": {},
     "output_type": "execute_result"
    }
   ],
   "source": [
    "train['城市'].max()"
   ]
  },
  {
   "cell_type": "code",
   "execution_count": 95,
   "id": "d7f56b2a",
   "metadata": {},
   "outputs": [],
   "source": [
    "test.loc[test['城市'].isnull(),'城市'] = 362"
   ]
  },
  {
   "cell_type": "code",
   "execution_count": 97,
   "id": "bbc0694a",
   "metadata": {},
   "outputs": [
    {
     "data": {
      "text/plain": [
       "30"
      ]
     },
     "execution_count": 97,
     "metadata": {},
     "output_type": "execute_result"
    }
   ],
   "source": [
    "train['省份'].max()"
   ]
  },
  {
   "cell_type": "code",
   "execution_count": 98,
   "id": "f808e026",
   "metadata": {},
   "outputs": [],
   "source": [
    "test.loc[test['省份'].isnull(),'省份'] = 31"
   ]
  },
  {
   "cell_type": "code",
   "execution_count": 99,
   "id": "1126820b",
   "metadata": {},
   "outputs": [
    {
     "data": {
      "text/plain": [
       "0.3829787234042553"
      ]
     },
     "execution_count": 99,
     "metadata": {},
     "output_type": "execute_result"
    }
   ],
   "source": [
    "train['省份异常率'].max()"
   ]
  },
  {
   "cell_type": "code",
   "execution_count": 100,
   "id": "adf5c2ba",
   "metadata": {},
   "outputs": [],
   "source": [
    "test.loc[test['省份异常率'].isnull(),'省份异常率'] = 0.3829787234042553"
   ]
  },
  {
   "cell_type": "markdown",
   "id": "b7d27dc1",
   "metadata": {},
   "source": [
    "#### 商品一级类别、订单渠道以及商品渠道"
   ]
  },
  {
   "cell_type": "code",
   "execution_count": 101,
   "id": "afaec3af",
   "metadata": {},
   "outputs": [],
   "source": [
    "for i in ['商品一级类别', '订单渠道', '商品所属渠道']:\n",
    "    train, test = GroupByFeature(i, train, test, i + '异常率')"
   ]
  },
  {
   "cell_type": "code",
   "execution_count": 102,
   "id": "b9c6bf0b",
   "metadata": {},
   "outputs": [
    {
     "data": {
      "text/html": [
       "<div>\n",
       "<style scoped>\n",
       "    .dataframe tbody tr th:only-of-type {\n",
       "        vertical-align: middle;\n",
       "    }\n",
       "\n",
       "    .dataframe tbody tr th {\n",
       "        vertical-align: top;\n",
       "    }\n",
       "\n",
       "    .dataframe thead th {\n",
       "        text-align: right;\n",
       "    }\n",
       "</style>\n",
       "<table border=\"1\" class=\"dataframe\">\n",
       "  <thead>\n",
       "    <tr style=\"text-align: right;\">\n",
       "      <th></th>\n",
       "      <th>异常</th>\n",
       "      <th>订单ID</th>\n",
       "      <th>商品一级类别</th>\n",
       "      <th>商品所属渠道</th>\n",
       "      <th>商品ID</th>\n",
       "      <th>品牌</th>\n",
       "      <th>订单金额</th>\n",
       "      <th>商品销售数量</th>\n",
       "      <th>订单渠道</th>\n",
       "      <th>支付方式</th>\n",
       "      <th>下单用户ID</th>\n",
       "      <th>城市</th>\n",
       "      <th>下单分钟</th>\n",
       "      <th>下单小时</th>\n",
       "      <th>支付方式异常率</th>\n",
       "      <th>省份</th>\n",
       "      <th>省份异常率</th>\n",
       "      <th>商品一级类别异常率</th>\n",
       "      <th>订单渠道异常率</th>\n",
       "      <th>商品所属渠道异常率</th>\n",
       "    </tr>\n",
       "  </thead>\n",
       "  <tbody>\n",
       "    <tr>\n",
       "      <th>0</th>\n",
       "      <td>1</td>\n",
       "      <td>4283851335</td>\n",
       "      <td>手机摄影数码</td>\n",
       "      <td>POP</td>\n",
       "      <td>8002042497</td>\n",
       "      <td>三星</td>\n",
       "      <td>766000.0</td>\n",
       "      <td>200</td>\n",
       "      <td>主站</td>\n",
       "      <td>0</td>\n",
       "      <td>dakehu_zy</td>\n",
       "      <td>5</td>\n",
       "      <td>0</td>\n",
       "      <td>14</td>\n",
       "      <td>0.275173</td>\n",
       "      <td>0</td>\n",
       "      <td>0.206912</td>\n",
       "      <td>0.261565</td>\n",
       "      <td>0.167849</td>\n",
       "      <td>0.294727</td>\n",
       "    </tr>\n",
       "    <tr>\n",
       "      <th>1</th>\n",
       "      <td>1</td>\n",
       "      <td>4281111595</td>\n",
       "      <td>家具建材</td>\n",
       "      <td>POP</td>\n",
       "      <td>8002199518</td>\n",
       "      <td>纬度空间</td>\n",
       "      <td>100.0</td>\n",
       "      <td>100</td>\n",
       "      <td>主站</td>\n",
       "      <td>0</td>\n",
       "      <td>nonscorpio</td>\n",
       "      <td>131</td>\n",
       "      <td>1</td>\n",
       "      <td>10</td>\n",
       "      <td>0.275173</td>\n",
       "      <td>11</td>\n",
       "      <td>0.222260</td>\n",
       "      <td>0.262840</td>\n",
       "      <td>0.167849</td>\n",
       "      <td>0.294727</td>\n",
       "    </tr>\n",
       "    <tr>\n",
       "      <th>2</th>\n",
       "      <td>0</td>\n",
       "      <td>4106833871</td>\n",
       "      <td>家居日用</td>\n",
       "      <td>POP</td>\n",
       "      <td>8002212182</td>\n",
       "      <td>品道天元</td>\n",
       "      <td>8800.0</td>\n",
       "      <td>100</td>\n",
       "      <td>主站</td>\n",
       "      <td>0</td>\n",
       "      <td>qq-edf69d7</td>\n",
       "      <td>220</td>\n",
       "      <td>1</td>\n",
       "      <td>16</td>\n",
       "      <td>0.275173</td>\n",
       "      <td>11</td>\n",
       "      <td>0.222260</td>\n",
       "      <td>0.235079</td>\n",
       "      <td>0.167849</td>\n",
       "      <td>0.294727</td>\n",
       "    </tr>\n",
       "    <tr>\n",
       "      <th>3</th>\n",
       "      <td>0</td>\n",
       "      <td>4253622967</td>\n",
       "      <td>电脑办公打印文仪</td>\n",
       "      <td>POP</td>\n",
       "      <td>8001748897</td>\n",
       "      <td>清华同方</td>\n",
       "      <td>880.0</td>\n",
       "      <td>100</td>\n",
       "      <td>主站</td>\n",
       "      <td>0</td>\n",
       "      <td>benson2570</td>\n",
       "      <td>115</td>\n",
       "      <td>0</td>\n",
       "      <td>21</td>\n",
       "      <td>0.275173</td>\n",
       "      <td>14</td>\n",
       "      <td>0.212617</td>\n",
       "      <td>0.215029</td>\n",
       "      <td>0.167849</td>\n",
       "      <td>0.294727</td>\n",
       "    </tr>\n",
       "    <tr>\n",
       "      <th>4</th>\n",
       "      <td>0</td>\n",
       "      <td>4276159555</td>\n",
       "      <td>家居日用</td>\n",
       "      <td>GO</td>\n",
       "      <td>1000341307</td>\n",
       "      <td>乐扣乐扣</td>\n",
       "      <td>4900.0</td>\n",
       "      <td>100</td>\n",
       "      <td>主站</td>\n",
       "      <td>0</td>\n",
       "      <td>dakehu_zy</td>\n",
       "      <td>289</td>\n",
       "      <td>1</td>\n",
       "      <td>16</td>\n",
       "      <td>0.275173</td>\n",
       "      <td>28</td>\n",
       "      <td>0.236769</td>\n",
       "      <td>0.235079</td>\n",
       "      <td>0.167849</td>\n",
       "      <td>0.178732</td>\n",
       "    </tr>\n",
       "  </tbody>\n",
       "</table>\n",
       "</div>"
      ],
      "text/plain": [
       "   异常        订单ID    商品一级类别 商品所属渠道        商品ID    品牌      订单金额  商品销售数量 订单渠道  \\\n",
       "0   1  4283851335    手机摄影数码    POP  8002042497    三星  766000.0     200   主站   \n",
       "1   1  4281111595      家具建材    POP  8002199518  纬度空间     100.0     100   主站   \n",
       "2   0  4106833871      家居日用    POP  8002212182  品道天元    8800.0     100   主站   \n",
       "3   0  4253622967  电脑办公打印文仪    POP  8001748897  清华同方     880.0     100   主站   \n",
       "4   0  4276159555      家居日用     GO  1000341307  乐扣乐扣    4900.0     100   主站   \n",
       "\n",
       "   支付方式      下单用户ID   城市  下单分钟  下单小时   支付方式异常率  省份     省份异常率  商品一级类别异常率  \\\n",
       "0     0   dakehu_zy    5     0    14  0.275173   0  0.206912   0.261565   \n",
       "1     0  nonscorpio  131     1    10  0.275173  11  0.222260   0.262840   \n",
       "2     0  qq-edf69d7  220     1    16  0.275173  11  0.222260   0.235079   \n",
       "3     0  benson2570  115     0    21  0.275173  14  0.212617   0.215029   \n",
       "4     0   dakehu_zy  289     1    16  0.275173  28  0.236769   0.235079   \n",
       "\n",
       "    订单渠道异常率  商品所属渠道异常率  \n",
       "0  0.167849   0.294727  \n",
       "1  0.167849   0.294727  \n",
       "2  0.167849   0.294727  \n",
       "3  0.167849   0.294727  \n",
       "4  0.167849   0.178732  "
      ]
     },
     "execution_count": 102,
     "metadata": {},
     "output_type": "execute_result"
    }
   ],
   "source": [
    "train.head()"
   ]
  },
  {
   "cell_type": "markdown",
   "id": "40690338",
   "metadata": {},
   "source": [
    "对原特征进行处理：特征编码"
   ]
  },
  {
   "cell_type": "code",
   "execution_count": 103,
   "id": "c1f92388",
   "metadata": {},
   "outputs": [],
   "source": [
    "def encode(column, train, test):\n",
    "    \n",
    "    dic = {}\n",
    "    feature = train.loc[:,column]\n",
    "    unique_ = np.sort(feature.unique())\n",
    "    for code, category in enumerate(unique_):\n",
    "        dic[category] = code\n",
    "        \n",
    "    #编码训练集\n",
    "    train[column] = train[column].map(dic)\n",
    "    \n",
    "    #使用训练集上生成的字典转化测试集\n",
    "    test[column] = test[column].map(dic)\n",
    "    \n",
    "    return train, test"
   ]
  },
  {
   "cell_type": "code",
   "execution_count": 104,
   "id": "ba42f1ef",
   "metadata": {},
   "outputs": [],
   "source": [
    "for column in ['商品一级类别', '订单渠道', '商品所属渠道']:\n",
    "    train, test = encode(column,train, test)"
   ]
  },
  {
   "cell_type": "code",
   "execution_count": 105,
   "id": "37888bc2",
   "metadata": {},
   "outputs": [
    {
     "data": {
      "text/html": [
       "<div>\n",
       "<style scoped>\n",
       "    .dataframe tbody tr th:only-of-type {\n",
       "        vertical-align: middle;\n",
       "    }\n",
       "\n",
       "    .dataframe tbody tr th {\n",
       "        vertical-align: top;\n",
       "    }\n",
       "\n",
       "    .dataframe thead th {\n",
       "        text-align: right;\n",
       "    }\n",
       "</style>\n",
       "<table border=\"1\" class=\"dataframe\">\n",
       "  <thead>\n",
       "    <tr style=\"text-align: right;\">\n",
       "      <th></th>\n",
       "      <th>异常</th>\n",
       "      <th>订单ID</th>\n",
       "      <th>商品一级类别</th>\n",
       "      <th>商品所属渠道</th>\n",
       "      <th>商品ID</th>\n",
       "      <th>品牌</th>\n",
       "      <th>订单金额</th>\n",
       "      <th>商品销售数量</th>\n",
       "      <th>订单渠道</th>\n",
       "      <th>支付方式</th>\n",
       "      <th>下单用户ID</th>\n",
       "      <th>城市</th>\n",
       "      <th>下单分钟</th>\n",
       "      <th>下单小时</th>\n",
       "      <th>支付方式异常率</th>\n",
       "      <th>省份</th>\n",
       "      <th>省份异常率</th>\n",
       "      <th>商品一级类别异常率</th>\n",
       "      <th>订单渠道异常率</th>\n",
       "      <th>商品所属渠道异常率</th>\n",
       "    </tr>\n",
       "  </thead>\n",
       "  <tbody>\n",
       "    <tr>\n",
       "      <th>0</th>\n",
       "      <td>1</td>\n",
       "      <td>4283851335</td>\n",
       "      <td>5</td>\n",
       "      <td>1</td>\n",
       "      <td>8002042497</td>\n",
       "      <td>三星</td>\n",
       "      <td>766000.0</td>\n",
       "      <td>200</td>\n",
       "      <td>1</td>\n",
       "      <td>0</td>\n",
       "      <td>dakehu_zy</td>\n",
       "      <td>5</td>\n",
       "      <td>0</td>\n",
       "      <td>14</td>\n",
       "      <td>0.275173</td>\n",
       "      <td>0</td>\n",
       "      <td>0.206912</td>\n",
       "      <td>0.261565</td>\n",
       "      <td>0.167849</td>\n",
       "      <td>0.294727</td>\n",
       "    </tr>\n",
       "    <tr>\n",
       "      <th>1</th>\n",
       "      <td>1</td>\n",
       "      <td>4281111595</td>\n",
       "      <td>2</td>\n",
       "      <td>1</td>\n",
       "      <td>8002199518</td>\n",
       "      <td>纬度空间</td>\n",
       "      <td>100.0</td>\n",
       "      <td>100</td>\n",
       "      <td>1</td>\n",
       "      <td>0</td>\n",
       "      <td>nonscorpio</td>\n",
       "      <td>131</td>\n",
       "      <td>1</td>\n",
       "      <td>10</td>\n",
       "      <td>0.275173</td>\n",
       "      <td>11</td>\n",
       "      <td>0.222260</td>\n",
       "      <td>0.262840</td>\n",
       "      <td>0.167849</td>\n",
       "      <td>0.294727</td>\n",
       "    </tr>\n",
       "    <tr>\n",
       "      <th>2</th>\n",
       "      <td>0</td>\n",
       "      <td>4106833871</td>\n",
       "      <td>3</td>\n",
       "      <td>1</td>\n",
       "      <td>8002212182</td>\n",
       "      <td>品道天元</td>\n",
       "      <td>8800.0</td>\n",
       "      <td>100</td>\n",
       "      <td>1</td>\n",
       "      <td>0</td>\n",
       "      <td>qq-edf69d7</td>\n",
       "      <td>220</td>\n",
       "      <td>1</td>\n",
       "      <td>16</td>\n",
       "      <td>0.275173</td>\n",
       "      <td>11</td>\n",
       "      <td>0.222260</td>\n",
       "      <td>0.235079</td>\n",
       "      <td>0.167849</td>\n",
       "      <td>0.294727</td>\n",
       "    </tr>\n",
       "    <tr>\n",
       "      <th>3</th>\n",
       "      <td>0</td>\n",
       "      <td>4253622967</td>\n",
       "      <td>10</td>\n",
       "      <td>1</td>\n",
       "      <td>8001748897</td>\n",
       "      <td>清华同方</td>\n",
       "      <td>880.0</td>\n",
       "      <td>100</td>\n",
       "      <td>1</td>\n",
       "      <td>0</td>\n",
       "      <td>benson2570</td>\n",
       "      <td>115</td>\n",
       "      <td>0</td>\n",
       "      <td>21</td>\n",
       "      <td>0.275173</td>\n",
       "      <td>14</td>\n",
       "      <td>0.212617</td>\n",
       "      <td>0.215029</td>\n",
       "      <td>0.167849</td>\n",
       "      <td>0.294727</td>\n",
       "    </tr>\n",
       "    <tr>\n",
       "      <th>4</th>\n",
       "      <td>0</td>\n",
       "      <td>4276159555</td>\n",
       "      <td>3</td>\n",
       "      <td>0</td>\n",
       "      <td>1000341307</td>\n",
       "      <td>乐扣乐扣</td>\n",
       "      <td>4900.0</td>\n",
       "      <td>100</td>\n",
       "      <td>1</td>\n",
       "      <td>0</td>\n",
       "      <td>dakehu_zy</td>\n",
       "      <td>289</td>\n",
       "      <td>1</td>\n",
       "      <td>16</td>\n",
       "      <td>0.275173</td>\n",
       "      <td>28</td>\n",
       "      <td>0.236769</td>\n",
       "      <td>0.235079</td>\n",
       "      <td>0.167849</td>\n",
       "      <td>0.178732</td>\n",
       "    </tr>\n",
       "  </tbody>\n",
       "</table>\n",
       "</div>"
      ],
      "text/plain": [
       "   异常        订单ID  商品一级类别  商品所属渠道        商品ID    品牌      订单金额  商品销售数量  订单渠道  \\\n",
       "0   1  4283851335       5       1  8002042497    三星  766000.0     200     1   \n",
       "1   1  4281111595       2       1  8002199518  纬度空间     100.0     100     1   \n",
       "2   0  4106833871       3       1  8002212182  品道天元    8800.0     100     1   \n",
       "3   0  4253622967      10       1  8001748897  清华同方     880.0     100     1   \n",
       "4   0  4276159555       3       0  1000341307  乐扣乐扣    4900.0     100     1   \n",
       "\n",
       "   支付方式      下单用户ID   城市  下单分钟  下单小时   支付方式异常率  省份     省份异常率  商品一级类别异常率  \\\n",
       "0     0   dakehu_zy    5     0    14  0.275173   0  0.206912   0.261565   \n",
       "1     0  nonscorpio  131     1    10  0.275173  11  0.222260   0.262840   \n",
       "2     0  qq-edf69d7  220     1    16  0.275173  11  0.222260   0.235079   \n",
       "3     0  benson2570  115     0    21  0.275173  14  0.212617   0.215029   \n",
       "4     0   dakehu_zy  289     1    16  0.275173  28  0.236769   0.235079   \n",
       "\n",
       "    订单渠道异常率  商品所属渠道异常率  \n",
       "0  0.167849   0.294727  \n",
       "1  0.167849   0.294727  \n",
       "2  0.167849   0.294727  \n",
       "3  0.167849   0.294727  \n",
       "4  0.167849   0.178732  "
      ]
     },
     "execution_count": 105,
     "metadata": {},
     "output_type": "execute_result"
    }
   ],
   "source": [
    "train.head()"
   ]
  },
  {
   "cell_type": "markdown",
   "id": "fec0f540",
   "metadata": {},
   "source": [
    "用户ID、商品ID以及品牌（离散、类别多）"
   ]
  },
  {
   "cell_type": "code",
   "execution_count": 107,
   "id": "b43f8e83",
   "metadata": {},
   "outputs": [
    {
     "name": "stdout",
     "output_type": "stream",
     "text": [
      "下单用户ID 58488\n",
      "商品ID 17252\n",
      "品牌 2507\n"
     ]
    }
   ],
   "source": [
    "for i in [\"下单用户ID\",\"商品ID\",\"品牌\"]:\n",
    "    cate = len(train[i].unique())\n",
    "    print(i, cate)"
   ]
  },
  {
   "cell_type": "markdown",
   "id": "ce9a0775",
   "metadata": {},
   "source": [
    "通常情况下，下单用户ID、商品ID这种带有唯一性的特征，都可以采取直接删除的处理方法。但在特殊的预测情况下，三者可能与交易异常有关系，需做保留"
   ]
  },
  {
   "cell_type": "markdown",
   "id": "a0d4fbb5",
   "metadata": {},
   "source": [
    "用户ID、商品ID、品牌的特点：\n",
    "\n",
    "①相较于之前处理的特征（商品一级类别、商品所属渠道、支付方式等）其各特征下的类别拥有交易量足够、可以衡量风险的类型；但用户ID、商品ID、品牌，这三者因为其特征下的类别较多，拥有交易过少无法判断的特点。为此，我们像先前一样新增特征“XX异常率”，但不同的是，需对未达到阈值（人为设定）的异常率特征记为-1\n",
    "②用户ID、商品ID、品牌因为类别多，其特征拥有部分类别只存在于训练集，不存在与测试集的特点，为此在新增特征“XX异常率”时，这些在测试集未出现的类别对应的异常率记为-1；在特征编码时，将对这些类目手动新增"
   ]
  },
  {
   "cell_type": "markdown",
   "id": "ceee5cf9",
   "metadata": {},
   "source": [
    "#### 特征探索"
   ]
  },
  {
   "cell_type": "markdown",
   "id": "99824b6f",
   "metadata": {},
   "source": [
    "下单用户ID ：阈值设为下单次数≥X次"
   ]
  },
  {
   "cell_type": "code",
   "execution_count": 108,
   "id": "f6ca82c7",
   "metadata": {},
   "outputs": [
    {
     "data": {
      "text/plain": [
       "58488"
      ]
     },
     "execution_count": 108,
     "metadata": {},
     "output_type": "execute_result"
    }
   ],
   "source": [
    "# 下单人数\n",
    "len(train['下单用户ID'].unique())"
   ]
  },
  {
   "cell_type": "code",
   "execution_count": 109,
   "id": "e8995b46",
   "metadata": {},
   "outputs": [
    {
     "data": {
      "text/plain": [
       "14351"
      ]
     },
     "execution_count": 109,
     "metadata": {},
     "output_type": "execute_result"
    }
   ],
   "source": [
    "# 下单2次以上的人数\n",
    "(train.groupby('下单用户ID')['订单ID'].count() >= 2).sum()"
   ]
  },
  {
   "cell_type": "code",
   "execution_count": 110,
   "id": "10297053",
   "metadata": {},
   "outputs": [
    {
     "data": {
      "text/plain": [
       "下单用户ID\n",
       "0002jimmy     0.000000\n",
       "000bktx       0.000000\n",
       "000miaojua    0.333333\n",
       "0010200343    0.166667\n",
       "001181yyy     0.000000\n",
       "                ...   \n",
       "黄叶211         0.000000\n",
       "黄炫熙           0.000000\n",
       "黄育武           1.000000\n",
       "黑星星           0.000000\n",
       "龚大帅           0.000000\n",
       "Name: 异常, Length: 58488, dtype: float64"
      ]
     },
     "execution_count": 110,
     "metadata": {},
     "output_type": "execute_result"
    }
   ],
   "source": [
    "# 每个客户的下单异常率\n",
    "train.groupby('下单用户ID')['异常'].mean()"
   ]
  },
  {
   "cell_type": "code",
   "execution_count": 111,
   "id": "409257e0",
   "metadata": {},
   "outputs": [
    {
     "data": {
      "text/plain": [
       "下单用户ID\n",
       "000miaojua    0.333333\n",
       "0010200343    0.166667\n",
       "007xiaoxit    0.000000\n",
       "010cathy      0.166667\n",
       "020320623_    0.333333\n",
       "                ...   \n",
       "陈锐123         0.333333\n",
       "雪芦翠鸟          0.500000\n",
       "雯胖胖           0.000000\n",
       "风儿98765432    0.500000\n",
       "黑星星           0.000000\n",
       "Name: 异常, Length: 14351, dtype: float64"
      ]
     },
     "execution_count": 111,
     "metadata": {},
     "output_type": "execute_result"
    }
   ],
   "source": [
    "#下单2次以上的用户的异常率：\n",
    "MultipleBuyRatio = train.groupby('下单用户ID')['异常'].mean()[train.groupby('下单用户ID')['订单ID'].count() >= 2]\n",
    "MultipleBuyRatio"
   ]
  },
  {
   "cell_type": "code",
   "execution_count": 113,
   "id": "4147d203",
   "metadata": {},
   "outputs": [
    {
     "data": {
      "text/plain": [
       "count    14351.000000\n",
       "mean         0.258921\n",
       "std          0.347363\n",
       "min          0.000000\n",
       "50%          0.000000\n",
       "60%          0.250000\n",
       "70%          0.500000\n",
       "80%          0.500000\n",
       "90%          1.000000\n",
       "99%          1.000000\n",
       "max          1.000000\n",
       "Name: 异常, dtype: float64"
      ]
     },
     "execution_count": 113,
     "metadata": {},
     "output_type": "execute_result"
    }
   ],
   "source": [
    "MultipleBuyRatio.describe([0.6, 0.7, 0.8 ,0.9, 0.99])"
   ]
  },
  {
   "cell_type": "markdown",
   "id": "fe44ae1c",
   "metadata": {},
   "source": [
    "结论：下单2次以上的用户中，50%以上的用户从未有过异常订单"
   ]
  },
  {
   "cell_type": "code",
   "execution_count": 114,
   "id": "c70193e4",
   "metadata": {},
   "outputs": [
    {
     "data": {
      "text/plain": [
       "count    17252.000000\n",
       "mean         6.321528\n",
       "std         37.765090\n",
       "min          1.000000\n",
       "25%          1.000000\n",
       "50%          1.000000\n",
       "75%          3.000000\n",
       "max       2606.000000\n",
       "Name: 商品销售数量, dtype: float64"
      ]
     },
     "execution_count": 114,
     "metadata": {},
     "output_type": "execute_result"
    }
   ],
   "source": [
    "# 商品ID：阈值设为销售数量≥X件\n",
    "train.groupby('商品ID')['商品销售数量'].sum().describe()"
   ]
  },
  {
   "cell_type": "markdown",
   "id": "68881102",
   "metadata": {},
   "source": [
    "均值为6.32，我们可以规定，销售数量小于10个的商品，都是交易过少无法判断其异常风险的商品。对于交易数量大于10的商品，我们计算异常率"
   ]
  },
  {
   "cell_type": "code",
   "execution_count": 115,
   "id": "2136bdad",
   "metadata": {},
   "outputs": [
    {
     "data": {
      "text/plain": [
       "count    1748.000000\n",
       "mean        0.229465\n",
       "std         0.208118\n",
       "min         0.000000\n",
       "25%         0.083333\n",
       "50%         0.176471\n",
       "75%         0.324169\n",
       "max         1.000000\n",
       "Name: 异常, dtype: float64"
      ]
     },
     "execution_count": 115,
     "metadata": {},
     "output_type": "execute_result"
    }
   ],
   "source": [
    "# 商品销售数量10件以上的商品异常率：\n",
    "ProductIDRatio = train.groupby('商品ID')['异常'].mean()[train.groupby('商品ID')['商品销售数量'].sum()>=10]\n",
    "ProductIDRatio.describe()"
   ]
  },
  {
   "cell_type": "markdown",
   "id": "9afec213",
   "metadata": {},
   "source": [
    "结论：在商品销售≥10件的商品中，有75%的商品其异常率都低于32%，符合业务逻辑"
   ]
  },
  {
   "cell_type": "code",
   "execution_count": 116,
   "id": "a9c6c00f",
   "metadata": {},
   "outputs": [
    {
     "data": {
      "text/plain": [
       "count    2507.000000\n",
       "mean       43.501795\n",
       "std       197.462143\n",
       "min         1.000000\n",
       "25%         2.000000\n",
       "50%         5.000000\n",
       "75%        18.000000\n",
       "max      3904.000000\n",
       "Name: 商品销售数量, dtype: float64"
      ]
     },
     "execution_count": 116,
     "metadata": {},
     "output_type": "execute_result"
    }
   ],
   "source": [
    "# 品牌：阈值设为销售数量≥X件\n",
    "train.groupby('品牌')['商品销售数量'].sum().describe()"
   ]
  },
  {
   "cell_type": "code",
   "execution_count": 117,
   "id": "6bc92506",
   "metadata": {},
   "outputs": [
    {
     "data": {
      "text/plain": [
       "count    882.000000\n",
       "mean       0.246267\n",
       "std        0.167831\n",
       "min        0.000000\n",
       "25%        0.133333\n",
       "50%        0.217391\n",
       "75%        0.333333\n",
       "max        1.000000\n",
       "Name: 异常, dtype: float64"
      ]
     },
     "execution_count": 117,
     "metadata": {},
     "output_type": "execute_result"
    }
   ],
   "source": [
    "BrandIDRatio = train.groupby('品牌')['异常'].mean()[train.groupby('品牌')['商品销售数量'].sum()>=10]\n",
    "BrandIDRatio.describe()"
   ]
  },
  {
   "cell_type": "markdown",
   "id": "c5cadfe2",
   "metadata": {},
   "source": [
    "结论：在商品销售≥10件的商品中，有75%的商品其异常率都低于33%，符合业务逻辑"
   ]
  },
  {
   "cell_type": "markdown",
   "id": "74252bda",
   "metadata": {},
   "source": [
    "#### 我们可以将用户异常率、商品异常率、品牌异常率作为聚合特征，放入我们的特征矩阵。"
   ]
  },
  {
   "cell_type": "code",
   "execution_count": 118,
   "id": "1d01f2b1",
   "metadata": {},
   "outputs": [
    {
     "data": {
      "text/html": [
       "<div>\n",
       "<style scoped>\n",
       "    .dataframe tbody tr th:only-of-type {\n",
       "        vertical-align: middle;\n",
       "    }\n",
       "\n",
       "    .dataframe tbody tr th {\n",
       "        vertical-align: top;\n",
       "    }\n",
       "\n",
       "    .dataframe thead th {\n",
       "        text-align: right;\n",
       "    }\n",
       "</style>\n",
       "<table border=\"1\" class=\"dataframe\">\n",
       "  <thead>\n",
       "    <tr style=\"text-align: right;\">\n",
       "      <th></th>\n",
       "      <th>用户异常率</th>\n",
       "    </tr>\n",
       "  </thead>\n",
       "  <tbody>\n",
       "    <tr>\n",
       "      <th>dakehu_zy</th>\n",
       "      <td>-1</td>\n",
       "    </tr>\n",
       "    <tr>\n",
       "      <th>nonscorpio</th>\n",
       "      <td>-1</td>\n",
       "    </tr>\n",
       "    <tr>\n",
       "      <th>qq-edf69d7</th>\n",
       "      <td>-1</td>\n",
       "    </tr>\n",
       "    <tr>\n",
       "      <th>benson2570</th>\n",
       "      <td>-1</td>\n",
       "    </tr>\n",
       "    <tr>\n",
       "      <th>qq-3be293b</th>\n",
       "      <td>-1</td>\n",
       "    </tr>\n",
       "  </tbody>\n",
       "</table>\n",
       "</div>"
      ],
      "text/plain": [
       "            用户异常率\n",
       "dakehu_zy      -1\n",
       "nonscorpio     -1\n",
       "qq-edf69d7     -1\n",
       "benson2570     -1\n",
       "qq-3be293b     -1"
      ]
     },
     "execution_count": 118,
     "metadata": {},
     "output_type": "execute_result"
    }
   ],
   "source": [
    "# 构建训练字典\n",
    "df = pd.DataFrame(index = train['下单用户ID'].unique())\n",
    "df['用户异常率'] = -1\n",
    "df.head()"
   ]
  },
  {
   "cell_type": "code",
   "execution_count": 119,
   "id": "84207d1a",
   "metadata": {},
   "outputs": [
    {
     "data": {
      "text/html": [
       "<div>\n",
       "<style scoped>\n",
       "    .dataframe tbody tr th:only-of-type {\n",
       "        vertical-align: middle;\n",
       "    }\n",
       "\n",
       "    .dataframe tbody tr th {\n",
       "        vertical-align: top;\n",
       "    }\n",
       "\n",
       "    .dataframe thead th {\n",
       "        text-align: right;\n",
       "    }\n",
       "</style>\n",
       "<table border=\"1\" class=\"dataframe\">\n",
       "  <thead>\n",
       "    <tr style=\"text-align: right;\">\n",
       "      <th></th>\n",
       "      <th>用户异常率</th>\n",
       "    </tr>\n",
       "  </thead>\n",
       "  <tbody>\n",
       "    <tr>\n",
       "      <th>dakehu_zy</th>\n",
       "      <td>0.133333</td>\n",
       "    </tr>\n",
       "    <tr>\n",
       "      <th>nonscorpio</th>\n",
       "      <td>0.333333</td>\n",
       "    </tr>\n",
       "    <tr>\n",
       "      <th>qq-edf69d7</th>\n",
       "      <td>0.000000</td>\n",
       "    </tr>\n",
       "    <tr>\n",
       "      <th>benson2570</th>\n",
       "      <td>-1.000000</td>\n",
       "    </tr>\n",
       "    <tr>\n",
       "      <th>qq-3be293b</th>\n",
       "      <td>-1.000000</td>\n",
       "    </tr>\n",
       "  </tbody>\n",
       "</table>\n",
       "</div>"
      ],
      "text/plain": [
       "               用户异常率\n",
       "dakehu_zy   0.133333\n",
       "nonscorpio  0.333333\n",
       "qq-edf69d7  0.000000\n",
       "benson2570 -1.000000\n",
       "qq-3be293b -1.000000"
      ]
     },
     "execution_count": 119,
     "metadata": {},
     "output_type": "execute_result"
    }
   ],
   "source": [
    "df.loc[MultipleBuyRatio.index,'用户异常率'] = MultipleBuyRatio\n",
    "df.head()"
   ]
  },
  {
   "cell_type": "code",
   "execution_count": 120,
   "id": "c1989323",
   "metadata": {},
   "outputs": [],
   "source": [
    "dic = dict(df['用户异常率'])"
   ]
  },
  {
   "cell_type": "code",
   "execution_count": 121,
   "id": "81863e2d",
   "metadata": {},
   "outputs": [
    {
     "data": {
      "text/plain": [
       "0        0.133333\n",
       "1        0.333333\n",
       "2        0.000000\n",
       "3       -1.000000\n",
       "4        0.133333\n",
       "           ...   \n",
       "91863    0.000000\n",
       "91864    0.000000\n",
       "91865    0.214286\n",
       "91866    0.000000\n",
       "91867   -1.000000\n",
       "Name: 用户异常率, Length: 91868, dtype: float64"
      ]
     },
     "execution_count": 121,
     "metadata": {},
     "output_type": "execute_result"
    }
   ],
   "source": [
    "# 对训练集映射字典\n",
    "train['用户异常率'] = train['下单用户ID'].map(dic)\n",
    "train['用户异常率']"
   ]
  },
  {
   "cell_type": "code",
   "execution_count": 123,
   "id": "aff6b579",
   "metadata": {},
   "outputs": [],
   "source": [
    "# 通过测试集补充字典\n",
    "dic = {}\n",
    "for i in test['下单用户ID']:\n",
    "    if i in MultipleBuyRatio.index:\n",
    "        dic[i] = MultipleBuyRatio[i]\n",
    "    else:\n",
    "        dic[i] = -1"
   ]
  },
  {
   "cell_type": "code",
   "execution_count": 124,
   "id": "bab02116",
   "metadata": {},
   "outputs": [],
   "source": [
    "# 对测试集映射字典\n",
    "test['用户异常率'] = test['下单用户ID'].map(dic)"
   ]
  },
  {
   "cell_type": "code",
   "execution_count": 125,
   "id": "74100336",
   "metadata": {},
   "outputs": [
    {
     "data": {
      "text/html": [
       "<div>\n",
       "<style scoped>\n",
       "    .dataframe tbody tr th:only-of-type {\n",
       "        vertical-align: middle;\n",
       "    }\n",
       "\n",
       "    .dataframe tbody tr th {\n",
       "        vertical-align: top;\n",
       "    }\n",
       "\n",
       "    .dataframe thead th {\n",
       "        text-align: right;\n",
       "    }\n",
       "</style>\n",
       "<table border=\"1\" class=\"dataframe\">\n",
       "  <thead>\n",
       "    <tr style=\"text-align: right;\">\n",
       "      <th></th>\n",
       "      <th>异常</th>\n",
       "      <th>订单ID</th>\n",
       "      <th>商品一级类别</th>\n",
       "      <th>商品所属渠道</th>\n",
       "      <th>商品ID</th>\n",
       "      <th>品牌</th>\n",
       "      <th>订单金额</th>\n",
       "      <th>商品销售数量</th>\n",
       "      <th>订单渠道</th>\n",
       "      <th>支付方式</th>\n",
       "      <th>...</th>\n",
       "      <th>城市</th>\n",
       "      <th>下单分钟</th>\n",
       "      <th>下单小时</th>\n",
       "      <th>支付方式异常率</th>\n",
       "      <th>省份</th>\n",
       "      <th>省份异常率</th>\n",
       "      <th>商品一级类别异常率</th>\n",
       "      <th>订单渠道异常率</th>\n",
       "      <th>商品所属渠道异常率</th>\n",
       "      <th>用户异常率</th>\n",
       "    </tr>\n",
       "  </thead>\n",
       "  <tbody>\n",
       "    <tr>\n",
       "      <th>0</th>\n",
       "      <td>1</td>\n",
       "      <td>4276537082</td>\n",
       "      <td>11</td>\n",
       "      <td>1</td>\n",
       "      <td>8001992420</td>\n",
       "      <td>樱花</td>\n",
       "      <td>19900.0</td>\n",
       "      <td>100</td>\n",
       "      <td>1</td>\n",
       "      <td>0</td>\n",
       "      <td>...</td>\n",
       "      <td>204.0</td>\n",
       "      <td>0</td>\n",
       "      <td>14</td>\n",
       "      <td>0.275173</td>\n",
       "      <td>23.0</td>\n",
       "      <td>0.215807</td>\n",
       "      <td>0.201848</td>\n",
       "      <td>0.167849</td>\n",
       "      <td>0.294727</td>\n",
       "      <td>-1.000000</td>\n",
       "    </tr>\n",
       "    <tr>\n",
       "      <th>1</th>\n",
       "      <td>0</td>\n",
       "      <td>3977175284</td>\n",
       "      <td>5</td>\n",
       "      <td>1</td>\n",
       "      <td>8002237611</td>\n",
       "      <td>伊斯贝</td>\n",
       "      <td>990.0</td>\n",
       "      <td>100</td>\n",
       "      <td>1</td>\n",
       "      <td>0</td>\n",
       "      <td>...</td>\n",
       "      <td>101.0</td>\n",
       "      <td>0</td>\n",
       "      <td>23</td>\n",
       "      <td>0.275173</td>\n",
       "      <td>23.0</td>\n",
       "      <td>0.215807</td>\n",
       "      <td>0.261565</td>\n",
       "      <td>0.167849</td>\n",
       "      <td>0.294727</td>\n",
       "      <td>-1.000000</td>\n",
       "    </tr>\n",
       "    <tr>\n",
       "      <th>2</th>\n",
       "      <td>0</td>\n",
       "      <td>4245023523</td>\n",
       "      <td>2</td>\n",
       "      <td>1</td>\n",
       "      <td>8002199518</td>\n",
       "      <td>纬度空间</td>\n",
       "      <td>100.0</td>\n",
       "      <td>100</td>\n",
       "      <td>1</td>\n",
       "      <td>0</td>\n",
       "      <td>...</td>\n",
       "      <td>131.0</td>\n",
       "      <td>1</td>\n",
       "      <td>10</td>\n",
       "      <td>0.275173</td>\n",
       "      <td>11.0</td>\n",
       "      <td>0.222260</td>\n",
       "      <td>0.262840</td>\n",
       "      <td>0.167849</td>\n",
       "      <td>0.294727</td>\n",
       "      <td>0.333333</td>\n",
       "    </tr>\n",
       "    <tr>\n",
       "      <th>3</th>\n",
       "      <td>0</td>\n",
       "      <td>4284515355</td>\n",
       "      <td>9</td>\n",
       "      <td>1</td>\n",
       "      <td>8001873245</td>\n",
       "      <td>佳星</td>\n",
       "      <td>21450.0</td>\n",
       "      <td>50</td>\n",
       "      <td>1</td>\n",
       "      <td>0</td>\n",
       "      <td>...</td>\n",
       "      <td>131.0</td>\n",
       "      <td>1</td>\n",
       "      <td>15</td>\n",
       "      <td>0.275173</td>\n",
       "      <td>11.0</td>\n",
       "      <td>0.222260</td>\n",
       "      <td>0.193856</td>\n",
       "      <td>0.167849</td>\n",
       "      <td>0.294727</td>\n",
       "      <td>-1.000000</td>\n",
       "    </tr>\n",
       "    <tr>\n",
       "      <th>4</th>\n",
       "      <td>0</td>\n",
       "      <td>4284735147</td>\n",
       "      <td>3</td>\n",
       "      <td>1</td>\n",
       "      <td>8002202146</td>\n",
       "      <td>奕辰</td>\n",
       "      <td>1950.0</td>\n",
       "      <td>50</td>\n",
       "      <td>1</td>\n",
       "      <td>0</td>\n",
       "      <td>...</td>\n",
       "      <td>95.0</td>\n",
       "      <td>0</td>\n",
       "      <td>17</td>\n",
       "      <td>0.275173</td>\n",
       "      <td>6.0</td>\n",
       "      <td>0.215111</td>\n",
       "      <td>0.235079</td>\n",
       "      <td>0.167849</td>\n",
       "      <td>0.294727</td>\n",
       "      <td>-1.000000</td>\n",
       "    </tr>\n",
       "  </tbody>\n",
       "</table>\n",
       "<p>5 rows × 21 columns</p>\n",
       "</div>"
      ],
      "text/plain": [
       "   异常        订单ID  商品一级类别  商品所属渠道        商品ID    品牌     订单金额  商品销售数量  订单渠道  \\\n",
       "0   1  4276537082      11       1  8001992420    樱花  19900.0     100     1   \n",
       "1   0  3977175284       5       1  8002237611   伊斯贝    990.0     100     1   \n",
       "2   0  4245023523       2       1  8002199518  纬度空间    100.0     100     1   \n",
       "3   0  4284515355       9       1  8001873245    佳星  21450.0      50     1   \n",
       "4   0  4284735147       3       1  8002202146    奕辰   1950.0      50     1   \n",
       "\n",
       "   支付方式  ...     城市  下单分钟  下单小时   支付方式异常率    省份     省份异常率  商品一级类别异常率  \\\n",
       "0     0  ...  204.0     0    14  0.275173  23.0  0.215807   0.201848   \n",
       "1     0  ...  101.0     0    23  0.275173  23.0  0.215807   0.261565   \n",
       "2     0  ...  131.0     1    10  0.275173  11.0  0.222260   0.262840   \n",
       "3     0  ...  131.0     1    15  0.275173  11.0  0.222260   0.193856   \n",
       "4     0  ...   95.0     0    17  0.275173   6.0  0.215111   0.235079   \n",
       "\n",
       "    订单渠道异常率  商品所属渠道异常率     用户异常率  \n",
       "0  0.167849   0.294727 -1.000000  \n",
       "1  0.167849   0.294727 -1.000000  \n",
       "2  0.167849   0.294727  0.333333  \n",
       "3  0.167849   0.294727 -1.000000  \n",
       "4  0.167849   0.294727 -1.000000  \n",
       "\n",
       "[5 rows x 21 columns]"
      ]
     },
     "execution_count": 125,
     "metadata": {},
     "output_type": "execute_result"
    }
   ],
   "source": [
    "test.head()"
   ]
  },
  {
   "cell_type": "code",
   "execution_count": 126,
   "id": "27a52f80",
   "metadata": {},
   "outputs": [],
   "source": [
    "# 将上述代码打包成函数：\n",
    "\n",
    "def GroupByFeature2(column, train, test, newcolumn, ratio):\n",
    "\n",
    "    # 构建训练集字典\n",
    "    df = pd.DataFrame(index = train[column].unique())\n",
    "    df[newcolumn] = -1  # 默认值设为-1\n",
    "    df.loc[ratio.index, newcolumn] = ratio\n",
    "\n",
    "    # 训练集字典映射\n",
    "    train[newcolumn] = train[column].map(dict(df[newcolumn]))\n",
    "\n",
    "    # 测试集构建字典：出现在训练集直接赋值，未出现的赋为-1\n",
    "    dic = {}\n",
    "    for i in test[column]:\n",
    "        if i in ratio.index:\n",
    "            dic[i] = ratio[i]\n",
    "        else:\n",
    "            dic[i] = -1\n",
    "\n",
    "    # 测试集字典映射\n",
    "    test[newcolumn] = test[column].map(dic)\n",
    "\n",
    "    return train, test"
   ]
  },
  {
   "cell_type": "code",
   "execution_count": 127,
   "id": "811db97f",
   "metadata": {},
   "outputs": [],
   "source": [
    "# 对商品ID和品牌进行处理\n",
    "train, test = GroupByFeature2(\"商品ID\",train,test,\"商品异常率\",ProductIDRatio)\n",
    "train, test = GroupByFeature2(\"品牌\",train,test,\"品牌异常率\",BrandIDRatio)"
   ]
  },
  {
   "cell_type": "markdown",
   "id": "0a8b60a4",
   "metadata": {},
   "source": [
    "##### 对原特征进行处理：特征编码"
   ]
  },
  {
   "cell_type": "code",
   "execution_count": 128,
   "id": "0abd916d",
   "metadata": {},
   "outputs": [],
   "source": [
    "for column in [\"下单用户ID\", \"商品ID\",\"品牌\"]:\n",
    "    train, test = encode(column, train, test)"
   ]
  },
  {
   "cell_type": "markdown",
   "id": "3b7b2fa1",
   "metadata": {},
   "source": [
    "### 特征工程六：订单金额与销售数量（连续）"
   ]
  },
  {
   "cell_type": "markdown",
   "id": "7e50cfd7",
   "metadata": {},
   "source": [
    "#### step1：特征探索"
   ]
  },
  {
   "cell_type": "code",
   "execution_count": 129,
   "id": "019696df",
   "metadata": {},
   "outputs": [
    {
     "data": {
      "text/plain": [
       "count     19915.000000\n",
       "mean        902.707100\n",
       "std        5790.468611\n",
       "min           0.500000\n",
       "25%          49.000000\n",
       "50%         118.000000\n",
       "75%         688.000000\n",
       "max      766000.000000\n",
       "Name: 订单金额, dtype: float64"
      ]
     },
     "execution_count": 129,
     "metadata": {},
     "output_type": "execute_result"
    }
   ],
   "source": [
    "ab = train.loc[train['异常'] == 1, '订单金额']\n",
    "ab.describe()"
   ]
  },
  {
   "cell_type": "code",
   "execution_count": 131,
   "id": "18b4c0df",
   "metadata": {},
   "outputs": [
    {
     "data": {
      "text/plain": [
       "count     71953.000000\n",
       "mean        606.823929\n",
       "std        2160.500859\n",
       "min           0.500000\n",
       "25%          21.900000\n",
       "50%          89.900000\n",
       "75%         338.000000\n",
       "max      383000.000000\n",
       "Name: 订单金额, dtype: float64"
      ]
     },
     "execution_count": 131,
     "metadata": {},
     "output_type": "execute_result"
    }
   ],
   "source": [
    "normal = train.loc[train['异常'] == 0, '订单金额']\n",
    "normal.describe()"
   ]
  },
  {
   "cell_type": "markdown",
   "id": "91e4bfb0",
   "metadata": {},
   "source": [
    "异常交易的订单金额均值高、方差也高，从整体来说都表现出比普通交易更昂贵的属性"
   ]
  },
  {
   "cell_type": "code",
   "execution_count": 132,
   "id": "c57e492d",
   "metadata": {},
   "outputs": [],
   "source": [
    "import seaborn as sns"
   ]
  },
  {
   "cell_type": "code",
   "execution_count": 133,
   "id": "bcd3de5c",
   "metadata": {},
   "outputs": [
    {
     "name": "stderr",
     "output_type": "stream",
     "text": [
      "F:\\anaconda\\lib\\site-packages\\IPython\\core\\pylabtools.py:151: UserWarning: Glyph 8722 (\\N{MINUS SIGN}) missing from current font.\n",
      "  fig.canvas.print_figure(bytes_io, **kw)\n"
     ]
    },
    {
     "data": {
      "image/png": "[encoded data removed]",
      "text/plain": [
       "<Figure size 800x640 with 1 Axes>"
      ]
     },
     "metadata": {},
     "output_type": "display_data"
    }
   ],
   "source": [
    "plt.figure(figsize=(10, 8), dpi=80)\n",
    "sns.kdeplot(normal,\n",
    "            shade=True,\n",
    "            color=\"#01a2d9\",\n",
    "            label=\"普通交易\",\n",
    "            alpha=.5)\n",
    "sns.kdeplot(ab,\n",
    "            shade=True,\n",
    "            color=\"#dc2624\",\n",
    "            label=\"异常交易\",\n",
    "            alpha=.9)\n",
    "\n",
    "#风格与装饰\n",
    "sns.set(style=\"whitegrid\",font=\"SimHei\", font_scale=1.1)\n",
    "plt.title(\"异常交易vs普通交易 订单金额分布图\",fontsize=18)\n",
    "#plt.yticks([])\n",
    "plt.ylim((0,0.0000002))\n",
    "plt.show()"
   ]
  },
  {
   "cell_type": "markdown",
   "id": "524e3b9d",
   "metadata": {},
   "source": [
    "#### step2：是否新增特征"
   ]
  },
  {
   "cell_type": "markdown",
   "id": "2af139aa",
   "metadata": {},
   "source": [
    "使用Kmeans对金额进行分箱"
   ]
  },
  {
   "cell_type": "code",
   "execution_count": 134,
   "id": "edc84421",
   "metadata": {},
   "outputs": [],
   "source": [
    "from sklearn.preprocessing import c as KBD"
   ]
  },
  {
   "cell_type": "code",
   "execution_count": 135,
   "id": "a01a6365",
   "metadata": {},
   "outputs": [],
   "source": [
    "enc = KBD(n_bins = 10\n",
    "            , encode = 'ordinal'\n",
    "            , strategy = 'kmeans')\n",
    "enc = enc.fit(pd.DataFrame(train['订单金额']))\n",
    "\n",
    "train['金额分箱'] = enc.transform(pd.DataFrame(train['订单金额']))\n",
    "test['金额分箱'] = enc.transform(pd.DataFrame(test['订单金额']))"
   ]
  },
  {
   "cell_type": "code",
   "execution_count": 137,
   "id": "ab2bf8a6",
   "metadata": {},
   "outputs": [
    {
     "data": {
      "text/html": [
       "<div>\n",
       "<style scoped>\n",
       "    .dataframe tbody tr th:only-of-type {\n",
       "        vertical-align: middle;\n",
       "    }\n",
       "\n",
       "    .dataframe tbody tr th {\n",
       "        vertical-align: top;\n",
       "    }\n",
       "\n",
       "    .dataframe thead th {\n",
       "        text-align: right;\n",
       "    }\n",
       "</style>\n",
       "<table border=\"1\" class=\"dataframe\">\n",
       "  <thead>\n",
       "    <tr style=\"text-align: right;\">\n",
       "      <th></th>\n",
       "      <th>下界</th>\n",
       "      <th>上界</th>\n",
       "      <th>均值</th>\n",
       "    </tr>\n",
       "    <tr>\n",
       "      <th>金额分箱</th>\n",
       "      <th></th>\n",
       "      <th></th>\n",
       "      <th></th>\n",
       "    </tr>\n",
       "  </thead>\n",
       "  <tbody>\n",
       "    <tr>\n",
       "      <th>0.0</th>\n",
       "      <td>0.5</td>\n",
       "      <td>954.0</td>\n",
       "      <td>136.0</td>\n",
       "    </tr>\n",
       "    <tr>\n",
       "      <th>1.0</th>\n",
       "      <td>956.0</td>\n",
       "      <td>2970.0</td>\n",
       "      <td>1775.0</td>\n",
       "    </tr>\n",
       "    <tr>\n",
       "      <th>2.0</th>\n",
       "      <td>2980.0</td>\n",
       "      <td>6638.0</td>\n",
       "      <td>4165.0</td>\n",
       "    </tr>\n",
       "    <tr>\n",
       "      <th>3.0</th>\n",
       "      <td>6666.0</td>\n",
       "      <td>12999.0</td>\n",
       "      <td>9129.0</td>\n",
       "    </tr>\n",
       "    <tr>\n",
       "      <th>4.0</th>\n",
       "      <td>13189.0</td>\n",
       "      <td>23998.0</td>\n",
       "      <td>16873.0</td>\n",
       "    </tr>\n",
       "    <tr>\n",
       "      <th>5.0</th>\n",
       "      <td>25790.0</td>\n",
       "      <td>45490.0</td>\n",
       "      <td>32339.0</td>\n",
       "    </tr>\n",
       "    <tr>\n",
       "      <th>6.0</th>\n",
       "      <td>71980.0</td>\n",
       "      <td>99840.0</td>\n",
       "      <td>85477.0</td>\n",
       "    </tr>\n",
       "    <tr>\n",
       "      <th>7.0</th>\n",
       "      <td>155999.0</td>\n",
       "      <td>155999.0</td>\n",
       "      <td>155999.0</td>\n",
       "    </tr>\n",
       "    <tr>\n",
       "      <th>8.0</th>\n",
       "      <td>383000.0</td>\n",
       "      <td>383000.0</td>\n",
       "      <td>383000.0</td>\n",
       "    </tr>\n",
       "    <tr>\n",
       "      <th>9.0</th>\n",
       "      <td>766000.0</td>\n",
       "      <td>766000.0</td>\n",
       "      <td>766000.0</td>\n",
       "    </tr>\n",
       "  </tbody>\n",
       "</table>\n",
       "</div>"
      ],
      "text/plain": [
       "            下界        上界        均值\n",
       "金额分箱                              \n",
       "0.0        0.5     954.0     136.0\n",
       "1.0      956.0    2970.0    1775.0\n",
       "2.0     2980.0    6638.0    4165.0\n",
       "3.0     6666.0   12999.0    9129.0\n",
       "4.0    13189.0   23998.0   16873.0\n",
       "5.0    25790.0   45490.0   32339.0\n",
       "6.0    71980.0   99840.0   85477.0\n",
       "7.0   155999.0  155999.0  155999.0\n",
       "8.0   383000.0  383000.0  383000.0\n",
       "9.0   766000.0  766000.0  766000.0"
      ]
     },
     "execution_count": 137,
     "metadata": {},
     "output_type": "execute_result"
    }
   ],
   "source": [
    "df = pd.DataFrame(index = train.groupby(['金额分箱'])['订单金额'].max().index)\n",
    "\n",
    "df['下界'] = train.groupby(['金额分箱'])['订单金额'].min()\n",
    "df['上界'] = train.groupby(['金额分箱'])['订单金额'].max()\n",
    "df['均值'] = round(train.groupby(['金额分箱'])['订单金额'].mean())\n",
    "\n",
    "df"
   ]
  },
  {
   "cell_type": "code",
   "execution_count": 138,
   "id": "38380e59",
   "metadata": {},
   "outputs": [],
   "source": [
    "# 新增“分箱均值”\n",
    "dic = dict(train.groupby('金额分箱')['订单金额'].mean())\n",
    "\n",
    "train['分箱均值'] = train['金额分箱'].map(dic)\n",
    "test['分箱均值'] = test['金额分箱'].map(dic)"
   ]
  },
  {
   "cell_type": "code",
   "execution_count": 139,
   "id": "ddd79c9c",
   "metadata": {},
   "outputs": [],
   "source": [
    "# 新增“分箱异常率”\n",
    "dic = dict(train.groupby('金额分箱')['异常'].mean())\n",
    "\n",
    "train['分箱异常率'] = train['金额分箱'].map(dic)\n",
    "test['分箱异常率'] = test['金额分箱'].map(dic)"
   ]
  },
  {
   "cell_type": "code",
   "execution_count": 140,
   "id": "1f76ff72",
   "metadata": {},
   "outputs": [
    {
     "data": {
      "text/html": [
       "<div>\n",
       "<style scoped>\n",
       "    .dataframe tbody tr th:only-of-type {\n",
       "        vertical-align: middle;\n",
       "    }\n",
       "\n",
       "    .dataframe tbody tr th {\n",
       "        vertical-align: top;\n",
       "    }\n",
       "\n",
       "    .dataframe thead th {\n",
       "        text-align: right;\n",
       "    }\n",
       "</style>\n",
       "<table border=\"1\" class=\"dataframe\">\n",
       "  <thead>\n",
       "    <tr style=\"text-align: right;\">\n",
       "      <th></th>\n",
       "      <th>异常</th>\n",
       "      <th>订单ID</th>\n",
       "      <th>商品一级类别</th>\n",
       "      <th>商品所属渠道</th>\n",
       "      <th>商品ID</th>\n",
       "      <th>品牌</th>\n",
       "      <th>订单金额</th>\n",
       "      <th>商品销售数量</th>\n",
       "      <th>订单渠道</th>\n",
       "      <th>支付方式</th>\n",
       "      <th>...</th>\n",
       "      <th>省份异常率</th>\n",
       "      <th>商品一级类别异常率</th>\n",
       "      <th>订单渠道异常率</th>\n",
       "      <th>商品所属渠道异常率</th>\n",
       "      <th>用户异常率</th>\n",
       "      <th>商品异常率</th>\n",
       "      <th>品牌异常率</th>\n",
       "      <th>金额分箱</th>\n",
       "      <th>分箱均值</th>\n",
       "      <th>分箱异常率</th>\n",
       "    </tr>\n",
       "  </thead>\n",
       "  <tbody>\n",
       "    <tr>\n",
       "      <th>0</th>\n",
       "      <td>1</td>\n",
       "      <td>4283851335</td>\n",
       "      <td>5</td>\n",
       "      <td>1</td>\n",
       "      <td>13080</td>\n",
       "      <td>199</td>\n",
       "      <td>766000.0</td>\n",
       "      <td>200</td>\n",
       "      <td>1</td>\n",
       "      <td>0</td>\n",
       "      <td>...</td>\n",
       "      <td>0.206912</td>\n",
       "      <td>0.261565</td>\n",
       "      <td>0.167849</td>\n",
       "      <td>0.294727</td>\n",
       "      <td>0.133333</td>\n",
       "      <td>1.000000</td>\n",
       "      <td>0.340804</td>\n",
       "      <td>9.0</td>\n",
       "      <td>766000.000000</td>\n",
       "      <td>1.000000</td>\n",
       "    </tr>\n",
       "    <tr>\n",
       "      <th>1</th>\n",
       "      <td>1</td>\n",
       "      <td>4281111595</td>\n",
       "      <td>2</td>\n",
       "      <td>1</td>\n",
       "      <td>15075</td>\n",
       "      <td>1856</td>\n",
       "      <td>100.0</td>\n",
       "      <td>100</td>\n",
       "      <td>1</td>\n",
       "      <td>0</td>\n",
       "      <td>...</td>\n",
       "      <td>0.222260</td>\n",
       "      <td>0.262840</td>\n",
       "      <td>0.167849</td>\n",
       "      <td>0.294727</td>\n",
       "      <td>0.333333</td>\n",
       "      <td>0.333333</td>\n",
       "      <td>0.250000</td>\n",
       "      <td>0.0</td>\n",
       "      <td>136.243951</td>\n",
       "      <td>0.203899</td>\n",
       "    </tr>\n",
       "    <tr>\n",
       "      <th>2</th>\n",
       "      <td>0</td>\n",
       "      <td>4106833871</td>\n",
       "      <td>3</td>\n",
       "      <td>1</td>\n",
       "      <td>15212</td>\n",
       "      <td>676</td>\n",
       "      <td>8800.0</td>\n",
       "      <td>100</td>\n",
       "      <td>1</td>\n",
       "      <td>0</td>\n",
       "      <td>...</td>\n",
       "      <td>0.222260</td>\n",
       "      <td>0.235079</td>\n",
       "      <td>0.167849</td>\n",
       "      <td>0.294727</td>\n",
       "      <td>0.000000</td>\n",
       "      <td>0.238462</td>\n",
       "      <td>0.286842</td>\n",
       "      <td>3.0</td>\n",
       "      <td>9128.895833</td>\n",
       "      <td>0.264881</td>\n",
       "    </tr>\n",
       "    <tr>\n",
       "      <th>3</th>\n",
       "      <td>0</td>\n",
       "      <td>4253622967</td>\n",
       "      <td>10</td>\n",
       "      <td>1</td>\n",
       "      <td>11454</td>\n",
       "      <td>1568</td>\n",
       "      <td>880.0</td>\n",
       "      <td>100</td>\n",
       "      <td>1</td>\n",
       "      <td>0</td>\n",
       "      <td>...</td>\n",
       "      <td>0.212617</td>\n",
       "      <td>0.215029</td>\n",
       "      <td>0.167849</td>\n",
       "      <td>0.294727</td>\n",
       "      <td>-1.000000</td>\n",
       "      <td>0.296296</td>\n",
       "      <td>0.298387</td>\n",
       "      <td>0.0</td>\n",
       "      <td>136.243951</td>\n",
       "      <td>0.203899</td>\n",
       "    </tr>\n",
       "    <tr>\n",
       "      <th>4</th>\n",
       "      <td>0</td>\n",
       "      <td>4276159555</td>\n",
       "      <td>3</td>\n",
       "      <td>0</td>\n",
       "      <td>4800</td>\n",
       "      <td>262</td>\n",
       "      <td>4900.0</td>\n",
       "      <td>100</td>\n",
       "      <td>1</td>\n",
       "      <td>0</td>\n",
       "      <td>...</td>\n",
       "      <td>0.236769</td>\n",
       "      <td>0.235079</td>\n",
       "      <td>0.167849</td>\n",
       "      <td>0.178732</td>\n",
       "      <td>0.133333</td>\n",
       "      <td>0.119565</td>\n",
       "      <td>0.179739</td>\n",
       "      <td>2.0</td>\n",
       "      <td>4165.485313</td>\n",
       "      <td>0.326309</td>\n",
       "    </tr>\n",
       "  </tbody>\n",
       "</table>\n",
       "<p>5 rows × 26 columns</p>\n",
       "</div>"
      ],
      "text/plain": [
       "   异常        订单ID  商品一级类别  商品所属渠道   商品ID    品牌      订单金额  商品销售数量  订单渠道  支付方式  \\\n",
       "0   1  4283851335       5       1  13080   199  766000.0     200     1     0   \n",
       "1   1  4281111595       2       1  15075  1856     100.0     100     1     0   \n",
       "2   0  4106833871       3       1  15212   676    8800.0     100     1     0   \n",
       "3   0  4253622967      10       1  11454  1568     880.0     100     1     0   \n",
       "4   0  4276159555       3       0   4800   262    4900.0     100     1     0   \n",
       "\n",
       "   ...     省份异常率  商品一级类别异常率   订单渠道异常率  商品所属渠道异常率     用户异常率     商品异常率  \\\n",
       "0  ...  0.206912   0.261565  0.167849   0.294727  0.133333  1.000000   \n",
       "1  ...  0.222260   0.262840  0.167849   0.294727  0.333333  0.333333   \n",
       "2  ...  0.222260   0.235079  0.167849   0.294727  0.000000  0.238462   \n",
       "3  ...  0.212617   0.215029  0.167849   0.294727 -1.000000  0.296296   \n",
       "4  ...  0.236769   0.235079  0.167849   0.178732  0.133333  0.119565   \n",
       "\n",
       "      品牌异常率  金额分箱           分箱均值     分箱异常率  \n",
       "0  0.340804   9.0  766000.000000  1.000000  \n",
       "1  0.250000   0.0     136.243951  0.203899  \n",
       "2  0.286842   3.0    9128.895833  0.264881  \n",
       "3  0.298387   0.0     136.243951  0.203899  \n",
       "4  0.179739   2.0    4165.485313  0.326309  \n",
       "\n",
       "[5 rows x 26 columns]"
      ]
     },
     "execution_count": 140,
     "metadata": {},
     "output_type": "execute_result"
    }
   ],
   "source": [
    "train.head()"
   ]
  },
  {
   "cell_type": "code",
   "execution_count": 141,
   "id": "6b90e0d7",
   "metadata": {},
   "outputs": [
    {
     "data": {
      "text/html": [
       "<div>\n",
       "<style scoped>\n",
       "    .dataframe tbody tr th:only-of-type {\n",
       "        vertical-align: middle;\n",
       "    }\n",
       "\n",
       "    .dataframe tbody tr th {\n",
       "        vertical-align: top;\n",
       "    }\n",
       "\n",
       "    .dataframe thead th {\n",
       "        text-align: right;\n",
       "    }\n",
       "</style>\n",
       "<table border=\"1\" class=\"dataframe\">\n",
       "  <thead>\n",
       "    <tr style=\"text-align: right;\">\n",
       "      <th></th>\n",
       "      <th>异常</th>\n",
       "      <th>订单ID</th>\n",
       "      <th>商品一级类别</th>\n",
       "      <th>商品所属渠道</th>\n",
       "      <th>商品ID</th>\n",
       "      <th>品牌</th>\n",
       "      <th>订单金额</th>\n",
       "      <th>商品销售数量</th>\n",
       "      <th>订单渠道</th>\n",
       "      <th>支付方式</th>\n",
       "      <th>...</th>\n",
       "      <th>省份异常率</th>\n",
       "      <th>商品一级类别异常率</th>\n",
       "      <th>订单渠道异常率</th>\n",
       "      <th>商品所属渠道异常率</th>\n",
       "      <th>用户异常率</th>\n",
       "      <th>商品异常率</th>\n",
       "      <th>品牌异常率</th>\n",
       "      <th>金额分箱</th>\n",
       "      <th>分箱均值</th>\n",
       "      <th>分箱异常率</th>\n",
       "    </tr>\n",
       "  </thead>\n",
       "  <tbody>\n",
       "    <tr>\n",
       "      <th>0</th>\n",
       "      <td>1</td>\n",
       "      <td>4276537082</td>\n",
       "      <td>11</td>\n",
       "      <td>1</td>\n",
       "      <td>12689.0</td>\n",
       "      <td>1406.0</td>\n",
       "      <td>19900.0</td>\n",
       "      <td>100</td>\n",
       "      <td>1</td>\n",
       "      <td>0</td>\n",
       "      <td>...</td>\n",
       "      <td>0.215807</td>\n",
       "      <td>0.201848</td>\n",
       "      <td>0.167849</td>\n",
       "      <td>0.294727</td>\n",
       "      <td>-1.000000</td>\n",
       "      <td>0.000000</td>\n",
       "      <td>0.083333</td>\n",
       "      <td>4.0</td>\n",
       "      <td>16872.602041</td>\n",
       "      <td>0.336735</td>\n",
       "    </tr>\n",
       "    <tr>\n",
       "      <th>1</th>\n",
       "      <td>0</td>\n",
       "      <td>3977175284</td>\n",
       "      <td>5</td>\n",
       "      <td>1</td>\n",
       "      <td>15601.0</td>\n",
       "      <td>339.0</td>\n",
       "      <td>990.0</td>\n",
       "      <td>100</td>\n",
       "      <td>1</td>\n",
       "      <td>0</td>\n",
       "      <td>...</td>\n",
       "      <td>0.215807</td>\n",
       "      <td>0.261565</td>\n",
       "      <td>0.167849</td>\n",
       "      <td>0.294727</td>\n",
       "      <td>-1.000000</td>\n",
       "      <td>0.153846</td>\n",
       "      <td>0.372263</td>\n",
       "      <td>1.0</td>\n",
       "      <td>1775.061962</td>\n",
       "      <td>0.246125</td>\n",
       "    </tr>\n",
       "    <tr>\n",
       "      <th>2</th>\n",
       "      <td>0</td>\n",
       "      <td>4245023523</td>\n",
       "      <td>2</td>\n",
       "      <td>1</td>\n",
       "      <td>15075.0</td>\n",
       "      <td>1856.0</td>\n",
       "      <td>100.0</td>\n",
       "      <td>100</td>\n",
       "      <td>1</td>\n",
       "      <td>0</td>\n",
       "      <td>...</td>\n",
       "      <td>0.222260</td>\n",
       "      <td>0.262840</td>\n",
       "      <td>0.167849</td>\n",
       "      <td>0.294727</td>\n",
       "      <td>0.333333</td>\n",
       "      <td>0.333333</td>\n",
       "      <td>0.250000</td>\n",
       "      <td>0.0</td>\n",
       "      <td>136.243951</td>\n",
       "      <td>0.203899</td>\n",
       "    </tr>\n",
       "    <tr>\n",
       "      <th>3</th>\n",
       "      <td>0</td>\n",
       "      <td>4284515355</td>\n",
       "      <td>9</td>\n",
       "      <td>1</td>\n",
       "      <td>NaN</td>\n",
       "      <td>393.0</td>\n",
       "      <td>21450.0</td>\n",
       "      <td>50</td>\n",
       "      <td>1</td>\n",
       "      <td>0</td>\n",
       "      <td>...</td>\n",
       "      <td>0.222260</td>\n",
       "      <td>0.193856</td>\n",
       "      <td>0.167849</td>\n",
       "      <td>0.294727</td>\n",
       "      <td>-1.000000</td>\n",
       "      <td>-1.000000</td>\n",
       "      <td>0.162162</td>\n",
       "      <td>4.0</td>\n",
       "      <td>16872.602041</td>\n",
       "      <td>0.336735</td>\n",
       "    </tr>\n",
       "    <tr>\n",
       "      <th>4</th>\n",
       "      <td>0</td>\n",
       "      <td>4284735147</td>\n",
       "      <td>3</td>\n",
       "      <td>1</td>\n",
       "      <td>15111.0</td>\n",
       "      <td>797.0</td>\n",
       "      <td>1950.0</td>\n",
       "      <td>50</td>\n",
       "      <td>1</td>\n",
       "      <td>0</td>\n",
       "      <td>...</td>\n",
       "      <td>0.215111</td>\n",
       "      <td>0.235079</td>\n",
       "      <td>0.167849</td>\n",
       "      <td>0.294727</td>\n",
       "      <td>-1.000000</td>\n",
       "      <td>0.248485</td>\n",
       "      <td>0.240741</td>\n",
       "      <td>1.0</td>\n",
       "      <td>1775.061962</td>\n",
       "      <td>0.246125</td>\n",
       "    </tr>\n",
       "  </tbody>\n",
       "</table>\n",
       "<p>5 rows × 26 columns</p>\n",
       "</div>"
      ],
      "text/plain": [
       "   异常        订单ID  商品一级类别  商品所属渠道     商品ID      品牌     订单金额  商品销售数量  订单渠道  \\\n",
       "0   1  4276537082      11       1  12689.0  1406.0  19900.0     100     1   \n",
       "1   0  3977175284       5       1  15601.0   339.0    990.0     100     1   \n",
       "2   0  4245023523       2       1  15075.0  1856.0    100.0     100     1   \n",
       "3   0  4284515355       9       1      NaN   393.0  21450.0      50     1   \n",
       "4   0  4284735147       3       1  15111.0   797.0   1950.0      50     1   \n",
       "\n",
       "   支付方式  ...     省份异常率  商品一级类别异常率   订单渠道异常率  商品所属渠道异常率     用户异常率     商品异常率  \\\n",
       "0     0  ...  0.215807   0.201848  0.167849   0.294727 -1.000000  0.000000   \n",
       "1     0  ...  0.215807   0.261565  0.167849   0.294727 -1.000000  0.153846   \n",
       "2     0  ...  0.222260   0.262840  0.167849   0.294727  0.333333  0.333333   \n",
       "3     0  ...  0.222260   0.193856  0.167849   0.294727 -1.000000 -1.000000   \n",
       "4     0  ...  0.215111   0.235079  0.167849   0.294727 -1.000000  0.248485   \n",
       "\n",
       "      品牌异常率  金额分箱          分箱均值     分箱异常率  \n",
       "0  0.083333   4.0  16872.602041  0.336735  \n",
       "1  0.372263   1.0   1775.061962  0.246125  \n",
       "2  0.250000   0.0    136.243951  0.203899  \n",
       "3  0.162162   4.0  16872.602041  0.336735  \n",
       "4  0.240741   1.0   1775.061962  0.246125  \n",
       "\n",
       "[5 rows x 26 columns]"
      ]
     },
     "execution_count": 141,
     "metadata": {},
     "output_type": "execute_result"
    }
   ],
   "source": [
    "test.head()"
   ]
  },
  {
   "cell_type": "markdown",
   "id": "28a59c85",
   "metadata": {},
   "source": [
    "##### 使用二值法对商品销售数量进行分箱"
   ]
  },
  {
   "cell_type": "code",
   "execution_count": 142,
   "id": "66f85af6",
   "metadata": {},
   "outputs": [],
   "source": [
    "ab = train.loc[train['异常'] == 1, '商品销售数量']\n",
    "normal = train.loc[train['异常'] != 1, '商品销售数量']"
   ]
  },
  {
   "cell_type": "code",
   "execution_count": 143,
   "id": "1794f2d3",
   "metadata": {},
   "outputs": [
    {
     "data": {
      "image/png": "[encoded data removed]",
      "text/plain": [
       "<Figure size 800x640 with 1 Axes>"
      ]
     },
     "metadata": {},
     "output_type": "display_data"
    }
   ],
   "source": [
    "plt.figure(figsize=(10, 8), dpi=80)\n",
    "sns.kdeplot(normal,\n",
    "            shade=True,\n",
    "            color=\"#01a2d9\",\n",
    "            label=\"普通交易\",\n",
    "            alpha=.5)\n",
    "sns.kdeplot(ab,\n",
    "            shade=True,\n",
    "            color=\"#dc2624\",\n",
    "            label=\"异常交易\",\n",
    "            alpha=.9)\n",
    "\n",
    "#风格与装饰\n",
    "sns.set(style=\"whitegrid\",font=\"SimHei\", font_scale=1.1)\n",
    "plt.title(\"异常交易vs普通交易 商品销售数量分布图\",fontsize=18)\n",
    "#plt.yticks([])\n",
    "#plt.ylim((0,0.0000002))\n",
    "plt.show()"
   ]
  },
  {
   "cell_type": "markdown",
   "id": "4be78d8d",
   "metadata": {},
   "source": [
    "从分布图来看，一笔交易中下单20个以上商品的多是异常交易，但20个商品以下的交易中，普通交易与异常交易的差异并不明显。从describe的结果来看也是如此，普通交易与异常交易中99%都是一次下单5个商品以下的订单。从这个角度来说，很可能“商品销售数量”这个特征对于模型的预测来说并无帮助。因此，我们对这个特征执行简单二值化操作——销售数量大于25的，是高风险交易，标注为1，反之则是低风险交易，标注为0。"
   ]
  },
  {
   "cell_type": "markdown",
   "id": "7b9d76b6",
   "metadata": {},
   "source": [
    "#### step2：是否新增特征"
   ]
  },
  {
   "cell_type": "code",
   "execution_count": 144,
   "id": "4e49da7c",
   "metadata": {},
   "outputs": [],
   "source": [
    "train['销量分箱'] = 0\n",
    "test['销量分箱'] = 0\n",
    "train.loc[train['商品销售数量']>25, '销量分箱'] = 1\n",
    "test.loc[test['商品销售数量']>25, '销量分箱'] = 1"
   ]
  },
  {
   "cell_type": "code",
   "execution_count": null,
   "id": "e15898ef",
   "metadata": {},
   "outputs": [],
   "source": []
  }
 ],
 "metadata": {
  "kernelspec": {
   "display_name": "Python [conda env:root] *",
   "language": "python",
   "name": "conda-root-py"
  },
  "language_info": {
   "codemirror_mode": {
    "name": "ipython",
    "version": 3
   },
   "file_extension": ".py",
   "mimetype": "text/x-python",
   "name": "python",
   "nbconvert_exporter": "python",
   "pygments_lexer": "ipython3",
   "version": "3.8.13"
  }
 },
 "nbformat": 4,
 "nbformat_minor": 5
}
