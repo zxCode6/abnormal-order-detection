{
 "cells": [
  {
   "cell_type": "markdown",
   "id": "d43e5827",
   "metadata": {},
   "source": [
    "# 数据探索：电商订单数据的基本预处理"
   ]
  },
  {
   "cell_type": "markdown",
   "id": "aa43831d",
   "metadata": {},
   "source": [
    "## 1、判断数据来源、理解电商数据特征与标签"
   ]
  },
  {
   "cell_type": "code",
   "execution_count": 1,
   "id": "ead0100d",
   "metadata": {},
   "outputs": [],
   "source": [
    "import pandas as pd\n",
    "import numpy as np\n",
    "import matplotlib.pyplot as plt\n",
    "%matplotlib inline\n",
    "plt.rcParams['font.sans-serif'] = ['Simhei'] #让jupyter中的图画上的中文都显示出来\n",
    "plt.rcParams['axes.unicode_minus'] = False"
   ]
  },
  {
   "cell_type": "code",
   "execution_count": 2,
   "id": "b817fc10",
   "metadata": {},
   "outputs": [
    {
     "data": {
      "text/html": [
       "<div>\n",
       "<style scoped>\n",
       "    .dataframe tbody tr th:only-of-type {\n",
       "        vertical-align: middle;\n",
       "    }\n",
       "\n",
       "    .dataframe tbody tr th {\n",
       "        vertical-align: top;\n",
       "    }\n",
       "\n",
       "    .dataframe thead th {\n",
       "        text-align: right;\n",
       "    }\n",
       "</style>\n",
       "<table border=\"1\" class=\"dataframe\">\n",
       "  <thead>\n",
       "    <tr style=\"text-align: right;\">\n",
       "      <th></th>\n",
       "      <th>order_id</th>\n",
       "      <th>order_date</th>\n",
       "      <th>order_time</th>\n",
       "      <th>cat</th>\n",
       "      <th>attribution</th>\n",
       "      <th>pro_id</th>\n",
       "      <th>pro_brand</th>\n",
       "      <th>total_money</th>\n",
       "      <th>total_quantity</th>\n",
       "      <th>order_source</th>\n",
       "      <th>pay_type</th>\n",
       "      <th>user_id</th>\n",
       "      <th>city</th>\n",
       "      <th>abnormal_label</th>\n",
       "    </tr>\n",
       "  </thead>\n",
       "  <tbody>\n",
       "    <tr>\n",
       "      <th>0</th>\n",
       "      <td>4277880103</td>\n",
       "      <td>2013-10-17</td>\n",
       "      <td>13:09:16</td>\n",
       "      <td>NaN</td>\n",
       "      <td>GO</td>\n",
       "      <td>8000001215</td>\n",
       "      <td>NaN</td>\n",
       "      <td>1000.0</td>\n",
       "      <td>1000</td>\n",
       "      <td>游戏站点</td>\n",
       "      <td>当当支付</td>\n",
       "      <td>murongchun</td>\n",
       "      <td>北京市</td>\n",
       "      <td>0</td>\n",
       "    </tr>\n",
       "    <tr>\n",
       "      <th>1</th>\n",
       "      <td>4283851335</td>\n",
       "      <td>2013-09-23</td>\n",
       "      <td>14:09:49</td>\n",
       "      <td>手机摄影数码</td>\n",
       "      <td>POP</td>\n",
       "      <td>8002042497</td>\n",
       "      <td>三星</td>\n",
       "      <td>766000.0</td>\n",
       "      <td>200</td>\n",
       "      <td>主站</td>\n",
       "      <td>合并支付</td>\n",
       "      <td>dakehu_zy</td>\n",
       "      <td>上海市</td>\n",
       "      <td>1</td>\n",
       "    </tr>\n",
       "    <tr>\n",
       "      <th>2</th>\n",
       "      <td>4277700101</td>\n",
       "      <td>2013-08-27</td>\n",
       "      <td>14:26:38</td>\n",
       "      <td>NaN</td>\n",
       "      <td>GO</td>\n",
       "      <td>7000000960</td>\n",
       "      <td>国之美艺术品</td>\n",
       "      <td>8000.0</td>\n",
       "      <td>160</td>\n",
       "      <td>do.site_id</td>\n",
       "      <td>在线支付</td>\n",
       "      <td>1391175862</td>\n",
       "      <td>NaN</td>\n",
       "      <td>1</td>\n",
       "    </tr>\n",
       "    <tr>\n",
       "      <th>3</th>\n",
       "      <td>4276537082</td>\n",
       "      <td>2013-09-11</td>\n",
       "      <td>14:16:47</td>\n",
       "      <td>电视冰箱洗衣机空调</td>\n",
       "      <td>POP</td>\n",
       "      <td>8001992420</td>\n",
       "      <td>樱花</td>\n",
       "      <td>19900.0</td>\n",
       "      <td>100</td>\n",
       "      <td>主站</td>\n",
       "      <td>合并支付</td>\n",
       "      <td>qq-3be293b</td>\n",
       "      <td>泉州市</td>\n",
       "      <td>1</td>\n",
       "    </tr>\n",
       "    <tr>\n",
       "      <th>4</th>\n",
       "      <td>4281111595</td>\n",
       "      <td>2013-04-10</td>\n",
       "      <td>10:44:46</td>\n",
       "      <td>家具建材</td>\n",
       "      <td>POP</td>\n",
       "      <td>8002199518</td>\n",
       "      <td>纬度空间</td>\n",
       "      <td>100.0</td>\n",
       "      <td>100</td>\n",
       "      <td>主站</td>\n",
       "      <td>合并支付</td>\n",
       "      <td>nonscorpio</td>\n",
       "      <td>广州市</td>\n",
       "      <td>1</td>\n",
       "    </tr>\n",
       "  </tbody>\n",
       "</table>\n",
       "</div>"
      ],
      "text/plain": [
       "     order_id  order_date order_time        cat attribution      pro_id  \\\n",
       "0  4277880103  2013-10-17   13:09:16        NaN          GO  8000001215   \n",
       "1  4283851335  2013-09-23   14:09:49     手机摄影数码         POP  8002042497   \n",
       "2  4277700101  2013-08-27   14:26:38        NaN          GO  7000000960   \n",
       "3  4276537082  2013-09-11   14:16:47  电视冰箱洗衣机空调         POP  8001992420   \n",
       "4  4281111595  2013-04-10   10:44:46       家具建材         POP  8002199518   \n",
       "\n",
       "  pro_brand  total_money  total_quantity order_source pay_type     user_id  \\\n",
       "0       NaN       1000.0            1000         游戏站点     当当支付  murongchun   \n",
       "1        三星     766000.0             200           主站     合并支付   dakehu_zy   \n",
       "2    国之美艺术品       8000.0             160   do.site_id     在线支付  1391175862   \n",
       "3        樱花      19900.0             100           主站     合并支付  qq-3be293b   \n",
       "4      纬度空间        100.0             100           主站     合并支付  nonscorpio   \n",
       "\n",
       "  city  abnormal_label  \n",
       "0  北京市               0  \n",
       "1  上海市               1  \n",
       "2  NaN               1  \n",
       "3  泉州市               1  \n",
       "4  广州市               1  "
      ]
     },
     "execution_count": 2,
     "metadata": {},
     "output_type": "execute_result"
    }
   ],
   "source": [
    "data = pd.read_csv('abnormal_orders.txt')\n",
    "data.head()"
   ]
  },
  {
   "cell_type": "code",
   "execution_count": 3,
   "id": "f7056b03",
   "metadata": {},
   "outputs": [
    {
     "data": {
      "text/plain": [
       "Index(['order_id', 'order_date', 'order_time', 'cat', 'attribution', 'pro_id',\n",
       "       'pro_brand', 'total_money', 'total_quantity', 'order_source',\n",
       "       'pay_type', 'user_id', 'city', 'abnormal_label'],\n",
       "      dtype='object')"
      ]
     },
     "execution_count": 3,
     "metadata": {},
     "output_type": "execute_result"
    }
   ],
   "source": [
    "data.columns"
   ]
  },
  {
   "cell_type": "code",
   "execution_count": 4,
   "id": "de772e37",
   "metadata": {},
   "outputs": [
    {
     "data": {
      "text/plain": [
       "(134190, 14)"
      ]
     },
     "execution_count": 4,
     "metadata": {},
     "output_type": "execute_result"
    }
   ],
   "source": [
    "data.shape"
   ]
  },
  {
   "cell_type": "code",
   "execution_count": 5,
   "id": "c51bd39b",
   "metadata": {},
   "outputs": [],
   "source": [
    "# 更换列名为中文\n",
    "data.columns = ['订单ID','下单日期','下单时间','商品一级类别','商品所属渠道','商品ID',\n",
    "                '品牌','订单金额','商品销售数量','订单渠道','支付方式','下单用户ID','城市','异常']"
   ]
  },
  {
   "cell_type": "code",
   "execution_count": 6,
   "id": "4db934f7",
   "metadata": {},
   "outputs": [
    {
     "data": {
      "text/plain": [
       "['订单ID',\n",
       " '下单日期',\n",
       " '下单时间',\n",
       " '商品一级类别',\n",
       " '商品所属渠道',\n",
       " '商品ID',\n",
       " '品牌',\n",
       " '订单金额',\n",
       " '商品销售数量',\n",
       " '订单渠道',\n",
       " '支付方式',\n",
       " '下单用户ID',\n",
       " '城市',\n",
       " '异常']"
      ]
     },
     "execution_count": 6,
     "metadata": {},
     "output_type": "execute_result"
    }
   ],
   "source": [
    "data.columns.to_list()"
   ]
  },
  {
   "cell_type": "code",
   "execution_count": 7,
   "id": "d5914663",
   "metadata": {},
   "outputs": [
    {
     "data": {
      "text/html": [
       "<div>\n",
       "<style scoped>\n",
       "    .dataframe tbody tr th:only-of-type {\n",
       "        vertical-align: middle;\n",
       "    }\n",
       "\n",
       "    .dataframe tbody tr th {\n",
       "        vertical-align: top;\n",
       "    }\n",
       "\n",
       "    .dataframe thead th {\n",
       "        text-align: right;\n",
       "    }\n",
       "</style>\n",
       "<table border=\"1\" class=\"dataframe\">\n",
       "  <thead>\n",
       "    <tr style=\"text-align: right;\">\n",
       "      <th></th>\n",
       "      <th>订单ID</th>\n",
       "      <th>下单日期</th>\n",
       "      <th>下单时间</th>\n",
       "      <th>商品一级类别</th>\n",
       "      <th>商品所属渠道</th>\n",
       "      <th>商品ID</th>\n",
       "      <th>品牌</th>\n",
       "      <th>订单金额</th>\n",
       "      <th>商品销售数量</th>\n",
       "      <th>订单渠道</th>\n",
       "      <th>支付方式</th>\n",
       "      <th>下单用户ID</th>\n",
       "      <th>城市</th>\n",
       "      <th>异常</th>\n",
       "    </tr>\n",
       "  </thead>\n",
       "  <tbody>\n",
       "    <tr>\n",
       "      <th>0</th>\n",
       "      <td>4277880103</td>\n",
       "      <td>2013-10-17</td>\n",
       "      <td>13:09:16</td>\n",
       "      <td>NaN</td>\n",
       "      <td>GO</td>\n",
       "      <td>8000001215</td>\n",
       "      <td>NaN</td>\n",
       "      <td>1000.0</td>\n",
       "      <td>1000</td>\n",
       "      <td>游戏站点</td>\n",
       "      <td>当当支付</td>\n",
       "      <td>murongchun</td>\n",
       "      <td>北京市</td>\n",
       "      <td>0</td>\n",
       "    </tr>\n",
       "    <tr>\n",
       "      <th>1</th>\n",
       "      <td>4283851335</td>\n",
       "      <td>2013-09-23</td>\n",
       "      <td>14:09:49</td>\n",
       "      <td>手机摄影数码</td>\n",
       "      <td>POP</td>\n",
       "      <td>8002042497</td>\n",
       "      <td>三星</td>\n",
       "      <td>766000.0</td>\n",
       "      <td>200</td>\n",
       "      <td>主站</td>\n",
       "      <td>合并支付</td>\n",
       "      <td>dakehu_zy</td>\n",
       "      <td>上海市</td>\n",
       "      <td>1</td>\n",
       "    </tr>\n",
       "    <tr>\n",
       "      <th>2</th>\n",
       "      <td>4277700101</td>\n",
       "      <td>2013-08-27</td>\n",
       "      <td>14:26:38</td>\n",
       "      <td>NaN</td>\n",
       "      <td>GO</td>\n",
       "      <td>7000000960</td>\n",
       "      <td>国之美艺术品</td>\n",
       "      <td>8000.0</td>\n",
       "      <td>160</td>\n",
       "      <td>do.site_id</td>\n",
       "      <td>在线支付</td>\n",
       "      <td>1391175862</td>\n",
       "      <td>NaN</td>\n",
       "      <td>1</td>\n",
       "    </tr>\n",
       "    <tr>\n",
       "      <th>3</th>\n",
       "      <td>4276537082</td>\n",
       "      <td>2013-09-11</td>\n",
       "      <td>14:16:47</td>\n",
       "      <td>电视冰箱洗衣机空调</td>\n",
       "      <td>POP</td>\n",
       "      <td>8001992420</td>\n",
       "      <td>樱花</td>\n",
       "      <td>19900.0</td>\n",
       "      <td>100</td>\n",
       "      <td>主站</td>\n",
       "      <td>合并支付</td>\n",
       "      <td>qq-3be293b</td>\n",
       "      <td>泉州市</td>\n",
       "      <td>1</td>\n",
       "    </tr>\n",
       "    <tr>\n",
       "      <th>4</th>\n",
       "      <td>4281111595</td>\n",
       "      <td>2013-04-10</td>\n",
       "      <td>10:44:46</td>\n",
       "      <td>家具建材</td>\n",
       "      <td>POP</td>\n",
       "      <td>8002199518</td>\n",
       "      <td>纬度空间</td>\n",
       "      <td>100.0</td>\n",
       "      <td>100</td>\n",
       "      <td>主站</td>\n",
       "      <td>合并支付</td>\n",
       "      <td>nonscorpio</td>\n",
       "      <td>广州市</td>\n",
       "      <td>1</td>\n",
       "    </tr>\n",
       "  </tbody>\n",
       "</table>\n",
       "</div>"
      ],
      "text/plain": [
       "         订单ID        下单日期      下单时间     商品一级类别 商品所属渠道        商品ID      品牌  \\\n",
       "0  4277880103  2013-10-17  13:09:16        NaN     GO  8000001215     NaN   \n",
       "1  4283851335  2013-09-23  14:09:49     手机摄影数码    POP  8002042497      三星   \n",
       "2  4277700101  2013-08-27  14:26:38        NaN     GO  7000000960  国之美艺术品   \n",
       "3  4276537082  2013-09-11  14:16:47  电视冰箱洗衣机空调    POP  8001992420      樱花   \n",
       "4  4281111595  2013-04-10  10:44:46       家具建材    POP  8002199518    纬度空间   \n",
       "\n",
       "       订单金额  商品销售数量        订单渠道  支付方式      下单用户ID   城市  异常  \n",
       "0    1000.0    1000        游戏站点  当当支付  murongchun  北京市   0  \n",
       "1  766000.0     200          主站  合并支付   dakehu_zy  上海市   1  \n",
       "2    8000.0     160  do.site_id  在线支付  1391175862  NaN   1  \n",
       "3   19900.0     100          主站  合并支付  qq-3be293b  泉州市   1  \n",
       "4     100.0     100          主站  合并支付  nonscorpio  广州市   1  "
      ]
     },
     "execution_count": 7,
     "metadata": {},
     "output_type": "execute_result"
    }
   ],
   "source": [
    "data.head()"
   ]
  },
  {
   "cell_type": "markdown",
   "id": "02bc2393",
   "metadata": {},
   "source": [
    "#### 标签探索"
   ]
  },
  {
   "cell_type": "code",
   "execution_count": 8,
   "id": "81a99025",
   "metadata": {},
   "outputs": [
    {
     "data": {
      "text/plain": [
       "0    105733\n",
       "1     28457\n",
       "Name: 异常, dtype: int64"
      ]
     },
     "execution_count": 8,
     "metadata": {},
     "output_type": "execute_result"
    }
   ],
   "source": [
    "data['异常'].value_counts()   # 0 - 正常订单    1 - 异常"
   ]
  },
  {
   "cell_type": "code",
   "execution_count": 9,
   "id": "066f661b",
   "metadata": {},
   "outputs": [
    {
     "data": {
      "text/plain": [
       "28457"
      ]
     },
     "execution_count": 9,
     "metadata": {},
     "output_type": "execute_result"
    }
   ],
   "source": [
    "(data['异常'] == 1).sum()"
   ]
  },
  {
   "cell_type": "code",
   "execution_count": 10,
   "id": "fa3bfe4d",
   "metadata": {},
   "outputs": [
    {
     "data": {
      "text/plain": [
       "0.2120649824875177"
      ]
     },
     "execution_count": 10,
     "metadata": {},
     "output_type": "execute_result"
    }
   ],
   "source": [
    "(data['异常'] == 1).sum() / data.shape[0]  # 样本不均衡，但不均衡的程度较轻"
   ]
  },
  {
   "cell_type": "markdown",
   "id": "07ffa83a",
   "metadata": {},
   "source": [
    "#### 下单日期"
   ]
  },
  {
   "cell_type": "code",
   "execution_count": 11,
   "id": "441a1678",
   "metadata": {},
   "outputs": [
    {
     "data": {
      "text/plain": [
       "2013-10-31    690\n",
       "2013-03-21    429\n",
       "2013-11-01    426\n",
       "2013-01-24    422\n",
       "2013-03-23    416\n",
       "             ... \n",
       "2013-07-31     17\n",
       "2013-08-31     14\n",
       "2013-01-31      2\n",
       "2013-03-31      2\n",
       "2013-05-31      2\n",
       "Name: 下单日期, Length: 364, dtype: int64"
      ]
     },
     "execution_count": 11,
     "metadata": {},
     "output_type": "execute_result"
    }
   ],
   "source": [
    "data['下单日期'].value_counts()"
   ]
  },
  {
   "cell_type": "raw",
   "id": "a8fa9679",
   "metadata": {},
   "source": [
    "有364个类别，初步判断应该是覆盖2013年中的每一天。如果是较大的电商平台，不太可能出现一天之内平台只有2单交易的情况，因此判断该数据应该是全年交易数据的抽样数据"
   ]
  },
  {
   "cell_type": "markdown",
   "id": "1abfd254",
   "metadata": {},
   "source": [
    "#### 订单ID"
   ]
  },
  {
   "cell_type": "code",
   "execution_count": 12,
   "id": "63076820",
   "metadata": {},
   "outputs": [
    {
     "data": {
      "text/plain": [
       "19212"
      ]
     },
     "execution_count": 12,
     "metadata": {},
     "output_type": "execute_result"
    }
   ],
   "source": [
    "# 订单数据的ID一般不会有重复值，先确认一下ID是否是唯一ID\n",
    "data['订单ID'].duplicated().sum()"
   ]
  },
  {
   "cell_type": "raw",
   "id": "9ae9a137",
   "metadata": {},
   "source": [
    "订单ID存在重复值，对我们的预测不是一个好消息。订单ID在电商系统中是不会复用的，一定是单一号，因此重复的订单ID可能说明以下两个事实：\n",
    "\n",
    "数据中存在大量重复样本，需要删除\n",
    "数据中的每条样本不是订单，反而可能是订单中的一个商品/一笔交易，因此标签中的异常实际上可能是‘这笔交易的异常’，而非整个订单的异常"
   ]
  },
  {
   "cell_type": "markdown",
   "id": "8b4b3838",
   "metadata": {},
   "source": [
    "#### 标签很可能是交易异常吗，而非订单异常"
   ]
  },
  {
   "cell_type": "markdown",
   "id": "3f7b903c",
   "metadata": {},
   "source": [
    "###### 商品一级类别"
   ]
  },
  {
   "cell_type": "code",
   "execution_count": 13,
   "id": "e511fa5f",
   "metadata": {},
   "outputs": [
    {
     "data": {
      "text/plain": [
       "手机摄影数码       20612\n",
       "生活电器厨卫电器     19281\n",
       "家纺寝居         18679\n",
       "电脑办公打印文仪     11405\n",
       "家居日用         10642\n",
       "电视冰箱洗衣机空调     9067\n",
       "美妆个护          9043\n",
       "汽车用品          6490\n",
       "家具建材          4941\n",
       "食品酒水          4669\n",
       "健康医疗          4252\n",
       "服饰鞋帽          4067\n",
       "运动户外          3934\n",
       "母婴用品玩具        2664\n",
       "箱包奢品          1962\n",
       "钟表首饰           860\n",
       "图书音像           232\n",
       "Name: 商品一级类别, dtype: int64"
      ]
     },
     "execution_count": 13,
     "metadata": {},
     "output_type": "execute_result"
    }
   ],
   "source": [
    "data['商品一级类别'].value_counts()"
   ]
  },
  {
   "cell_type": "markdown",
   "id": "f774c814",
   "metadata": {},
   "source": [
    "#### 商品所属渠道"
   ]
  },
  {
   "cell_type": "code",
   "execution_count": 14,
   "id": "6ce22ffe",
   "metadata": {},
   "outputs": [
    {
     "data": {
      "text/plain": [
       "GO     91170\n",
       "POP    43020\n",
       "Name: 商品所属渠道, dtype: int64"
      ]
     },
     "execution_count": 14,
     "metadata": {},
     "output_type": "execute_result"
    }
   ],
   "source": [
    "data['商品所属渠道'].value_counts()"
   ]
  },
  {
   "cell_type": "code",
   "execution_count": 15,
   "id": "c403675b",
   "metadata": {},
   "outputs": [
    {
     "data": {
      "text/plain": [
       "0.6794097920858484"
      ]
     },
     "execution_count": 15,
     "metadata": {},
     "output_type": "execute_result"
    }
   ],
   "source": [
    "(data['商品所属渠道'] == 'GO').sum() / data.shape[0]"
   ]
  },
  {
   "cell_type": "markdown",
   "id": "a4eca859",
   "metadata": {},
   "source": [
    "#### 订单渠道"
   ]
  },
  {
   "cell_type": "code",
   "execution_count": 16,
   "id": "a4d6c37a",
   "metadata": {},
   "outputs": [
    {
     "data": {
      "text/plain": [
       "主站            96894\n",
       "抢购            16256\n",
       "手机站点           7098\n",
       "团购             6294\n",
       "手机抢购           3095\n",
       "do.site_id     2394\n",
       "手机团购           1074\n",
       "充值              703\n",
       "当当              377\n",
       "游戏站点              5\n",
       "Name: 订单渠道, dtype: int64"
      ]
     },
     "execution_count": 16,
     "metadata": {},
     "output_type": "execute_result"
    }
   ],
   "source": [
    "data['订单渠道'].value_counts()"
   ]
  },
  {
   "cell_type": "markdown",
   "id": "a36796df",
   "metadata": {},
   "source": [
    "#### 支付方式"
   ]
  },
  {
   "cell_type": "code",
   "execution_count": 17,
   "id": "73ffec15",
   "metadata": {},
   "outputs": [
    {
     "data": {
      "text/plain": [
       "合并支付    104274\n",
       "货到付款     26785\n",
       "当当支付      2511\n",
       "在线支付       421\n",
       "账户余额       199\n",
       "Name: 支付方式, dtype: int64"
      ]
     },
     "execution_count": 17,
     "metadata": {},
     "output_type": "execute_result"
    }
   ],
   "source": [
    "data['支付方式'].value_counts()"
   ]
  },
  {
   "cell_type": "markdown",
   "id": "7a129efb",
   "metadata": {},
   "source": [
    "#### 城市"
   ]
  },
  {
   "cell_type": "code",
   "execution_count": 18,
   "id": "4a6813b1",
   "metadata": {},
   "outputs": [
    {
     "data": {
      "text/plain": [
       "北京市        14554\n",
       "上海市         6637\n",
       "广州市         6033\n",
       "深圳市         5468\n",
       "天津市         3393\n",
       "           ...  \n",
       "果洛州            1\n",
       "昌都地区           1\n",
       "四川省其他城市        1\n",
       "江西省其他城市        1\n",
       "神农架林区          1\n",
       "Name: 城市, Length: 365, dtype: int64"
      ]
     },
     "execution_count": 18,
     "metadata": {},
     "output_type": "execute_result"
    }
   ],
   "source": [
    "data['城市'].value_counts()"
   ]
  },
  {
   "cell_type": "markdown",
   "id": "374ed589",
   "metadata": {},
   "source": [
    "#### 查看数据的其他信息"
   ]
  },
  {
   "cell_type": "code",
   "execution_count": 19,
   "id": "e576ce88",
   "metadata": {},
   "outputs": [
    {
     "name": "stdout",
     "output_type": "stream",
     "text": [
      "<class 'pandas.core.frame.DataFrame'>\n",
      "RangeIndex: 134190 entries, 0 to 134189\n",
      "Data columns (total 14 columns):\n",
      " #   Column  Non-Null Count   Dtype  \n",
      "---  ------  --------------   -----  \n",
      " 0   订单ID    134190 non-null  int64  \n",
      " 1   下单日期    134190 non-null  object \n",
      " 2   下单时间    134190 non-null  object \n",
      " 3   商品一级类别  132800 non-null  object \n",
      " 4   商品所属渠道  134190 non-null  object \n",
      " 5   商品ID    134190 non-null  int64  \n",
      " 6   品牌      133418 non-null  object \n",
      " 7   订单金额    134189 non-null  float64\n",
      " 8   商品销售数量  134190 non-null  int64  \n",
      " 9   订单渠道    134190 non-null  object \n",
      " 10  支付方式    134190 non-null  object \n",
      " 11  下单用户ID  134190 non-null  object \n",
      " 12  城市      134188 non-null  object \n",
      " 13  异常      134190 non-null  int64  \n",
      "dtypes: float64(1), int64(4), object(9)\n",
      "memory usage: 14.3+ MB\n"
     ]
    }
   ],
   "source": [
    "data.info()"
   ]
  },
  {
   "cell_type": "code",
   "execution_count": 20,
   "id": "bca5227c",
   "metadata": {},
   "outputs": [
    {
     "data": {
      "text/html": [
       "<div>\n",
       "<style scoped>\n",
       "    .dataframe tbody tr th:only-of-type {\n",
       "        vertical-align: middle;\n",
       "    }\n",
       "\n",
       "    .dataframe tbody tr th {\n",
       "        vertical-align: top;\n",
       "    }\n",
       "\n",
       "    .dataframe thead th {\n",
       "        text-align: right;\n",
       "    }\n",
       "</style>\n",
       "<table border=\"1\" class=\"dataframe\">\n",
       "  <thead>\n",
       "    <tr style=\"text-align: right;\">\n",
       "      <th></th>\n",
       "      <th>订单ID</th>\n",
       "      <th>商品ID</th>\n",
       "      <th>商品销售数量</th>\n",
       "      <th>异常</th>\n",
       "    </tr>\n",
       "  </thead>\n",
       "  <tbody>\n",
       "    <tr>\n",
       "      <th>0</th>\n",
       "      <td>4277880103</td>\n",
       "      <td>8000001215</td>\n",
       "      <td>1000</td>\n",
       "      <td>0</td>\n",
       "    </tr>\n",
       "    <tr>\n",
       "      <th>1</th>\n",
       "      <td>4283851335</td>\n",
       "      <td>8002042497</td>\n",
       "      <td>200</td>\n",
       "      <td>1</td>\n",
       "    </tr>\n",
       "    <tr>\n",
       "      <th>2</th>\n",
       "      <td>4277700101</td>\n",
       "      <td>7000000960</td>\n",
       "      <td>160</td>\n",
       "      <td>1</td>\n",
       "    </tr>\n",
       "    <tr>\n",
       "      <th>3</th>\n",
       "      <td>4276537082</td>\n",
       "      <td>8001992420</td>\n",
       "      <td>100</td>\n",
       "      <td>1</td>\n",
       "    </tr>\n",
       "    <tr>\n",
       "      <th>4</th>\n",
       "      <td>4281111595</td>\n",
       "      <td>8002199518</td>\n",
       "      <td>100</td>\n",
       "      <td>1</td>\n",
       "    </tr>\n",
       "  </tbody>\n",
       "</table>\n",
       "</div>"
      ],
      "text/plain": [
       "         订单ID        商品ID  商品销售数量  异常\n",
       "0  4277880103  8000001215    1000   0\n",
       "1  4283851335  8002042497     200   1\n",
       "2  4277700101  7000000960     160   1\n",
       "3  4276537082  8001992420     100   1\n",
       "4  4281111595  8002199518     100   1"
      ]
     },
     "execution_count": 20,
     "metadata": {},
     "output_type": "execute_result"
    }
   ],
   "source": [
    "data.select_dtypes(include='int64').head()"
   ]
  },
  {
   "cell_type": "markdown",
   "id": "1a7c541e",
   "metadata": {},
   "source": [
    "#### 2、缺失值处理 ：信息缺失与异常有关吗？"
   ]
  },
  {
   "cell_type": "code",
   "execution_count": 21,
   "id": "4424ce9a",
   "metadata": {},
   "outputs": [
    {
     "data": {
      "text/plain": [
       "订单ID         0\n",
       "下单日期         0\n",
       "下单时间         0\n",
       "商品一级类别    1390\n",
       "商品所属渠道       0\n",
       "商品ID         0\n",
       "品牌         772\n",
       "订单金额         1\n",
       "商品销售数量       0\n",
       "订单渠道         0\n",
       "支付方式         0\n",
       "下单用户ID       0\n",
       "城市           2\n",
       "异常           0\n",
       "dtype: int64"
      ]
     },
     "execution_count": 21,
     "metadata": {},
     "output_type": "execute_result"
    }
   ],
   "source": [
    "data.isnull().sum()"
   ]
  },
  {
   "cell_type": "code",
   "execution_count": 22,
   "id": "20a0a06f",
   "metadata": {},
   "outputs": [
    {
     "name": "stdout",
     "output_type": "stream",
     "text": [
      "缺少(商品一级类别)的样本中异常样本占比为11.727%\n",
      "缺少(品牌)的样本中异常样本占比为20.984%\n"
     ]
    }
   ],
   "source": [
    "for  i in ['商品一级类别','品牌']:\n",
    "    ratio1 = 100 * data.loc[data[i].isnull(),'异常'].sum() / data[i].isnull().sum()\n",
    "    print('缺少({})的样本中异常样本占比为{:.3f}%'.format(i,ratio1))"
   ]
  },
  {
   "cell_type": "raw",
   "id": "0573144b",
   "metadata": {},
   "source": [
    "该数值说明，商品并不会因为缺少品牌信息或缺少商品信息就被判定为异常。缺失与交易异常的联系并不大"
   ]
  },
  {
   "cell_type": "code",
   "execution_count": 23,
   "id": "cc05eac3",
   "metadata": {},
   "outputs": [
    {
     "name": "stdout",
     "output_type": "stream",
     "text": [
      "全部交易异常样本中，缺少（商品一级类别）的异常样本占比为0.573%\n",
      "全部交易异常样本中，缺少（品牌）的异常样本占比为0.569%\n"
     ]
    }
   ],
   "source": [
    "for i in ['商品一级类别','品牌']:\n",
    "    ratio2 = 100 * data.loc[data[i].isnull(),'异常'].sum() / (data['异常'] == 1).sum()\n",
    "    print('全部交易异常样本中，缺少（{}）的异常样本占比为{:.3f}%'.format(i,ratio2))"
   ]
  },
  {
   "cell_type": "raw",
   "id": "8d46676d",
   "metadata": {},
   "source": [
    "该数值说明，全部交易异常样本中，确实样本的占比非常小，可以直接删除处理"
   ]
  },
  {
   "cell_type": "code",
   "execution_count": 24,
   "id": "f2de2d6d",
   "metadata": {},
   "outputs": [],
   "source": [
    "data.dropna(how='any',inplace=True)"
   ]
  },
  {
   "cell_type": "code",
   "execution_count": 25,
   "id": "51f92ade",
   "metadata": {},
   "outputs": [
    {
     "name": "stdout",
     "output_type": "stream",
     "text": [
      "<class 'pandas.core.frame.DataFrame'>\n",
      "Int64Index: 132761 entries, 1 to 134189\n",
      "Data columns (total 14 columns):\n",
      " #   Column  Non-Null Count   Dtype  \n",
      "---  ------  --------------   -----  \n",
      " 0   订单ID    132761 non-null  int64  \n",
      " 1   下单日期    132761 non-null  object \n",
      " 2   下单时间    132761 non-null  object \n",
      " 3   商品一级类别  132761 non-null  object \n",
      " 4   商品所属渠道  132761 non-null  object \n",
      " 5   商品ID    132761 non-null  int64  \n",
      " 6   品牌      132761 non-null  object \n",
      " 7   订单金额    132761 non-null  float64\n",
      " 8   商品销售数量  132761 non-null  int64  \n",
      " 9   订单渠道    132761 non-null  object \n",
      " 10  支付方式    132761 non-null  object \n",
      " 11  下单用户ID  132761 non-null  object \n",
      " 12  城市      132761 non-null  object \n",
      " 13  异常      132761 non-null  int64  \n",
      "dtypes: float64(1), int64(4), object(9)\n",
      "memory usage: 15.2+ MB\n"
     ]
    }
   ],
   "source": [
    "data.info()"
   ]
  },
  {
   "cell_type": "code",
   "execution_count": 26,
   "id": "5c8d557c",
   "metadata": {},
   "outputs": [],
   "source": [
    "data.index = range(data.shape[0])"
   ]
  },
  {
   "cell_type": "code",
   "execution_count": 27,
   "id": "e0fffb6a",
   "metadata": {},
   "outputs": [
    {
     "data": {
      "text/plain": [
       "132761"
      ]
     },
     "execution_count": 27,
     "metadata": {},
     "output_type": "execute_result"
    }
   ],
   "source": [
    "data.shape[0]"
   ]
  },
  {
   "cell_type": "code",
   "execution_count": 28,
   "id": "acc780a8",
   "metadata": {},
   "outputs": [
    {
     "data": {
      "text/plain": [
       "28284"
      ]
     },
     "execution_count": 28,
     "metadata": {},
     "output_type": "execute_result"
    }
   ],
   "source": [
    "(data['异常'] == 1).sum()"
   ]
  },
  {
   "cell_type": "markdown",
   "id": "7ad69905",
   "metadata": {},
   "source": [
    "#### 3、重复值处理：订单重复背后隐藏的问题"
   ]
  },
  {
   "cell_type": "code",
   "execution_count": 29,
   "id": "6f07c9f6",
   "metadata": {},
   "outputs": [
    {
     "data": {
      "text/plain": [
       "8"
      ]
     },
     "execution_count": 29,
     "metadata": {},
     "output_type": "execute_result"
    }
   ],
   "source": [
    "data.duplicated().sum()"
   ]
  },
  {
   "cell_type": "raw",
   "id": "b669d2fd",
   "metadata": {},
   "source": [
    "完全一样的样本有8个，直接删除"
   ]
  },
  {
   "cell_type": "code",
   "execution_count": 30,
   "id": "215c2ea2",
   "metadata": {},
   "outputs": [],
   "source": [
    "data.drop_duplicates(inplace=True)"
   ]
  },
  {
   "cell_type": "markdown",
   "id": "ddce6d23",
   "metadata": {},
   "source": [
    "#### '下单日期'应删除"
   ]
  },
  {
   "cell_type": "code",
   "execution_count": 31,
   "id": "3e1f9de2",
   "metadata": {},
   "outputs": [
    {
     "data": {
      "text/plain": [
       "4279118253    32\n",
       "4269390206    23\n",
       "4271884108    20\n",
       "4275856215    20\n",
       "4265415474    19\n",
       "Name: 订单ID, dtype: int64"
      ]
     },
     "execution_count": 31,
     "metadata": {},
     "output_type": "execute_result"
    }
   ],
   "source": [
    "data['订单ID'].value_counts().sort_values(ascending=False).head()"
   ]
  },
  {
   "cell_type": "raw",
   "id": "2facd0de",
   "metadata": {},
   "source": [
    "订单ID一般不会重复，重复则说明：\n",
    "\n",
    "①数据集可能存在大量重复的样本\n",
    "②数据集的每个样本并非是订单，而是一件商品或者一笔交易\n",
    "现在随便挑一个订单看看"
   ]
  },
  {
   "cell_type": "code",
   "execution_count": 34,
   "id": "91e7b853",
   "metadata": {},
   "outputs": [
    {
     "data": {
      "text/html": [
       "<div>\n",
       "<style scoped>\n",
       "    .dataframe tbody tr th:only-of-type {\n",
       "        vertical-align: middle;\n",
       "    }\n",
       "\n",
       "    .dataframe tbody tr th {\n",
       "        vertical-align: top;\n",
       "    }\n",
       "\n",
       "    .dataframe thead th {\n",
       "        text-align: right;\n",
       "    }\n",
       "</style>\n",
       "<table border=\"1\" class=\"dataframe\">\n",
       "  <thead>\n",
       "    <tr style=\"text-align: right;\">\n",
       "      <th></th>\n",
       "      <th>订单ID</th>\n",
       "      <th>下单日期</th>\n",
       "      <th>下单时间</th>\n",
       "      <th>商品一级类别</th>\n",
       "      <th>商品所属渠道</th>\n",
       "      <th>商品ID</th>\n",
       "      <th>品牌</th>\n",
       "      <th>订单金额</th>\n",
       "      <th>商品销售数量</th>\n",
       "      <th>订单渠道</th>\n",
       "      <th>支付方式</th>\n",
       "      <th>下单用户ID</th>\n",
       "      <th>城市</th>\n",
       "      <th>异常</th>\n",
       "    </tr>\n",
       "  </thead>\n",
       "  <tbody>\n",
       "    <tr>\n",
       "      <th>95213</th>\n",
       "      <td>4279118253</td>\n",
       "      <td>2013-07-23</td>\n",
       "      <td>23:22:21</td>\n",
       "      <td>家具建材</td>\n",
       "      <td>GO</td>\n",
       "      <td>1000147804</td>\n",
       "      <td>西门子</td>\n",
       "      <td>10.6</td>\n",
       "      <td>1</td>\n",
       "      <td>主站</td>\n",
       "      <td>合并支付</td>\n",
       "      <td>cxh0111</td>\n",
       "      <td>湛江市</td>\n",
       "      <td>0</td>\n",
       "    </tr>\n",
       "    <tr>\n",
       "      <th>95214</th>\n",
       "      <td>4279118253</td>\n",
       "      <td>2013-11-08</td>\n",
       "      <td>23:22:21</td>\n",
       "      <td>家具建材</td>\n",
       "      <td>GO</td>\n",
       "      <td>1000147804</td>\n",
       "      <td>西门子</td>\n",
       "      <td>10.6</td>\n",
       "      <td>1</td>\n",
       "      <td>主站</td>\n",
       "      <td>合并支付</td>\n",
       "      <td>cxh0111</td>\n",
       "      <td>湛江市</td>\n",
       "      <td>0</td>\n",
       "    </tr>\n",
       "    <tr>\n",
       "      <th>95215</th>\n",
       "      <td>4279118253</td>\n",
       "      <td>2013-01-26</td>\n",
       "      <td>23:22:21</td>\n",
       "      <td>家具建材</td>\n",
       "      <td>GO</td>\n",
       "      <td>1000147606</td>\n",
       "      <td>西门子</td>\n",
       "      <td>20.6</td>\n",
       "      <td>1</td>\n",
       "      <td>主站</td>\n",
       "      <td>合并支付</td>\n",
       "      <td>cxh0111</td>\n",
       "      <td>湛江市</td>\n",
       "      <td>0</td>\n",
       "    </tr>\n",
       "    <tr>\n",
       "      <th>95216</th>\n",
       "      <td>4279118253</td>\n",
       "      <td>2013-02-03</td>\n",
       "      <td>23:22:21</td>\n",
       "      <td>家具建材</td>\n",
       "      <td>GO</td>\n",
       "      <td>1000147606</td>\n",
       "      <td>西门子</td>\n",
       "      <td>20.6</td>\n",
       "      <td>1</td>\n",
       "      <td>主站</td>\n",
       "      <td>合并支付</td>\n",
       "      <td>cxh0111</td>\n",
       "      <td>湛江市</td>\n",
       "      <td>0</td>\n",
       "    </tr>\n",
       "    <tr>\n",
       "      <th>95217</th>\n",
       "      <td>4279118253</td>\n",
       "      <td>2013-07-06</td>\n",
       "      <td>23:22:21</td>\n",
       "      <td>家具建材</td>\n",
       "      <td>GO</td>\n",
       "      <td>1000147606</td>\n",
       "      <td>西门子</td>\n",
       "      <td>20.6</td>\n",
       "      <td>1</td>\n",
       "      <td>主站</td>\n",
       "      <td>合并支付</td>\n",
       "      <td>cxh0111</td>\n",
       "      <td>湛江市</td>\n",
       "      <td>0</td>\n",
       "    </tr>\n",
       "  </tbody>\n",
       "</table>\n",
       "</div>"
      ],
      "text/plain": [
       "             订单ID        下单日期      下单时间 商品一级类别 商品所属渠道        商品ID   品牌  订单金额  \\\n",
       "95213  4279118253  2013-07-23  23:22:21   家具建材     GO  1000147804  西门子  10.6   \n",
       "95214  4279118253  2013-11-08  23:22:21   家具建材     GO  1000147804  西门子  10.6   \n",
       "95215  4279118253  2013-01-26  23:22:21   家具建材     GO  1000147606  西门子  20.6   \n",
       "95216  4279118253  2013-02-03  23:22:21   家具建材     GO  1000147606  西门子  20.6   \n",
       "95217  4279118253  2013-07-06  23:22:21   家具建材     GO  1000147606  西门子  20.6   \n",
       "\n",
       "       商品销售数量 订单渠道  支付方式   下单用户ID   城市  异常  \n",
       "95213       1   主站  合并支付  cxh0111  湛江市   0  \n",
       "95214       1   主站  合并支付  cxh0111  湛江市   0  \n",
       "95215       1   主站  合并支付  cxh0111  湛江市   0  \n",
       "95216       1   主站  合并支付  cxh0111  湛江市   0  \n",
       "95217       1   主站  合并支付  cxh0111  湛江市   0  "
      ]
     },
     "execution_count": 34,
     "metadata": {},
     "output_type": "execute_result"
    }
   ],
   "source": [
    "data.loc[data['订单ID'] == 4279118253,:].head()"
   ]
  },
  {
   "cell_type": "raw",
   "id": "ac718527",
   "metadata": {},
   "source": [
    "发现异常：同一用户在不同日期的同一时间下单，且商品ID有重复，产生了同样的订单ID\n",
    "再随便挑一个订单看看"
   ]
  },
  {
   "cell_type": "code",
   "execution_count": 35,
   "id": "48d721e9",
   "metadata": {},
   "outputs": [
    {
     "data": {
      "text/html": [
       "<div>\n",
       "<style scoped>\n",
       "    .dataframe tbody tr th:only-of-type {\n",
       "        vertical-align: middle;\n",
       "    }\n",
       "\n",
       "    .dataframe tbody tr th {\n",
       "        vertical-align: top;\n",
       "    }\n",
       "\n",
       "    .dataframe thead th {\n",
       "        text-align: right;\n",
       "    }\n",
       "</style>\n",
       "<table border=\"1\" class=\"dataframe\">\n",
       "  <thead>\n",
       "    <tr style=\"text-align: right;\">\n",
       "      <th></th>\n",
       "      <th>订单ID</th>\n",
       "      <th>下单日期</th>\n",
       "      <th>下单时间</th>\n",
       "      <th>商品一级类别</th>\n",
       "      <th>商品所属渠道</th>\n",
       "      <th>商品ID</th>\n",
       "      <th>品牌</th>\n",
       "      <th>订单金额</th>\n",
       "      <th>商品销售数量</th>\n",
       "      <th>订单渠道</th>\n",
       "      <th>支付方式</th>\n",
       "      <th>下单用户ID</th>\n",
       "      <th>城市</th>\n",
       "      <th>异常</th>\n",
       "    </tr>\n",
       "  </thead>\n",
       "  <tbody>\n",
       "    <tr>\n",
       "      <th>76916</th>\n",
       "      <td>4269390206</td>\n",
       "      <td>2013-09-26</td>\n",
       "      <td>02:11:10</td>\n",
       "      <td>电视冰箱洗衣机空调</td>\n",
       "      <td>GO</td>\n",
       "      <td>1000324051</td>\n",
       "      <td>夏普</td>\n",
       "      <td>2588.0</td>\n",
       "      <td>1</td>\n",
       "      <td>主站</td>\n",
       "      <td>合并支付</td>\n",
       "      <td>1390109546</td>\n",
       "      <td>西安市</td>\n",
       "      <td>0</td>\n",
       "    </tr>\n",
       "    <tr>\n",
       "      <th>76917</th>\n",
       "      <td>4269390206</td>\n",
       "      <td>2013-03-09</td>\n",
       "      <td>02:11:10</td>\n",
       "      <td>电视冰箱洗衣机空调</td>\n",
       "      <td>POP</td>\n",
       "      <td>8002267703</td>\n",
       "      <td>夏普</td>\n",
       "      <td>14999.0</td>\n",
       "      <td>1</td>\n",
       "      <td>主站</td>\n",
       "      <td>合并支付</td>\n",
       "      <td>1390109546</td>\n",
       "      <td>西安市</td>\n",
       "      <td>0</td>\n",
       "    </tr>\n",
       "    <tr>\n",
       "      <th>76918</th>\n",
       "      <td>4269390206</td>\n",
       "      <td>2013-09-21</td>\n",
       "      <td>02:11:10</td>\n",
       "      <td>电视冰箱洗衣机空调</td>\n",
       "      <td>GO</td>\n",
       "      <td>1000324052</td>\n",
       "      <td>夏普</td>\n",
       "      <td>3888.0</td>\n",
       "      <td>1</td>\n",
       "      <td>主站</td>\n",
       "      <td>合并支付</td>\n",
       "      <td>1390109546</td>\n",
       "      <td>西安市</td>\n",
       "      <td>0</td>\n",
       "    </tr>\n",
       "    <tr>\n",
       "      <th>76919</th>\n",
       "      <td>4269390206</td>\n",
       "      <td>2013-01-23</td>\n",
       "      <td>02:11:10</td>\n",
       "      <td>家居日用</td>\n",
       "      <td>GO</td>\n",
       "      <td>1000174960</td>\n",
       "      <td>伟经</td>\n",
       "      <td>275.0</td>\n",
       "      <td>1</td>\n",
       "      <td>主站</td>\n",
       "      <td>合并支付</td>\n",
       "      <td>1390109546</td>\n",
       "      <td>西安市</td>\n",
       "      <td>0</td>\n",
       "    </tr>\n",
       "    <tr>\n",
       "      <th>76920</th>\n",
       "      <td>4269390206</td>\n",
       "      <td>2013-11-12</td>\n",
       "      <td>02:11:10</td>\n",
       "      <td>电脑办公打印文仪</td>\n",
       "      <td>GO</td>\n",
       "      <td>1000315933</td>\n",
       "      <td>中亿</td>\n",
       "      <td>738.0</td>\n",
       "      <td>1</td>\n",
       "      <td>主站</td>\n",
       "      <td>合并支付</td>\n",
       "      <td>1390109546</td>\n",
       "      <td>西安市</td>\n",
       "      <td>0</td>\n",
       "    </tr>\n",
       "  </tbody>\n",
       "</table>\n",
       "</div>"
      ],
      "text/plain": [
       "             订单ID        下单日期      下单时间     商品一级类别 商品所属渠道        商品ID  品牌  \\\n",
       "76916  4269390206  2013-09-26  02:11:10  电视冰箱洗衣机空调     GO  1000324051  夏普   \n",
       "76917  4269390206  2013-03-09  02:11:10  电视冰箱洗衣机空调    POP  8002267703  夏普   \n",
       "76918  4269390206  2013-09-21  02:11:10  电视冰箱洗衣机空调     GO  1000324052  夏普   \n",
       "76919  4269390206  2013-01-23  02:11:10       家居日用     GO  1000174960  伟经   \n",
       "76920  4269390206  2013-11-12  02:11:10   电脑办公打印文仪     GO  1000315933  中亿   \n",
       "\n",
       "          订单金额  商品销售数量 订单渠道  支付方式      下单用户ID   城市  异常  \n",
       "76916   2588.0       1   主站  合并支付  1390109546  西安市   0  \n",
       "76917  14999.0       1   主站  合并支付  1390109546  西安市   0  \n",
       "76918   3888.0       1   主站  合并支付  1390109546  西安市   0  \n",
       "76919    275.0       1   主站  合并支付  1390109546  西安市   0  \n",
       "76920    738.0       1   主站  合并支付  1390109546  西安市   0  "
      ]
     },
     "execution_count": 35,
     "metadata": {},
     "output_type": "execute_result"
    }
   ],
   "source": [
    "data[data['订单ID'] == 4269390206].head()"
   ]
  },
  {
   "cell_type": "raw",
   "id": "20b28fb8",
   "metadata": {},
   "source": [
    "同一用户在不同的日期的同一时间下单，但不同的是，商品ID不重复。\n",
    "正常的购物规则应该是：在同一订单下应该有相同的下单日期、相同的下单时间、不同的商品ID\n",
    "所以，有问题的样本，其特征应该是在同一订单下，同一下单时间，存在有相同的商品ID"
   ]
  },
  {
   "cell_type": "raw",
   "id": "18498afe",
   "metadata": {},
   "source": [
    "删除‘下单日期’列"
   ]
  },
  {
   "cell_type": "code",
   "execution_count": 36,
   "id": "5ae2221a",
   "metadata": {},
   "outputs": [],
   "source": [
    "data.drop(columns='下单日期',inplace=True)"
   ]
  },
  {
   "cell_type": "code",
   "execution_count": 37,
   "id": "68598afb",
   "metadata": {},
   "outputs": [
    {
     "data": {
      "text/plain": [
       "1471"
      ]
     },
     "execution_count": 37,
     "metadata": {},
     "output_type": "execute_result"
    }
   ],
   "source": [
    "data.duplicated().sum()"
   ]
  },
  {
   "cell_type": "raw",
   "id": "f356c20e",
   "metadata": {},
   "source": [
    "删除后，完全一样的样本还有1471个，继续去重："
   ]
  },
  {
   "cell_type": "code",
   "execution_count": 38,
   "id": "9bb46b11",
   "metadata": {},
   "outputs": [],
   "source": [
    "data.drop_duplicates(inplace=True)"
   ]
  },
  {
   "cell_type": "raw",
   "id": "3fb7169d",
   "metadata": {},
   "source": [
    "去重后需要重新索引"
   ]
  },
  {
   "cell_type": "code",
   "execution_count": 39,
   "id": "cda0b328",
   "metadata": {},
   "outputs": [],
   "source": [
    "data.index = range(data.shape[0])"
   ]
  },
  {
   "cell_type": "code",
   "execution_count": 40,
   "id": "fff3c61a",
   "metadata": {},
   "outputs": [
    {
     "data": {
      "text/plain": [
       "(131282, 13)"
      ]
     },
     "execution_count": 40,
     "metadata": {},
     "output_type": "execute_result"
    }
   ],
   "source": [
    "data.shape"
   ]
  },
  {
   "cell_type": "markdown",
   "id": "542fb172",
   "metadata": {},
   "source": [
    "#### '订单ID'应保留"
   ]
  },
  {
   "cell_type": "raw",
   "id": "960923fa",
   "metadata": {},
   "source": [
    "在观察样本时发现：任意订单ID下，所有样本的标签是一致的。如果想法是正确的，统一订单下的交易异常的样本应该只有‘0’和‘1’，如果出现0.2，则说明有20%的样本标签是1"
   ]
  },
  {
   "cell_type": "code",
   "execution_count": 41,
   "id": "61938b99",
   "metadata": {},
   "outputs": [
    {
     "data": {
      "text/plain": [
       "异常\n",
       "0.0    89100\n",
       "0.5        5\n",
       "1.0    25102\n",
       "Name: 订单ID, dtype: int64"
      ]
     },
     "execution_count": 41,
     "metadata": {},
     "output_type": "execute_result"
    }
   ],
   "source": [
    "temp1 = data.groupby('订单ID')['异常'].mean()\n",
    "temp2 = pd.DataFrame(temp1).reset_index()\n",
    "temp2.groupby('异常')['订单ID'].count()"
   ]
  },
  {
   "cell_type": "raw",
   "id": "16dc43b0",
   "metadata": {},
   "source": [
    "有89100个订单，其标签“异常”均为0（交易正常订单）；\n",
    "有25102个订单，其标签“异常”均为1（交易异常订单）\n",
    "而有5个订单，其样本的标签为1的样本占该订单下的总样本的50%（0.5）"
   ]
  },
  {
   "cell_type": "markdown",
   "id": "f0dd4c7c",
   "metadata": {},
   "source": [
    "### 异常值处理"
   ]
  },
  {
   "cell_type": "markdown",
   "id": "896355d8",
   "metadata": {},
   "source": [
    "#### 依据一：分布与统计"
   ]
  },
  {
   "cell_type": "code",
   "execution_count": 42,
   "id": "7ae83479",
   "metadata": {},
   "outputs": [
    {
     "data": {
      "text/plain": [
       "Index(['订单ID', '下单时间', '商品一级类别', '商品所属渠道', '商品ID', '品牌', '订单金额', '商品销售数量',\n",
       "       '订单渠道', '支付方式', '下单用户ID', '城市', '异常'],\n",
       "      dtype='object')"
      ]
     },
     "execution_count": 42,
     "metadata": {},
     "output_type": "execute_result"
    }
   ],
   "source": [
    "data.columns"
   ]
  },
  {
   "cell_type": "raw",
   "id": "48f1e80d",
   "metadata": {},
   "source": [
    "现在的数据中有且只有交易金额、交易数量这两个连续型特征，且许多离散型特征的“分布”对当下的预测并无太大意义（如品牌、商品一级类别、城市），因此我们只对两个连续型特征做统计"
   ]
  },
  {
   "cell_type": "code",
   "execution_count": 43,
   "id": "c6bb6c0e",
   "metadata": {},
   "outputs": [
    {
     "data": {
      "text/html": [
       "<div>\n",
       "<style scoped>\n",
       "    .dataframe tbody tr th:only-of-type {\n",
       "        vertical-align: middle;\n",
       "    }\n",
       "\n",
       "    .dataframe tbody tr th {\n",
       "        vertical-align: top;\n",
       "    }\n",
       "\n",
       "    .dataframe thead th {\n",
       "        text-align: right;\n",
       "    }\n",
       "</style>\n",
       "<table border=\"1\" class=\"dataframe\">\n",
       "  <thead>\n",
       "    <tr style=\"text-align: right;\">\n",
       "      <th></th>\n",
       "      <th>订单金额</th>\n",
       "      <th>商品销售数量</th>\n",
       "    </tr>\n",
       "  </thead>\n",
       "  <tbody>\n",
       "    <tr>\n",
       "      <th>count</th>\n",
       "      <td>131282.000000</td>\n",
       "      <td>131282.000000</td>\n",
       "    </tr>\n",
       "    <tr>\n",
       "      <th>mean</th>\n",
       "      <td>667.187834</td>\n",
       "      <td>1.188975</td>\n",
       "    </tr>\n",
       "    <tr>\n",
       "      <th>std</th>\n",
       "      <td>2930.730828</td>\n",
       "      <td>1.684653</td>\n",
       "    </tr>\n",
       "    <tr>\n",
       "      <th>min</th>\n",
       "      <td>0.500000</td>\n",
       "      <td>1.000000</td>\n",
       "    </tr>\n",
       "    <tr>\n",
       "      <th>25%</th>\n",
       "      <td>29.000000</td>\n",
       "      <td>1.000000</td>\n",
       "    </tr>\n",
       "    <tr>\n",
       "      <th>50%</th>\n",
       "      <td>98.000000</td>\n",
       "      <td>1.000000</td>\n",
       "    </tr>\n",
       "    <tr>\n",
       "      <th>75%</th>\n",
       "      <td>379.000000</td>\n",
       "      <td>1.000000</td>\n",
       "    </tr>\n",
       "    <tr>\n",
       "      <th>max</th>\n",
       "      <td>766000.000000</td>\n",
       "      <td>200.000000</td>\n",
       "    </tr>\n",
       "  </tbody>\n",
       "</table>\n",
       "</div>"
      ],
      "text/plain": [
       "                订单金额         商品销售数量\n",
       "count  131282.000000  131282.000000\n",
       "mean      667.187834       1.188975\n",
       "std      2930.730828       1.684653\n",
       "min         0.500000       1.000000\n",
       "25%        29.000000       1.000000\n",
       "50%        98.000000       1.000000\n",
       "75%       379.000000       1.000000\n",
       "max    766000.000000     200.000000"
      ]
     },
     "execution_count": 43,
     "metadata": {},
     "output_type": "execute_result"
    }
   ],
   "source": [
    "data[['订单金额','商品销售数量']].describe()"
   ]
  },
  {
   "cell_type": "raw",
   "id": "9cac7806",
   "metadata": {},
   "source": [
    "从分布来看两个连续型变量都可能出现大量的异常"
   ]
  },
  {
   "cell_type": "code",
   "execution_count": 44,
   "id": "ab269446",
   "metadata": {},
   "outputs": [
    {
     "name": "stderr",
     "output_type": "stream",
     "text": [
      "F:\\anaconda\\lib\\site-packages\\IPython\\core\\pylabtools.py:151: UserWarning: Glyph 35746 (\\N{CJK UNIFIED IDEOGRAPH-8BA2}) missing from current font.\n",
      "  fig.canvas.print_figure(bytes_io, **kw)\n",
      "F:\\anaconda\\lib\\site-packages\\IPython\\core\\pylabtools.py:151: UserWarning: Glyph 21333 (\\N{CJK UNIFIED IDEOGRAPH-5355}) missing from current font.\n",
      "  fig.canvas.print_figure(bytes_io, **kw)\n",
      "F:\\anaconda\\lib\\site-packages\\IPython\\core\\pylabtools.py:151: UserWarning: Glyph 37329 (\\N{CJK UNIFIED IDEOGRAPH-91D1}) missing from current font.\n",
      "  fig.canvas.print_figure(bytes_io, **kw)\n",
      "F:\\anaconda\\lib\\site-packages\\IPython\\core\\pylabtools.py:151: UserWarning: Glyph 39069 (\\N{CJK UNIFIED IDEOGRAPH-989D}) missing from current font.\n",
      "  fig.canvas.print_figure(bytes_io, **kw)\n",
      "F:\\anaconda\\lib\\site-packages\\IPython\\core\\pylabtools.py:151: UserWarning: Glyph 27010 (\\N{CJK UNIFIED IDEOGRAPH-6982}) missing from current font.\n",
      "  fig.canvas.print_figure(bytes_io, **kw)\n",
      "F:\\anaconda\\lib\\site-packages\\IPython\\core\\pylabtools.py:151: UserWarning: Glyph 29575 (\\N{CJK UNIFIED IDEOGRAPH-7387}) missing from current font.\n",
      "  fig.canvas.print_figure(bytes_io, **kw)\n",
      "F:\\anaconda\\lib\\site-packages\\IPython\\core\\pylabtools.py:151: UserWarning: Glyph 23494 (\\N{CJK UNIFIED IDEOGRAPH-5BC6}) missing from current font.\n",
      "  fig.canvas.print_figure(bytes_io, **kw)\n",
      "F:\\anaconda\\lib\\site-packages\\IPython\\core\\pylabtools.py:151: UserWarning: Glyph 24230 (\\N{CJK UNIFIED IDEOGRAPH-5EA6}) missing from current font.\n",
      "  fig.canvas.print_figure(bytes_io, **kw)\n",
      "F:\\anaconda\\lib\\site-packages\\IPython\\core\\pylabtools.py:151: UserWarning: Glyph 20998 (\\N{CJK UNIFIED IDEOGRAPH-5206}) missing from current font.\n",
      "  fig.canvas.print_figure(bytes_io, **kw)\n",
      "F:\\anaconda\\lib\\site-packages\\IPython\\core\\pylabtools.py:151: UserWarning: Glyph 24067 (\\N{CJK UNIFIED IDEOGRAPH-5E03}) missing from current font.\n",
      "  fig.canvas.print_figure(bytes_io, **kw)\n",
      "F:\\anaconda\\lib\\site-packages\\IPython\\core\\pylabtools.py:151: UserWarning: Glyph 22270 (\\N{CJK UNIFIED IDEOGRAPH-56FE}) missing from current font.\n",
      "  fig.canvas.print_figure(bytes_io, **kw)\n"
     ]
    },
    {
     "data": {
      "image/png": "[encoded data removed]",
      "text/plain": [
       "<Figure size 800x640 with 1 Axes>"
      ]
     },
     "metadata": {
      "needs_background": "light"
     },
     "output_type": "display_data"
    }
   ],
   "source": [
    "import seaborn as sns\n",
    "plt.figure(figsize=(10,8), dpi=80)\n",
    "# 绘图\n",
    "sns.kdeplot(data.loc[:,'订单金额'],\n",
    "           shade=True,\n",
    "           color=\"#01a2d9\",\n",
    "           label = '订单金额',\n",
    "           alpha = .7)\n",
    "# 风格与装饰\n",
    "sns.set(style=\"whitegrid\", font_scale=1.1)\n",
    "plt.title('订单金额概率密度分布图',fontsize = 18)\n",
    "plt.yticks([])\n",
    "plt.show()"
   ]
  },
  {
   "cell_type": "code",
   "execution_count": 48,
   "id": "6aeaeed2",
   "metadata": {},
   "outputs": [
    {
     "name": "stderr",
     "output_type": "stream",
     "text": [
      "F:\\anaconda\\lib\\site-packages\\IPython\\core\\pylabtools.py:151: UserWarning: Glyph 21830 (\\N{CJK UNIFIED IDEOGRAPH-5546}) missing from current font.\n",
      "  fig.canvas.print_figure(bytes_io, **kw)\n",
      "F:\\anaconda\\lib\\site-packages\\IPython\\core\\pylabtools.py:151: UserWarning: Glyph 21697 (\\N{CJK UNIFIED IDEOGRAPH-54C1}) missing from current font.\n",
      "  fig.canvas.print_figure(bytes_io, **kw)\n",
      "F:\\anaconda\\lib\\site-packages\\IPython\\core\\pylabtools.py:151: UserWarning: Glyph 38144 (\\N{CJK UNIFIED IDEOGRAPH-9500}) missing from current font.\n",
      "  fig.canvas.print_figure(bytes_io, **kw)\n",
      "F:\\anaconda\\lib\\site-packages\\IPython\\core\\pylabtools.py:151: UserWarning: Glyph 21806 (\\N{CJK UNIFIED IDEOGRAPH-552E}) missing from current font.\n",
      "  fig.canvas.print_figure(bytes_io, **kw)\n",
      "F:\\anaconda\\lib\\site-packages\\IPython\\core\\pylabtools.py:151: UserWarning: Glyph 25968 (\\N{CJK UNIFIED IDEOGRAPH-6570}) missing from current font.\n",
      "  fig.canvas.print_figure(bytes_io, **kw)\n",
      "F:\\anaconda\\lib\\site-packages\\IPython\\core\\pylabtools.py:151: UserWarning: Glyph 37327 (\\N{CJK UNIFIED IDEOGRAPH-91CF}) missing from current font.\n",
      "  fig.canvas.print_figure(bytes_io, **kw)\n",
      "F:\\anaconda\\lib\\site-packages\\IPython\\core\\pylabtools.py:151: UserWarning: Glyph 27010 (\\N{CJK UNIFIED IDEOGRAPH-6982}) missing from current font.\n",
      "  fig.canvas.print_figure(bytes_io, **kw)\n",
      "F:\\anaconda\\lib\\site-packages\\IPython\\core\\pylabtools.py:151: UserWarning: Glyph 29575 (\\N{CJK UNIFIED IDEOGRAPH-7387}) missing from current font.\n",
      "  fig.canvas.print_figure(bytes_io, **kw)\n",
      "F:\\anaconda\\lib\\site-packages\\IPython\\core\\pylabtools.py:151: UserWarning: Glyph 23494 (\\N{CJK UNIFIED IDEOGRAPH-5BC6}) missing from current font.\n",
      "  fig.canvas.print_figure(bytes_io, **kw)\n",
      "F:\\anaconda\\lib\\site-packages\\IPython\\core\\pylabtools.py:151: UserWarning: Glyph 24230 (\\N{CJK UNIFIED IDEOGRAPH-5EA6}) missing from current font.\n",
      "  fig.canvas.print_figure(bytes_io, **kw)\n",
      "F:\\anaconda\\lib\\site-packages\\IPython\\core\\pylabtools.py:151: UserWarning: Glyph 20998 (\\N{CJK UNIFIED IDEOGRAPH-5206}) missing from current font.\n",
      "  fig.canvas.print_figure(bytes_io, **kw)\n",
      "F:\\anaconda\\lib\\site-packages\\IPython\\core\\pylabtools.py:151: UserWarning: Glyph 24067 (\\N{CJK UNIFIED IDEOGRAPH-5E03}) missing from current font.\n",
      "  fig.canvas.print_figure(bytes_io, **kw)\n",
      "F:\\anaconda\\lib\\site-packages\\IPython\\core\\pylabtools.py:151: UserWarning: Glyph 22270 (\\N{CJK UNIFIED IDEOGRAPH-56FE}) missing from current font.\n",
      "  fig.canvas.print_figure(bytes_io, **kw)\n"
     ]
    },
    {
     "data": {
      "image/png": "[encoded data removed]",
      "text/plain": [
       "<Figure size 800x640 with 1 Axes>"
      ]
     },
     "metadata": {},
     "output_type": "display_data"
    }
   ],
   "source": [
    "plt.figure(figsize=(10, 8), dpi=80)\n",
    "sns.kdeplot(data.loc[:, \"商品销售数量\"],\n",
    "            shade=True,\n",
    "            color=\"#dc2624\",\n",
    "            label=\"商品销售数量\",\n",
    "            alpha=.7)\n",
    "#风格与装饰\n",
    "sns.set(style=\"whitegrid\", font_scale=1.1)\n",
    "plt.title(\"商品销售数量概率密度分布图\",fontsize=18)\n",
    "plt.yticks([])\n",
    "plt.xlim((-1,20))\n",
    "#plt.xlim((-1,5))\n",
    "plt.show()"
   ]
  },
  {
   "cell_type": "markdown",
   "id": "7c2c1c46",
   "metadata": {},
   "source": [
    "### 依据二：箱线图法则"
   ]
  },
  {
   "cell_type": "raw",
   "id": "c2938bb5",
   "metadata": {},
   "source": [
    "当任意样本的特定特征值超出 [QL-1.5*IQR, QU+1.5*IQR]时，则认为该样本的该特征值是异常值\n",
    "QL:下四分位数，QU：上四分位数，IQR：QU-QL"
   ]
  },
  {
   "cell_type": "code",
   "execution_count": 49,
   "id": "e27ffcb5",
   "metadata": {},
   "outputs": [],
   "source": [
    "# 进行异常值检测，并保存特征异常的样本的索引\n",
    "NumOfSamples = data.shape[0]\n",
    "DataNoAbnormal = data.copy()\n",
    "BoxAbnormalIdx = []  # 列表：用于保存特征异常的样本的索引\n",
    "for idx, column in enumerate(['订单金额','商品销售数量']):\n",
    "    feature = data[column]\n",
    "    QL = np.quantile(feature,0.25)\n",
    "    QU = np.quantile(feature,0.75)\n",
    "    IQR = QU - QL\n",
    "    # 过小或过大的都属于异常值\n",
    "    error = feature[((feature < (QL - 1.5*IQR)).astype(int) + (feature > (QU + 1.5*IQR)).astype(int)) != 0]\n",
    "    BoxAbnormalIdx.extend(error.index)"
   ]
  },
  {
   "cell_type": "code",
   "execution_count": 50,
   "id": "804d86b1",
   "metadata": {},
   "outputs": [
    {
     "data": {
      "text/plain": [
       "31266"
      ]
     },
     "execution_count": 50,
     "metadata": {},
     "output_type": "execute_result"
    }
   ],
   "source": [
    "len(BoxAbnormalIdx)"
   ]
  },
  {
   "cell_type": "code",
   "execution_count": 51,
   "id": "c1b8c3d5",
   "metadata": {},
   "outputs": [
    {
     "data": {
      "text/plain": [
       "29949"
      ]
     },
     "execution_count": 51,
     "metadata": {},
     "output_type": "execute_result"
    }
   ],
   "source": [
    "BoxAbnormalIdx = set(BoxAbnormalIdx)\n",
    "len(BoxAbnormalIdx)"
   ]
  },
  {
   "cell_type": "raw",
   "id": "33071266",
   "metadata": {},
   "source": [
    "31266 = \"订单金额\"的异常样本 + \"商品销售数量\"的异常样本 （两者之间含重叠）\n",
    "29949 = \"订单金额\"的异常样本 和 \"商品销售数量\"的异常样本 取并集 （去重）"
   ]
  },
  {
   "cell_type": "code",
   "execution_count": 52,
   "id": "e955506e",
   "metadata": {},
   "outputs": [
    {
     "data": {
      "text/plain": [
       "0.22812723754970216"
      ]
     },
     "execution_count": 52,
     "metadata": {},
     "output_type": "execute_result"
    }
   ],
   "source": [
    "len(BoxAbnormalIdx) / data.shape[0]"
   ]
  },
  {
   "cell_type": "raw",
   "id": "ffd4827d",
   "metadata": {},
   "source": [
    "异常值样本占总体样本的比例为22.8%，比例太高无法直接删除"
   ]
  },
  {
   "cell_type": "code",
   "execution_count": 53,
   "id": "bcf52c25",
   "metadata": {},
   "outputs": [
    {
     "data": {
      "text/plain": [
       "28284"
      ]
     },
     "execution_count": 53,
     "metadata": {},
     "output_type": "execute_result"
    }
   ],
   "source": [
    "(data['异常'] == 1).sum()"
   ]
  },
  {
   "cell_type": "code",
   "execution_count": 54,
   "id": "c3e465a5",
   "metadata": {},
   "outputs": [
    {
     "name": "stderr",
     "output_type": "stream",
     "text": [
      "C:\\Users\\zx\\AppData\\Local\\Temp\\ipykernel_5848\\3197636292.py:1: FutureWarning: Passing a set as an indexer is deprecated and will raise in a future version. Use a list instead.\n",
      "  (data.loc[BoxAbnormalIdx,\"异常\"] == 1).sum() / (data['异常'] == 1).sum()\n"
     ]
    },
    {
     "data": {
      "text/plain": [
       "0.2605006364022062"
      ]
     },
     "execution_count": 54,
     "metadata": {},
     "output_type": "execute_result"
    }
   ],
   "source": [
    "(data.loc[BoxAbnormalIdx,\"异常\"] == 1).sum() / (data['异常'] == 1).sum()"
   ]
  },
  {
   "cell_type": "raw",
   "id": "95fc5ceb",
   "metadata": {},
   "source": [
    "在交易异常的28284个样本中，根据箱线图法则下的异常特征样本就占26%，特征异常样本不能直接删除。\n",
    "\n",
    "既然不能删除，那特征异常的样本是否与交易异常有关系？"
   ]
  },
  {
   "cell_type": "code",
   "execution_count": 55,
   "id": "e6a9d5a7",
   "metadata": {},
   "outputs": [
    {
     "name": "stderr",
     "output_type": "stream",
     "text": [
      "C:\\Users\\zx\\AppData\\Local\\Temp\\ipykernel_5848\\765719540.py:3: FutureWarning: Passing a set as an indexer is deprecated and will raise in a future version. Use a list instead.\n",
      "  df.loc[BoxAbnormalIdx, '特征异常'] = 1\n"
     ]
    },
    {
     "data": {
      "text/html": [
       "<div>\n",
       "<style scoped>\n",
       "    .dataframe tbody tr th:only-of-type {\n",
       "        vertical-align: middle;\n",
       "    }\n",
       "\n",
       "    .dataframe tbody tr th {\n",
       "        vertical-align: top;\n",
       "    }\n",
       "\n",
       "    .dataframe thead th {\n",
       "        text-align: right;\n",
       "    }\n",
       "</style>\n",
       "<table border=\"1\" class=\"dataframe\">\n",
       "  <thead>\n",
       "    <tr style=\"text-align: right;\">\n",
       "      <th></th>\n",
       "      <th>特征异常</th>\n",
       "      <th>异常</th>\n",
       "    </tr>\n",
       "  </thead>\n",
       "  <tbody>\n",
       "    <tr>\n",
       "      <th>特征异常</th>\n",
       "      <td>1.000000</td>\n",
       "      <td>0.040428</td>\n",
       "    </tr>\n",
       "    <tr>\n",
       "      <th>异常</th>\n",
       "      <td>0.040428</td>\n",
       "      <td>1.000000</td>\n",
       "    </tr>\n",
       "  </tbody>\n",
       "</table>\n",
       "</div>"
      ],
      "text/plain": [
       "          特征异常        异常\n",
       "特征异常  1.000000  0.040428\n",
       "异常    0.040428  1.000000"
      ]
     },
     "execution_count": 55,
     "metadata": {},
     "output_type": "execute_result"
    }
   ],
   "source": [
    "df = pd.DataFrame(index=data.index)\n",
    "df['特征异常'] = 0  # 新增列\"特征异常\"，初始值为0\n",
    "df.loc[BoxAbnormalIdx, '特征异常'] = 1\n",
    "pd.concat([df['特征异常'],data['异常']],axis=1).corr()"
   ]
  },
  {
   "cell_type": "raw",
   "id": "0ce6a7be",
   "metadata": {},
   "source": [
    "特征异常与实际交易异常之间的相关系数R²=0.04，几乎不相关，可不使用这个特征。\n",
    "从电商业务角度来看，异常基本出现在用户支付大量金额、或一次性购入大量物品的时候，这些情况在电商交易流程中比较普遍，因此我们先不处理异常值，建模看看结果如何"
   ]
  },
  {
   "cell_type": "code",
   "execution_count": 56,
   "id": "31e90121",
   "metadata": {},
   "outputs": [
    {
     "data": {
      "text/html": [
       "<div>\n",
       "<style scoped>\n",
       "    .dataframe tbody tr th:only-of-type {\n",
       "        vertical-align: middle;\n",
       "    }\n",
       "\n",
       "    .dataframe tbody tr th {\n",
       "        vertical-align: top;\n",
       "    }\n",
       "\n",
       "    .dataframe thead th {\n",
       "        text-align: right;\n",
       "    }\n",
       "</style>\n",
       "<table border=\"1\" class=\"dataframe\">\n",
       "  <thead>\n",
       "    <tr style=\"text-align: right;\">\n",
       "      <th></th>\n",
       "      <th>订单ID</th>\n",
       "      <th>下单时间</th>\n",
       "      <th>商品一级类别</th>\n",
       "      <th>商品所属渠道</th>\n",
       "      <th>商品ID</th>\n",
       "      <th>品牌</th>\n",
       "      <th>订单金额</th>\n",
       "      <th>商品销售数量</th>\n",
       "      <th>订单渠道</th>\n",
       "      <th>支付方式</th>\n",
       "      <th>下单用户ID</th>\n",
       "      <th>城市</th>\n",
       "      <th>异常</th>\n",
       "    </tr>\n",
       "  </thead>\n",
       "  <tbody>\n",
       "    <tr>\n",
       "      <th>0</th>\n",
       "      <td>4283851335</td>\n",
       "      <td>14:09:49</td>\n",
       "      <td>手机摄影数码</td>\n",
       "      <td>POP</td>\n",
       "      <td>8002042497</td>\n",
       "      <td>三星</td>\n",
       "      <td>766000.0</td>\n",
       "      <td>200</td>\n",
       "      <td>主站</td>\n",
       "      <td>合并支付</td>\n",
       "      <td>dakehu_zy</td>\n",
       "      <td>上海市</td>\n",
       "      <td>1</td>\n",
       "    </tr>\n",
       "    <tr>\n",
       "      <th>1</th>\n",
       "      <td>4276537082</td>\n",
       "      <td>14:16:47</td>\n",
       "      <td>电视冰箱洗衣机空调</td>\n",
       "      <td>POP</td>\n",
       "      <td>8001992420</td>\n",
       "      <td>樱花</td>\n",
       "      <td>19900.0</td>\n",
       "      <td>100</td>\n",
       "      <td>主站</td>\n",
       "      <td>合并支付</td>\n",
       "      <td>qq-3be293b</td>\n",
       "      <td>泉州市</td>\n",
       "      <td>1</td>\n",
       "    </tr>\n",
       "    <tr>\n",
       "      <th>2</th>\n",
       "      <td>4281111595</td>\n",
       "      <td>10:44:46</td>\n",
       "      <td>家具建材</td>\n",
       "      <td>POP</td>\n",
       "      <td>8002199518</td>\n",
       "      <td>纬度空间</td>\n",
       "      <td>100.0</td>\n",
       "      <td>100</td>\n",
       "      <td>主站</td>\n",
       "      <td>合并支付</td>\n",
       "      <td>nonscorpio</td>\n",
       "      <td>广州市</td>\n",
       "      <td>1</td>\n",
       "    </tr>\n",
       "    <tr>\n",
       "      <th>3</th>\n",
       "      <td>3977175284</td>\n",
       "      <td>23:26:19</td>\n",
       "      <td>手机摄影数码</td>\n",
       "      <td>POP</td>\n",
       "      <td>8002237611</td>\n",
       "      <td>伊斯贝</td>\n",
       "      <td>990.0</td>\n",
       "      <td>100</td>\n",
       "      <td>主站</td>\n",
       "      <td>合并支付</td>\n",
       "      <td>swt6263122</td>\n",
       "      <td>宁德市</td>\n",
       "      <td>0</td>\n",
       "    </tr>\n",
       "    <tr>\n",
       "      <th>4</th>\n",
       "      <td>4106833871</td>\n",
       "      <td>16:47:34</td>\n",
       "      <td>家居日用</td>\n",
       "      <td>POP</td>\n",
       "      <td>8002212182</td>\n",
       "      <td>品道天元</td>\n",
       "      <td>8800.0</td>\n",
       "      <td>100</td>\n",
       "      <td>主站</td>\n",
       "      <td>合并支付</td>\n",
       "      <td>qq-edf69d7</td>\n",
       "      <td>深圳市</td>\n",
       "      <td>0</td>\n",
       "    </tr>\n",
       "  </tbody>\n",
       "</table>\n",
       "</div>"
      ],
      "text/plain": [
       "         订单ID      下单时间     商品一级类别 商品所属渠道        商品ID    品牌      订单金额  商品销售数量  \\\n",
       "0  4283851335  14:09:49     手机摄影数码    POP  8002042497    三星  766000.0     200   \n",
       "1  4276537082  14:16:47  电视冰箱洗衣机空调    POP  8001992420    樱花   19900.0     100   \n",
       "2  4281111595  10:44:46       家具建材    POP  8002199518  纬度空间     100.0     100   \n",
       "3  3977175284  23:26:19     手机摄影数码    POP  8002237611   伊斯贝     990.0     100   \n",
       "4  4106833871  16:47:34       家居日用    POP  8002212182  品道天元    8800.0     100   \n",
       "\n",
       "  订单渠道  支付方式      下单用户ID   城市  异常  \n",
       "0   主站  合并支付   dakehu_zy  上海市   1  \n",
       "1   主站  合并支付  qq-3be293b  泉州市   1  \n",
       "2   主站  合并支付  nonscorpio  广州市   1  \n",
       "3   主站  合并支付  swt6263122  宁德市   0  \n",
       "4   主站  合并支付  qq-edf69d7  深圳市   0  "
      ]
     },
     "execution_count": 56,
     "metadata": {},
     "output_type": "execute_result"
    }
   ],
   "source": [
    "data.head()"
   ]
  },
  {
   "cell_type": "code",
   "execution_count": 57,
   "id": "d74ff665",
   "metadata": {},
   "outputs": [],
   "source": [
    "data.to_csv('abnormal_orders2.csv')"
   ]
  },
  {
   "cell_type": "code",
   "execution_count": null,
   "id": "97bc3c2f",
   "metadata": {},
   "outputs": [],
   "source": []
  }
 ],
 "metadata": {
  "kernelspec": {
   "display_name": "Python [conda env:root] *",
   "language": "python",
   "name": "conda-root-py"
  },
  "language_info": {
   "codemirror_mode": {
    "name": "ipython",
    "version": 3
   },
   "file_extension": ".py",
   "mimetype": "text/x-python",
   "name": "python",
   "nbconvert_exporter": "python",
   "pygments_lexer": "ipython3",
   "version": "3.8.13"
  }
 },
 "nbformat": 4,
 "nbformat_minor": 5
}
